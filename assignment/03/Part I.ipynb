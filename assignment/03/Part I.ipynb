{
 "cells": [
  {
   "cell_type": "markdown",
   "metadata": {},
   "source": [
    "# Part I\n",
    "\n",
    "### Dynamic Programming For Cutting Problems\n",
    "\n",
    "My algorithm without dynamic programming: to maximize the revene, I need to try to get max value for each piece. So I calculate the rate first, then cut the rope by the order of rate ."
   ]
  },
  {
   "cell_type": "code",
   "execution_count": 1,
   "metadata": {},
   "outputs": [
    {
     "name": "stdout",
     "output_type": "stream",
     "text": [
      "original price: [30, 17, 8, 24, 5, 20, 17, 9, 10, 1]\n",
      "\n",
      "rate: [3.0, 2.8333333333333335, 2.6666666666666665, 2.6666666666666665, 2.5, 2.5, 2.4285714285714284, 2.25, 2.0, 1.0]\n",
      "\n",
      "pair: {1: 1, 5: 2, 8: 3, 9: 4, 10: 5, 17: 7, 20: 8, 24: 9, 30: 10}\n"
     ]
    }
   ],
   "source": [
    "original_price = [1, 5, 8, 9, 10, 17, 17, 20, 24, 30]\n",
    "dct = {}\n",
    "rate = []\n",
    "for i, j in enumerate(original_price):\n",
    "    rate.append(j / (i+1))\n",
    "    dct[j] = i + 1\n",
    "original_price = [x for x, _ in sorted(zip(original_price, rate), key=lambda x: x[1], reverse=True)]\n",
    "rate = sorted(rate, reverse=True)\n",
    "print(f\"original price: {original_price}\\n\")\n",
    "print(f'rate: {rate}\\n')\n",
    "print(f'pair: {dct}')"
   ]
  },
  {
   "cell_type": "code",
   "execution_count": 2,
   "metadata": {},
   "outputs": [],
   "source": [
    "def best_revenue(num):\n",
    "    lst = []\n",
    "    revenue = 0\n",
    "    while num > 0:\n",
    "        print(f'num: {num}')\n",
    "        for i in original_price:\n",
    "            print(f\"i: {i}\")\n",
    "            while num // dct[i] > 0:\n",
    "                print(num // dct[i])\n",
    "                lst.append(dct[i])\n",
    "                num -= dct[i]\n",
    "                print(f'num: {num}')\n",
    "                revenue += i\n",
    "    print(f'The cut path method is {lst} with revenue as {revenue}')"
   ]
  },
  {
   "cell_type": "code",
   "execution_count": 3,
   "metadata": {},
   "outputs": [
    {
     "name": "stdout",
     "output_type": "stream",
     "text": [
      "num: 119\n",
      "i: 30\n",
      "11\n",
      "num: 109\n",
      "10\n",
      "num: 99\n",
      "9\n",
      "num: 89\n",
      "8\n",
      "num: 79\n",
      "7\n",
      "num: 69\n",
      "6\n",
      "num: 59\n",
      "5\n",
      "num: 49\n",
      "4\n",
      "num: 39\n",
      "3\n",
      "num: 29\n",
      "2\n",
      "num: 19\n",
      "1\n",
      "num: 9\n",
      "i: 17\n",
      "1\n",
      "num: 2\n",
      "i: 8\n",
      "i: 24\n",
      "i: 5\n",
      "1\n",
      "num: 0\n",
      "i: 20\n",
      "i: 17\n",
      "i: 9\n",
      "i: 10\n",
      "i: 1\n",
      "The cut path method is [10, 10, 10, 10, 10, 10, 10, 10, 10, 10, 10, 7, 2] with revenue as 352\n"
     ]
    }
   ],
   "source": [
    "best_revenue(119)"
   ]
  },
  {
   "cell_type": "code",
   "execution_count": 4,
   "metadata": {},
   "outputs": [
    {
     "name": "stdout",
     "output_type": "stream",
     "text": [
      "num: 26\n",
      "i: 30\n",
      "2\n",
      "num: 16\n",
      "1\n",
      "num: 6\n",
      "i: 17\n",
      "i: 8\n",
      "2\n",
      "num: 3\n",
      "1\n",
      "num: 0\n",
      "i: 24\n",
      "i: 5\n",
      "i: 20\n",
      "i: 17\n",
      "i: 9\n",
      "i: 10\n",
      "i: 1\n",
      "The cut path method is [10, 10, 3, 3] with revenue as 76\n"
     ]
    }
   ],
   "source": [
    "best_revenue(26)"
   ]
  }
 ],
 "metadata": {
  "kernelspec": {
   "display_name": "Python 3",
   "language": "python",
   "name": "python3"
  },
  "language_info": {
   "codemirror_mode": {
    "name": "ipython",
    "version": 3
   },
   "file_extension": ".py",
   "mimetype": "text/x-python",
   "name": "python",
   "nbconvert_exporter": "python",
   "pygments_lexer": "ipython3",
   "version": "3.7.2"
  }
 },
 "nbformat": 4,
 "nbformat_minor": 2
}
