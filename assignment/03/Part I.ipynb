{
 "cells": [
  {
   "cell_type": "markdown",
   "metadata": {},
   "source": [
    "# Part I\n",
    "\n",
    "### Dynamic Programming For Cutting Problems\n",
    "\n",
    "**My algorithm without dynamic programming**: to maximize the revene, I need to try to get each piece with max value. So I calculate the rate first, then cut the rope follow the order of rate."
   ]
  },
  {
   "cell_type": "code",
   "execution_count": 1,
   "metadata": {},
   "outputs": [
    {
     "name": "stdout",
     "output_type": "stream",
     "text": [
      "original price: [30, 17, 8, 24, 5, 20, 17, 9, 10, 1]\n",
      "\n",
      "rate: [3.0, 2.8333333333333335, 2.6666666666666665, 2.6666666666666665, 2.5, 2.5, 2.4285714285714284, 2.25, 2.0, 1.0]\n",
      "\n",
      "pair: {1: 1, 5: 2, 8: 3, 9: 4, 10: 5, 17: 7, 20: 8, 24: 9, 30: 10}\n"
     ]
    }
   ],
   "source": [
    "original_price = [1, 5, 8, 9, 10, 17, 17, 20, 24, 30]\n",
    "dct = {}\n",
    "rate = []\n",
    "for i, j in enumerate(original_price):\n",
    "    rate.append(j / (i+1))\n",
    "    dct[j] = i + 1\n",
    "original_price = [x for x, _ in sorted(zip(original_price, rate), key=lambda x: x[1], reverse=True)]\n",
    "rate = sorted(rate, reverse=True)\n",
    "print(f\"original price: {original_price}\\n\")\n",
    "print(f'rate: {rate}\\n')\n",
    "print(f'pair: {dct}')"
   ]
  },
  {
   "cell_type": "code",
   "execution_count": 2,
   "metadata": {},
   "outputs": [],
   "source": [
    "def best_revenue(num):\n",
    "    lst = []\n",
    "    revenue = 0\n",
    "    while num > 0:\n",
    "        print(f'initial num: {num}')\n",
    "        for i in original_price:\n",
    "            print(f\"current i is {i}.\")\n",
    "            while num // dct[i] > 0:\n",
    "                lst.append(dct[i])\n",
    "                num -= dct[i]\n",
    "                print(f'new num is {num}, subtract {dct[i]}.')\n",
    "                revenue += i\n",
    "    print(f'The cut method is {lst} with revenue {revenue}')"
   ]
  },
  {
   "cell_type": "code",
   "execution_count": 3,
   "metadata": {},
   "outputs": [
    {
     "name": "stdout",
     "output_type": "stream",
     "text": [
      "initial num: 119\n",
      "current i is 30.\n",
      "new num is 109, subtract 10.\n",
      "new num is 99, subtract 10.\n",
      "new num is 89, subtract 10.\n",
      "new num is 79, subtract 10.\n",
      "new num is 69, subtract 10.\n",
      "new num is 59, subtract 10.\n",
      "new num is 49, subtract 10.\n",
      "new num is 39, subtract 10.\n",
      "new num is 29, subtract 10.\n",
      "new num is 19, subtract 10.\n",
      "new num is 9, subtract 10.\n",
      "current i is 17.\n",
      "new num is 2, subtract 7.\n",
      "current i is 8.\n",
      "current i is 24.\n",
      "current i is 5.\n",
      "new num is 0, subtract 2.\n",
      "current i is 20.\n",
      "current i is 17.\n",
      "current i is 9.\n",
      "current i is 10.\n",
      "current i is 1.\n",
      "The cut method is [10, 10, 10, 10, 10, 10, 10, 10, 10, 10, 10, 7, 2] with revenue 352\n"
     ]
    }
   ],
   "source": [
    "best_revenue(119)"
   ]
  },
  {
   "cell_type": "code",
   "execution_count": 4,
   "metadata": {},
   "outputs": [
    {
     "name": "stdout",
     "output_type": "stream",
     "text": [
      "initial num: 26\n",
      "current i is 30.\n",
      "new num is 16, subtract 10.\n",
      "new num is 6, subtract 10.\n",
      "current i is 17.\n",
      "current i is 8.\n",
      "new num is 3, subtract 3.\n",
      "new num is 0, subtract 3.\n",
      "current i is 24.\n",
      "current i is 5.\n",
      "current i is 20.\n",
      "current i is 17.\n",
      "current i is 9.\n",
      "current i is 10.\n",
      "current i is 1.\n",
      "The cut method is [10, 10, 3, 3] with revenue 76\n"
     ]
    }
   ],
   "source": [
    "best_revenue(26)"
   ]
  }
 ],
 "metadata": {
  "kernelspec": {
   "display_name": "Python 3",
   "language": "python",
   "name": "python3"
  },
  "language_info": {
   "codemirror_mode": {
    "name": "ipython",
    "version": 3
   },
   "file_extension": ".py",
   "mimetype": "text/x-python",
   "name": "python",
   "nbconvert_exporter": "python",
   "pygments_lexer": "ipython3",
   "version": "3.7.2"
  }
 },
 "nbformat": 4,
 "nbformat_minor": 2
}
