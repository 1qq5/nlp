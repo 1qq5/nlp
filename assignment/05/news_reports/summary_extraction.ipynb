{
 "cells": [
  {
   "cell_type": "code",
   "execution_count": 8,
   "metadata": {},
   "outputs": [],
   "source": [
    "from summa.summarizer import summarize\n",
    "import pandas as pd\n",
    "import os\n",
    "os.chdir('/Users/wenjiazhai/Documents/GitHub/nlp/assignment/05/news_reports')"
   ]
  },
  {
   "cell_type": "code",
   "execution_count": 6,
   "metadata": {},
   "outputs": [
    {
     "name": "stdout",
     "output_type": "stream",
     "text": [
      "context.txt                           word2vec.ipynb\r\n",
      "info_extraction.ipynb                 word2vec_model\r\n",
      "\u001b[1m\u001b[36mnews_reports\u001b[m\u001b[m                          word2vec_model.trainables.syn1neg.npy\r\n",
      "pyltp.ipynb                           word2vec_model.wv.vectors.npy\r\n"
     ]
    }
   ],
   "source": [
    "!ls"
   ]
  },
  {
   "cell_type": "code",
   "execution_count": 9,
   "metadata": {},
   "outputs": [],
   "source": [
    "contents = pd.read_csv('Washington_post.csv')"
   ]
  },
  {
   "cell_type": "code",
   "execution_count": 12,
   "metadata": {
    "scrolled": true
   },
   "outputs": [
    {
     "data": {
      "text/html": [
       "<div>\n",
       "<style scoped>\n",
       "    .dataframe tbody tr th:only-of-type {\n",
       "        vertical-align: middle;\n",
       "    }\n",
       "\n",
       "    .dataframe tbody tr th {\n",
       "        vertical-align: top;\n",
       "    }\n",
       "\n",
       "    .dataframe thead th {\n",
       "        text-align: right;\n",
       "    }\n",
       "</style>\n",
       "<table border=\"1\" class=\"dataframe\">\n",
       "  <thead>\n",
       "    <tr style=\"text-align: right;\">\n",
       "      <th></th>\n",
       "      <th>Unnamed: 0</th>\n",
       "      <th>title</th>\n",
       "      <th>content</th>\n",
       "    </tr>\n",
       "  </thead>\n",
       "  <tbody>\n",
       "    <tr>\n",
       "      <td>0</td>\n",
       "      <td>0</td>\n",
       "      <td>['Officers on horseback led a black suspect th...</td>\n",
       "      <td>In a pair of photos, two white lawmen atop hor...</td>\n",
       "    </tr>\n",
       "    <tr>\n",
       "      <td>1</td>\n",
       "      <td>1</td>\n",
       "      <td>['Opinion | D.C. has gone too far on criminal-...</td>\n",
       "      <td>POLICYMAKERS ACROSS the country have assailed ...</td>\n",
       "    </tr>\n",
       "    <tr>\n",
       "      <td>2</td>\n",
       "      <td>2</td>\n",
       "      <td>['Opinion | A smart way to keep Putin out of t...</td>\n",
       "      <td>THERE IS a lot Congress could do to better pro...</td>\n",
       "    </tr>\n",
       "    <tr>\n",
       "      <td>3</td>\n",
       "      <td>3</td>\n",
       "      <td>['Opinion | President Trump makes it all worse...</td>\n",
       "      <td>WE KNOW by now not to waste time calling on Pr...</td>\n",
       "    </tr>\n",
       "    <tr>\n",
       "      <td>4</td>\n",
       "      <td>4</td>\n",
       "      <td>['Opinion | A Chinese dissident jailed for cri...</td>\n",
       "      <td>HUANG QI, one of China’s most prominent human ...</td>\n",
       "    </tr>\n",
       "  </tbody>\n",
       "</table>\n",
       "</div>"
      ],
      "text/plain": [
       "   Unnamed: 0                                              title  \\\n",
       "0           0  ['Officers on horseback led a black suspect th...   \n",
       "1           1  ['Opinion | D.C. has gone too far on criminal-...   \n",
       "2           2  ['Opinion | A smart way to keep Putin out of t...   \n",
       "3           3  ['Opinion | President Trump makes it all worse...   \n",
       "4           4  ['Opinion | A Chinese dissident jailed for cri...   \n",
       "\n",
       "                                             content  \n",
       "0  In a pair of photos, two white lawmen atop hor...  \n",
       "1  POLICYMAKERS ACROSS the country have assailed ...  \n",
       "2  THERE IS a lot Congress could do to better pro...  \n",
       "3  WE KNOW by now not to waste time calling on Pr...  \n",
       "4  HUANG QI, one of China’s most prominent human ...  "
      ]
     },
     "execution_count": 12,
     "metadata": {},
     "output_type": "execute_result"
    }
   ],
   "source": [
    "contents.head()"
   ]
  },
  {
   "cell_type": "code",
   "execution_count": 13,
   "metadata": {},
   "outputs": [],
   "source": [
    "text = contents['content']"
   ]
  },
  {
   "cell_type": "code",
   "execution_count": 19,
   "metadata": {
    "scrolled": true
   },
   "outputs": [
    {
     "name": "stdout",
     "output_type": "stream",
     "text": [
      "(KPRC)  But it was Saturday in the island city Galveston, Tex., and officers arrested Donald Neely on suspicion of criminal trespassing.\n",
      "The officers trained in the arrest technique for crowd control and other scenarios, Hale said, but the public blowback led the department to rethink how the practice was applied to a sole suspect amid a national discussion about police treatment of African Americans.\n",
      "It was unclear what circumstances led to Neely’s arrest, although the department said he had been warned not to trespass several times at 306 22nd St., an office building that includes space for the investment firm Merrill Lynch.\n",
      "Police said Neely was being led to 21st and Market — about a block away from where he was allegedly trespassing, although police did not say whether that is where they arrested him.\n"
     ]
    }
   ],
   "source": [
    "print(summarize(text[0], ratio=0.15))"
   ]
  },
  {
   "cell_type": "code",
   "execution_count": 15,
   "metadata": {},
   "outputs": [
    {
     "data": {
      "text/plain": [
       "'In a pair of photos, two white lawmen atop horses guide a bound black man with a rope down a wide and empty street. If it weren’t for the cars and pavement, a quick glance may lead to the conclusion that they were colorized plates from the antebellum South.    Police lead Donald Neely through Galveston, Tex. (KPRC)  But it was Saturday in the island city Galveston, Tex., and officers arrested Donald Neely on suspicion of criminal trespassing. They had horses, and a rope, but no patrol car to take Neely away. The officers attached the blue rope onto his handcuffs, and Neely, 43, was led to a mounted officer staging area. Bystander photos from the arrest went viral across social media, with many African Americans saying the photos were reminiscent of captured slaves in the 1800s. The outcry prompted an apology on Monday from Galveston Chief Vernon L. Hale III, who called the arrest an “unnecessary embarrassment” for Neely. “I believe our officers showed poor judgment in this instance and could have waited for a transport unit at the location of the arrest,” Hale said in a statement. The officers did not have “malicious intent,” Hale said. The officers trained in the arrest technique for crowd control and other scenarios, Hale said, but the public blowback led the department to rethink how the practice was applied to a sole suspect amid a national discussion about police treatment of African Americans. “We understand the negative perception of this action and believe it is most appropriate to cease the use of this technique,” the department said on Facebook. A cellphone video posted later showed police removing what appeared to be a bag on Neely’s head as he walked. Police told local media it was a welding mask that belongs to him.  Neely was freed on bond, the Associated Press reported. He does not have a listed number and could not be reached to comment. His family’s attorney did not immediately respond to a request for comment, but told KPRC that she was appalled by the arrest. “I believe the way they handled him was disgusting,” she said. “The family is offended. The family is upset.” Police laughed and joked as he lost consciousness in handcuffs. Minutes later, he died. The department identified the officers only by their first initials and last names, P. Brosch and A. Smith. It is unclear whether they will face an investigation or administrative review. The department did not return a request for comment. Their body-worn cameras were activated during the arrest, the department said. It was unclear what circumstances led to Neely’s arrest, although the department said he had been warned not to trespass several times at 306 22nd St., an office building that includes space for the investment firm Merrill Lynch. It was also unclear why the officers used the rope arrest in the first place. Police said Neely was being led to 21st and Market — about a block away from where he was allegedly trespassing, although police did not say whether that is where they arrested him. '"
      ]
     },
     "execution_count": 15,
     "metadata": {},
     "output_type": "execute_result"
    }
   ],
   "source": [
    "text[0]"
   ]
  }
 ],
 "metadata": {
  "kernelspec": {
   "display_name": "Python 3",
   "language": "python",
   "name": "python3"
  },
  "language_info": {
   "codemirror_mode": {
    "name": "ipython",
    "version": 3
   },
   "file_extension": ".py",
   "mimetype": "text/x-python",
   "name": "python",
   "nbconvert_exporter": "python",
   "pygments_lexer": "ipython3",
   "version": "3.7.3"
  }
 },
 "nbformat": 4,
 "nbformat_minor": 2
}
