{
 "cells": [
  {
   "cell_type": "markdown",
   "metadata": {},
   "source": [
    "# try out Stanford CoreNLP"
   ]
  },
  {
   "cell_type": "code",
   "execution_count": 7,
   "metadata": {},
   "outputs": [
    {
     "name": "stdout",
     "output_type": "stream",
     "text": [
      "Annotate: {'sentences': [{'index': 0, 'parse': '(ROOT\\n  (S\\n    (NP (DT A) (NN blog))\\n    (VP (NN post)\\n      (S\\n        (VP (VBG using)\\n          (NP (NNP Stanford) (NNP CoreNLP) (NN Server)))))\\n    (. .)))', 'basicDependencies': [{'dep': 'ROOT', 'governor': 0, 'governorGloss': 'ROOT', 'dependent': 3, 'dependentGloss': 'post'}, {'dep': 'det', 'governor': 3, 'governorGloss': 'post', 'dependent': 1, 'dependentGloss': 'A'}, {'dep': 'compound', 'governor': 3, 'governorGloss': 'post', 'dependent': 2, 'dependentGloss': 'blog'}, {'dep': 'acl', 'governor': 3, 'governorGloss': 'post', 'dependent': 4, 'dependentGloss': 'using'}, {'dep': 'compound', 'governor': 7, 'governorGloss': 'Server', 'dependent': 5, 'dependentGloss': 'Stanford'}, {'dep': 'compound', 'governor': 7, 'governorGloss': 'Server', 'dependent': 6, 'dependentGloss': 'CoreNLP'}, {'dep': 'dobj', 'governor': 4, 'governorGloss': 'using', 'dependent': 7, 'dependentGloss': 'Server'}, {'dep': 'punct', 'governor': 3, 'governorGloss': 'post', 'dependent': 8, 'dependentGloss': '.'}], 'enhancedDependencies': [{'dep': 'ROOT', 'governor': 0, 'governorGloss': 'ROOT', 'dependent': 3, 'dependentGloss': 'post'}, {'dep': 'det', 'governor': 3, 'governorGloss': 'post', 'dependent': 1, 'dependentGloss': 'A'}, {'dep': 'compound', 'governor': 3, 'governorGloss': 'post', 'dependent': 2, 'dependentGloss': 'blog'}, {'dep': 'acl', 'governor': 3, 'governorGloss': 'post', 'dependent': 4, 'dependentGloss': 'using'}, {'dep': 'compound', 'governor': 7, 'governorGloss': 'Server', 'dependent': 5, 'dependentGloss': 'Stanford'}, {'dep': 'compound', 'governor': 7, 'governorGloss': 'Server', 'dependent': 6, 'dependentGloss': 'CoreNLP'}, {'dep': 'dobj', 'governor': 4, 'governorGloss': 'using', 'dependent': 7, 'dependentGloss': 'Server'}, {'dep': 'punct', 'governor': 3, 'governorGloss': 'post', 'dependent': 8, 'dependentGloss': '.'}], 'enhancedPlusPlusDependencies': [{'dep': 'ROOT', 'governor': 0, 'governorGloss': 'ROOT', 'dependent': 3, 'dependentGloss': 'post'}, {'dep': 'det', 'governor': 3, 'governorGloss': 'post', 'dependent': 1, 'dependentGloss': 'A'}, {'dep': 'compound', 'governor': 3, 'governorGloss': 'post', 'dependent': 2, 'dependentGloss': 'blog'}, {'dep': 'acl', 'governor': 3, 'governorGloss': 'post', 'dependent': 4, 'dependentGloss': 'using'}, {'dep': 'compound', 'governor': 7, 'governorGloss': 'Server', 'dependent': 5, 'dependentGloss': 'Stanford'}, {'dep': 'compound', 'governor': 7, 'governorGloss': 'Server', 'dependent': 6, 'dependentGloss': 'CoreNLP'}, {'dep': 'dobj', 'governor': 4, 'governorGloss': 'using', 'dependent': 7, 'dependentGloss': 'Server'}, {'dep': 'punct', 'governor': 3, 'governorGloss': 'post', 'dependent': 8, 'dependentGloss': '.'}], 'entitymentions': [{'docTokenBegin': 4, 'docTokenEnd': 5, 'tokenBegin': 4, 'tokenEnd': 5, 'text': 'Stanford', 'characterOffsetBegin': 18, 'characterOffsetEnd': 26, 'ner': 'ORGANIZATION'}], 'tokens': [{'index': 1, 'word': 'A', 'originalText': 'A', 'lemma': 'a', 'characterOffsetBegin': 0, 'characterOffsetEnd': 1, 'pos': 'DT', 'ner': 'O', 'speaker': 'PER0', 'before': '', 'after': ' '}, {'index': 2, 'word': 'blog', 'originalText': 'blog', 'lemma': 'blog', 'characterOffsetBegin': 2, 'characterOffsetEnd': 6, 'pos': 'NN', 'ner': 'O', 'speaker': 'PER0', 'before': ' ', 'after': ' '}, {'index': 3, 'word': 'post', 'originalText': 'post', 'lemma': 'post', 'characterOffsetBegin': 7, 'characterOffsetEnd': 11, 'pos': 'NN', 'ner': 'O', 'speaker': 'PER0', 'before': ' ', 'after': ' '}, {'index': 4, 'word': 'using', 'originalText': 'using', 'lemma': 'use', 'characterOffsetBegin': 12, 'characterOffsetEnd': 17, 'pos': 'VBG', 'ner': 'O', 'speaker': 'PER0', 'before': ' ', 'after': ' '}, {'index': 5, 'word': 'Stanford', 'originalText': 'Stanford', 'lemma': 'Stanford', 'characterOffsetBegin': 18, 'characterOffsetEnd': 26, 'pos': 'NNP', 'ner': 'ORGANIZATION', 'speaker': 'PER0', 'before': ' ', 'after': ' '}, {'index': 6, 'word': 'CoreNLP', 'originalText': 'CoreNLP', 'lemma': 'CoreNLP', 'characterOffsetBegin': 27, 'characterOffsetEnd': 34, 'pos': 'NNP', 'ner': 'O', 'speaker': 'PER0', 'before': ' ', 'after': ' '}, {'index': 7, 'word': 'Server', 'originalText': 'Server', 'lemma': 'server', 'characterOffsetBegin': 35, 'characterOffsetEnd': 41, 'pos': 'NN', 'ner': 'O', 'speaker': 'PER0', 'before': ' ', 'after': ''}, {'index': 8, 'word': '.', 'originalText': '.', 'lemma': '.', 'characterOffsetBegin': 41, 'characterOffsetEnd': 42, 'pos': '.', 'ner': 'O', 'speaker': 'PER0', 'before': '', 'after': ' '}]}, {'index': 1, 'parse': '(ROOT\\n  (NP\\n    (NP (NN Visit) (NN www.khalidalnajjar.com))\\n    (PP (IN for)\\n      (NP (JJR more) (NNS details)))\\n    (. .)))', 'basicDependencies': [{'dep': 'ROOT', 'governor': 0, 'governorGloss': 'ROOT', 'dependent': 2, 'dependentGloss': 'www.khalidalnajjar.com'}, {'dep': 'compound', 'governor': 2, 'governorGloss': 'www.khalidalnajjar.com', 'dependent': 1, 'dependentGloss': 'Visit'}, {'dep': 'case', 'governor': 5, 'governorGloss': 'details', 'dependent': 3, 'dependentGloss': 'for'}, {'dep': 'amod', 'governor': 5, 'governorGloss': 'details', 'dependent': 4, 'dependentGloss': 'more'}, {'dep': 'nmod', 'governor': 2, 'governorGloss': 'www.khalidalnajjar.com', 'dependent': 5, 'dependentGloss': 'details'}, {'dep': 'punct', 'governor': 2, 'governorGloss': 'www.khalidalnajjar.com', 'dependent': 6, 'dependentGloss': '.'}], 'enhancedDependencies': [{'dep': 'ROOT', 'governor': 0, 'governorGloss': 'ROOT', 'dependent': 2, 'dependentGloss': 'www.khalidalnajjar.com'}, {'dep': 'compound', 'governor': 2, 'governorGloss': 'www.khalidalnajjar.com', 'dependent': 1, 'dependentGloss': 'Visit'}, {'dep': 'case', 'governor': 5, 'governorGloss': 'details', 'dependent': 3, 'dependentGloss': 'for'}, {'dep': 'amod', 'governor': 5, 'governorGloss': 'details', 'dependent': 4, 'dependentGloss': 'more'}, {'dep': 'nmod:for', 'governor': 2, 'governorGloss': 'www.khalidalnajjar.com', 'dependent': 5, 'dependentGloss': 'details'}, {'dep': 'punct', 'governor': 2, 'governorGloss': 'www.khalidalnajjar.com', 'dependent': 6, 'dependentGloss': '.'}], 'enhancedPlusPlusDependencies': [{'dep': 'ROOT', 'governor': 0, 'governorGloss': 'ROOT', 'dependent': 2, 'dependentGloss': 'www.khalidalnajjar.com'}, {'dep': 'compound', 'governor': 2, 'governorGloss': 'www.khalidalnajjar.com', 'dependent': 1, 'dependentGloss': 'Visit'}, {'dep': 'case', 'governor': 5, 'governorGloss': 'details', 'dependent': 3, 'dependentGloss': 'for'}, {'dep': 'amod', 'governor': 5, 'governorGloss': 'details', 'dependent': 4, 'dependentGloss': 'more'}, {'dep': 'nmod:for', 'governor': 2, 'governorGloss': 'www.khalidalnajjar.com', 'dependent': 5, 'dependentGloss': 'details'}, {'dep': 'punct', 'governor': 2, 'governorGloss': 'www.khalidalnajjar.com', 'dependent': 6, 'dependentGloss': '.'}], 'entitymentions': [{'docTokenBegin': 9, 'docTokenEnd': 10, 'tokenBegin': 1, 'tokenEnd': 2, 'text': 'www.khalidalnajjar.com', 'characterOffsetBegin': 49, 'characterOffsetEnd': 71, 'ner': 'URL'}], 'tokens': [{'index': 1, 'word': 'Visit', 'originalText': 'Visit', 'lemma': 'visit', 'characterOffsetBegin': 43, 'characterOffsetEnd': 48, 'pos': 'NN', 'ner': 'O', 'speaker': 'PER0', 'before': ' ', 'after': ' '}, {'index': 2, 'word': 'www.khalidalnajjar.com', 'originalText': 'www.khalidalnajjar.com', 'lemma': 'www.khalidalnajjar.com', 'characterOffsetBegin': 49, 'characterOffsetEnd': 71, 'pos': 'NN', 'ner': 'URL', 'speaker': 'PER0', 'before': ' ', 'after': ' '}, {'index': 3, 'word': 'for', 'originalText': 'for', 'lemma': 'for', 'characterOffsetBegin': 72, 'characterOffsetEnd': 75, 'pos': 'IN', 'ner': 'O', 'speaker': 'PER0', 'before': ' ', 'after': ' '}, {'index': 4, 'word': 'more', 'originalText': 'more', 'lemma': 'more', 'characterOffsetBegin': 76, 'characterOffsetEnd': 80, 'pos': 'JJR', 'ner': 'O', 'speaker': 'PER0', 'before': ' ', 'after': ' '}, {'index': 5, 'word': 'details', 'originalText': 'details', 'lemma': 'detail', 'characterOffsetBegin': 81, 'characterOffsetEnd': 88, 'pos': 'NNS', 'ner': 'O', 'speaker': 'PER0', 'before': ' ', 'after': ''}, {'index': 6, 'word': '.', 'originalText': '.', 'lemma': '.', 'characterOffsetBegin': 88, 'characterOffsetEnd': 89, 'pos': '.', 'ner': 'O', 'speaker': 'PER0', 'before': '', 'after': ''}]}], 'corefs': {'1': [{'id': 1, 'text': 'Stanford', 'type': 'PROPER', 'number': 'UNKNOWN', 'gender': 'NEUTRAL', 'animacy': 'INANIMATE', 'startIndex': 5, 'endIndex': 6, 'headIndex': 5, 'sentNum': 1, 'position': [1, 3], 'isRepresentativeMention': True}], '2': [{'id': 2, 'text': 'A blog', 'type': 'NOMINAL', 'number': 'SINGULAR', 'gender': 'UNKNOWN', 'animacy': 'INANIMATE', 'startIndex': 1, 'endIndex': 3, 'headIndex': 2, 'sentNum': 1, 'position': [1, 1], 'isRepresentativeMention': True}], '3': [{'id': 3, 'text': 'Stanford CoreNLP Server', 'type': 'NOMINAL', 'number': 'SINGULAR', 'gender': 'NEUTRAL', 'animacy': 'INANIMATE', 'startIndex': 5, 'endIndex': 8, 'headIndex': 7, 'sentNum': 1, 'position': [1, 2], 'isRepresentativeMention': True}], '4': [{'id': 4, 'text': 'Visit www.khalidalnajjar.com for more details .', 'type': 'NOMINAL', 'number': 'SINGULAR', 'gender': 'UNKNOWN', 'animacy': 'UNKNOWN', 'startIndex': 1, 'endIndex': 7, 'headIndex': 2, 'sentNum': 2, 'position': [2, 1], 'isRepresentativeMention': True}], '5': [{'id': 5, 'text': 'more details', 'type': 'NOMINAL', 'number': 'PLURAL', 'gender': 'UNKNOWN', 'animacy': 'INANIMATE', 'startIndex': 4, 'endIndex': 6, 'headIndex': 5, 'sentNum': 2, 'position': [2, 2], 'isRepresentativeMention': True}]}}\n",
      "POS: [('A', 'DT'), ('blog', 'NN'), ('post', 'NN'), ('using', 'VBG'), ('Stanford', 'NNP'), ('CoreNLP', 'NNP'), ('Server', 'NN'), ('.', '.'), ('Visit', 'NN'), ('www.khalidalnajjar.com', 'NN'), ('for', 'IN'), ('more', 'JJR'), ('details', 'NNS'), ('.', '.')]\n",
      "Tokens: ['A', 'blog', 'post', 'using', 'Stanford', 'CoreNLP', 'Server', '.', 'Visit', 'www.khalidalnajjar.com', 'for', 'more', 'details', '.']\n"
     ]
    },
    {
     "name": "stdout",
     "output_type": "stream",
     "text": [
      "NER: [('A', 'O'), ('blog', 'O'), ('post', 'O'), ('using', 'O'), ('Stanford', 'ORGANIZATION'), ('CoreNLP', 'O'), ('Server', 'O'), ('.', 'O'), ('Visit', 'O'), ('www.khalidalnajjar.com', 'URL'), ('for', 'O'), ('more', 'O'), ('details', 'O'), ('.', 'O')]\n",
      "Parse: (ROOT\n",
      "  (S\n",
      "    (NP (DT A) (NN blog))\n",
      "    (VP (NN post)\n",
      "      (S\n",
      "        (VP (VBG using)\n",
      "          (NP (NNP Stanford) (NNP CoreNLP) (NN Server)))))\n",
      "    (. .)))\n",
      "Dep Parse: [('ROOT', 0, 3), ('det', 3, 1), ('compound', 3, 2), ('acl', 3, 4), ('compound', 7, 5), ('compound', 7, 6), ('dobj', 4, 7), ('punct', 3, 8), ('ROOT', 0, 2), ('compound', 2, 1), ('case', 5, 3), ('amod', 5, 4), ('nmod', 2, 5), ('punct', 2, 6)]\n"
     ]
    }
   ],
   "source": [
    "'''\n",
    "A sample code usage of the python package stanfordcorenlp to access a Stanford CoreNLP server.\n",
    "Written as part of the blog post: https://www.khalidalnajjar.com/how-to-setup-and-use-stanford-corenlp-server-with-python/ \n",
    "'''\n",
    "\n",
    "from stanfordcorenlp import StanfordCoreNLP\n",
    "import logging\n",
    "import json\n",
    "\n",
    "class StanfordNLP:\n",
    "    def __init__(self, host='http://localhost', port=9000):\n",
    "        self.nlp = StanfordCoreNLP(host, port=port,\n",
    "                                   timeout=30000)  # , quiet=False, logging_level=logging.DEBUG)\n",
    "        self.props = {\n",
    "            'annotators': 'tokenize,ssplit,pos,lemma,ner,parse,depparse,dcoref,relation',\n",
    "            'pipelineLanguage': 'en',\n",
    "            'outputFormat': 'json'\n",
    "        }\n",
    "\n",
    "    def word_tokenize(self, sentence):\n",
    "        return self.nlp.word_tokenize(sentence)\n",
    "\n",
    "    def pos(self, sentence):\n",
    "        return self.nlp.pos_tag(sentence)\n",
    "\n",
    "    def ner(self, sentence):\n",
    "        return self.nlp.ner(sentence)\n",
    "\n",
    "    def parse(self, sentence):\n",
    "        return self.nlp.parse(sentence)\n",
    "\n",
    "    def dependency_parse(self, sentence):\n",
    "        return self.nlp.dependency_parse(sentence)\n",
    "\n",
    "    def annotate(self, sentence):\n",
    "        return json.loads(self.nlp.annotate(sentence, properties=self.props))\n",
    "\n",
    "    @staticmethod\n",
    "    def tokens_to_dict(_tokens):\n",
    "        tokens = defaultdict(dict)\n",
    "        for token in _tokens:\n",
    "            tokens[int(token['index'])] = {\n",
    "                'word': token['word'],\n",
    "                'lemma': token['lemma'],\n",
    "                'pos': token['pos'],\n",
    "                'ner': token['ner']\n",
    "            }\n",
    "        return tokens\n",
    "\n",
    "if __name__ == '__main__':\n",
    "    sNLP = StanfordNLP()\n",
    "#     text = '今天天气不错'\n",
    "    text = 'A blog post using Stanford CoreNLP Server. Visit www.khalidalnajjar.com for more details.'\n",
    "print(\"Annotate:\", sNLP.annotate(text))\n",
    "print(\"POS:\", sNLP.pos(text))\n",
    "print(\"Tokens:\", sNLP.word_tokenize(text))\n",
    "print(\"NER:\", sNLP.ner(text))\n",
    "print(\"Parse:\", sNLP.parse(text))\n",
    "print(\"Dep Parse:\", sNLP.dependency_parse(text))"
   ]
  },
  {
   "cell_type": "code",
   "execution_count": 1,
   "metadata": {},
   "outputs": [
    {
     "ename": "ModuleNotFoundError",
     "evalue": "No module named 'corenlp'",
     "output_type": "error",
     "traceback": [
      "\u001b[0;31m---------------------------------------------------------------------------\u001b[0m",
      "\u001b[0;31mModuleNotFoundError\u001b[0m                       Traceback (most recent call last)",
      "\u001b[0;32m<ipython-input-1-d2b1af8f48ad>\u001b[0m in \u001b[0;36m<module>\u001b[0;34m\u001b[0m\n\u001b[0;32m----> 1\u001b[0;31m \u001b[0;32mimport\u001b[0m \u001b[0mcorenlp\u001b[0m\u001b[0;34m\u001b[0m\u001b[0;34m\u001b[0m\u001b[0m\n\u001b[0m\u001b[1;32m      2\u001b[0m \u001b[0;34m\u001b[0m\u001b[0m\n\u001b[1;32m      3\u001b[0m \u001b[0;34m\u001b[0m\u001b[0m\n\u001b[1;32m      4\u001b[0m \u001b[0;31m# text = u'今天是一个大晴天'\u001b[0m\u001b[0;34m\u001b[0m\u001b[0;34m\u001b[0m\u001b[0;34m\u001b[0m\u001b[0m\n\u001b[1;32m      5\u001b[0m \u001b[0mtext\u001b[0m \u001b[0;34m=\u001b[0m \u001b[0;34m'A blog post using Stanford CoreNLP Server. Visit www.khalidalnajjar.com for more details.'\u001b[0m\u001b[0;34m\u001b[0m\u001b[0;34m\u001b[0m\u001b[0m\n",
      "\u001b[0;31mModuleNotFoundError\u001b[0m: No module named 'corenlp'"
     ]
    }
   ],
   "source": [
    "import corenlp\n",
    "\n",
    "\n",
    "# text = u'今天是一个大晴天'\n",
    "text = 'A blog post using Stanford CoreNLP Server. Visit www.khalidalnajjar.com for more details.'\n",
    "\n",
    "with corenlp.CoreNLPClient(annotators='tokenize ssplit pos'.split()) as client:\n",
    "    ann = client.annotate(text)\n",
    "    sentence = ann.sentence[0]\n",
    "\n",
    "    for token in sentence.token:\n",
    "        print(token.word, token.pos)"
   ]
  }
 ],
 "metadata": {
  "kernelspec": {
   "display_name": "Python 3",
   "language": "python",
   "name": "python3"
  },
  "language_info": {
   "codemirror_mode": {
    "name": "ipython",
    "version": 3
   },
   "file_extension": ".py",
   "mimetype": "text/x-python",
   "name": "python",
   "nbconvert_exporter": "python",
   "pygments_lexer": "ipython3",
   "version": "3.7.3"
  }
 },
 "nbformat": 4,
 "nbformat_minor": 2
}
