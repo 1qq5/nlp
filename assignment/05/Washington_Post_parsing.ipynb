{
 "cells": [
  {
   "cell_type": "code",
   "execution_count": 107,
   "metadata": {},
   "outputs": [],
   "source": [
    "import re\n",
    "import requests\n",
    "import pandas as pd\n",
    "\n",
    "url = 'https://www.washingtonpost.com/opinions/the-posts-view/'\n",
    "\n",
    "txt = requests.get(url).text"
   ]
  },
  {
   "cell_type": "code",
   "execution_count": 26,
   "metadata": {},
   "outputs": [
    {
     "data": {
      "text/plain": [
       "['https://www.washingtonpost.com/nation/2019/08/06/officers-horseback-led-black-suspect-through-streets-by-rope-chief-apologized/',\n",
       " 'https://www.washingtonpost.com/opinions/dc-has-gone-too-far-on-criminal-justice-reform/2019/08/03/aedccfa4-b55f-11e9-8949-5f36ff92706e_story.html',\n",
       " 'https://www.washingtonpost.com/opinions/a-smart-way-to-keep-putin-out-of-the-next-us-election/2019/08/02/01a25cb0-b3d3-11e9-8949-5f36ff92706e_story.html',\n",
       " 'https://www.washingtonpost.com/opinions/a-presidential-president-could-do-something-about-mass-shootings-heres-how/2019/08/04/ddd5f72e-b6d4-11e9-b3b4-2bb69e8c4e39_story.html',\n",
       " 'https://www.washingtonpost.com/opinions/global-opinions/a-chinese-dissident-jailed-for-critical-thought-deserves-the-worlds-help/2019/07/31/92609d40-b20f-11e9-951e-de024209545d_story.html']"
      ]
     },
     "execution_count": 26,
     "metadata": {},
     "output_type": "execute_result"
    }
   ],
   "source": [
    "articles_list = set()\n",
    "\n",
    "articles_list.update(re.findall('<a href=\"(https://www.washingtonpost.com/[nlpwo].+?)\"', txt))\n",
    "\n",
    "articles_list = [s for s in articles_list if not re.match('.+?the-posts-view', s)] # remove root page\n",
    "articles_list = [s for s in articles_list if not re.match('.+?people', s)] # remove people review\n",
    "\n",
    "articles_list[:5]"
   ]
  },
  {
   "cell_type": "markdown",
   "metadata": {},
   "source": [
    "<p data-elm-loc=\"1\">In a pair of photos, two white lawmen atop horses guide a bound black man with a rope down a wide and empty street. If it weren’t for the cars and pavement, a quick glance may lead to the conclusion that they were colorized plates from the <a href=\"https://twitter.com/DrRJKavanagh/status/1158570375674048512\" target=_blank>antebellum South</a>.</p>"
   ]
  },
  {
   "cell_type": "code",
   "execution_count": 82,
   "metadata": {},
   "outputs": [
    {
     "data": {
      "text/plain": [
       "['<p data-elm-loc=\"1\">In a pair of photos, two white lawmen atop horses guide a bound black man with a rope down a wide and empty street. If it weren’t for the cars and pavement, a quick glance may lead to the conclusion that they were colorized plates from the <a href=\"https://twitter.com/DrRJKavanagh/status/1158570375674048512\" target=_blank>antebellum South</a>.</p> <div data-elm-loc=\"2\" class=\"inline-content inline-photo inline-photo-right \" style=\"width:300px;\"> <a name=\"KC6R7KLGAFBUTHBFNCSUM35C6A\"></a> <img class=\"unprocessed \" src=\"https://www.washingtonpost.com/resizer/EDK0cHc9qu_2huVqg4TtsYdiWkw=/480x0/arc-anglerfish-washpost-prod-washpost.s3.amazonaws.com/public/KC6R7KLGAFBUTHBFNCSUM35C6A.JPG\" data-hi-res-src=\"https://www.washingtonpost.com/resizer/uG9KKcSIKkLxGbvk7k8xjuMey88=/539x0/arc-anglerfish-washpost-prod-washpost.s3.amazonaws.com/public/KC6R7KLGAFBUTHBFNCSUM35C6A.JPG\" data-low-res-src=\"https://www.washingtonpost.com/resizer/EDK0cHc9qu_2huVqg4TtsYdiWkw=/480x0/arc-anglerfish-washpost-prod-washpost.s3.amazonaws.com/public/KC6R7KLGAFBUTHBFNCSUM35C6A.JPG\" data-raw-src=\"https://arc-anglerfish-washpost-prod-washpost.s3.amazonaws.com/public/KC6R7KLGAFBUTHBFNCSUM35C6A.JPG\" data-threshold=\"480\"/><br/> <span class=\"pb-caption\">Police lead Donald Neely through Galveston, Tex. (KPRC)</span> </div> <p data-elm-loc=\"3\">But it was Saturday in the island city Galveston, Tex., and officers arrested Donald Neely on suspicion of criminal trespassing. They had horses, and a rope, but no patrol car to take Neely away. The officers attached the blue rope onto his handcuffs, and Neely, 43, was led to a mounted officer staging area.</p> <p data-elm-loc=\"4\">Bystander photos from the arrest went viral across social media, with many African Americans <a href=\"https://twitter.com/zellieimani/status/1158540784393773056\" target=_blank>saying</a> the photos were <a href=\"https://twitter.com/tariqnasheed/status/1158572805375561728\" target=_blank>reminiscent</a> of captured slaves in the 1800s. The outcry prompted an apology on Monday from Galveston Chief Vernon L. Hale III, who called the arrest an “unnecessary embarrassment” for Neely.</p> <p data-elm-loc=\"5\">“I believe our officers showed poor judgment in this instance and could have waited for a transport unit at the location of the arrest,” Hale said in a <a href=\"https://www.facebook.com/galvestonpolice/posts/1837166389720194\" target=_blank>statement</a>. The officers did not have “malicious intent,” Hale said.</p> <p data-elm-loc=\"6\">The officers trained in the arrest technique for crowd control and other scenarios, Hale said, but the <a href=\"https://www.houstonchronicle.com/news/houston-texas/houston/article/Galveston-police-apologize-for-photo-of-14282778.php?utm_campaign=CMS%20Sharing%20Tools%20(Premium)&utm_source=t.co&utm_medium=referral\" target=_blank>public blowback</a> led the department to rethink how the practice was applied to a sole suspect amid a national discussion about police treatment of African Americans.</p> <p data-elm-loc=\"7\">“We understand the negative perception of this action and believe it is most appropriate to cease the use of this technique,” the department said on Facebook.</p> <p data-elm-loc=\"8\">Neely was freed on bond, the Associated Press <a href=\"https://www.washingtonpost.com/national/chief-apologizes-after-horseback-officers-lead-man-by-rope/2019/08/05/504902c6-b7f0-11e9-8e83-4e6687e99814_story.html\" target=_blank>reported</a>. He does not have a listed number and could not be reached to comment. His family’s attorney did not immediately respond to a request for comment, but told KPRC that she was appalled by the arrest.</p> <p data-elm-loc=\"9\">“I believe the way they handled him was disgusting,” she<a href=\"https://www.youtube.com/watch?v=n-vrwFetLq8\" target=_blank> said</a>. “The family is offended. The family is upset.”</p> <p data-elm-loc=\"10\" class=\"interstitial-link \"><i>[<a href=\"https://www.washingtonpost.com/nation/2019/08/01/police-laughed-joked-he-lost-consciousness-handcuffs-minutes-later-he-died/\">Police laughed and joked as he lost consciousness in handcuffs. Minutes later, he died.</a>]</i></p> <p data-elm-loc=\"11\">The department identified the officers only by their first initials and last names, P. Brosch and A. Smith. It is unclear whether they will face an investigation or administrative review. The department did not return a request for comment. Their body-worn cameras were activated during the arrest, the department said.</p> <p data-elm-loc=\"12\">It was unclear what circumstances led to Neely’s arrest, although the department said he had been warned not to trespass several times at 306 22nd St., an office building that includes space for the investment firm Merrill Lynch.</p> <p data-elm-loc=\"13\">It was also unclear why the officers used the rope arrest in the first place. Police said Neely was being led to 21st and Market — about a block away from where he was allegedly trespassing, although police did not say whether that is where they arrested him.</p> <p data-elm-loc=\"14\">']"
      ]
     },
     "execution_count": 82,
     "metadata": {},
     "output_type": "execute_result"
    }
   ],
   "source": [
    "re.findall('(<p data-elm-loc=\"1\">.+)<b>Read more:', text)"
   ]
  },
  {
   "cell_type": "markdown",
   "metadata": {},
   "source": [
    "# title"
   ]
  },
  {
   "cell_type": "markdown",
   "metadata": {},
   "source": [
    "\"headline\":\"Officers on horseback led a black suspect through the streets by rope. The chief apologized.\""
   ]
  },
  {
   "cell_type": "code",
   "execution_count": 96,
   "metadata": {},
   "outputs": [
    {
     "data": {
      "text/plain": [
       "['Officers on horseback led a black suspect through the streets by rope. The chief apologized.']"
      ]
     },
     "execution_count": 96,
     "metadata": {},
     "output_type": "execute_result"
    }
   ],
   "source": [
    "text = requests.get('https://www.washingtonpost.com/nation/2019/08/06/officers-horseback-led-black-suspect-through-streets-by-rope-chief-apologized/').text\n",
    "title = re.findall(r'\"headline\":\"(.+?)\"', text)\n",
    "title"
   ]
  },
  {
   "cell_type": "markdown",
   "metadata": {},
   "source": [
    "# content"
   ]
  },
  {
   "cell_type": "code",
   "execution_count": 108,
   "metadata": {},
   "outputs": [
    {
     "data": {
      "text/plain": [
       "'POLICYMAKERS ACROSS the country have assailed mass incarceration, including by enacting measures intended to slash overlong prison sentences. That’s aimed at correcting real problems, including the risk that lengthy incarceration in harsh conditions often impedes rehabilitation. Unfortunately, recent steps by politicians in the District suggest that common sense may be losing out to enthusiasm for reform. Two years ago, the District enacted a measure allowing inmates — specifically those serving lengthy prison terms for major violent crimes committed when they were 16 or 17 — to appeal for sentence reductions, provided they’d already served at least 20 years behind bars. That sensibly left judges with discretion to weigh the original crime’s severity against brain science showing that teenagers are impetuous and ill-equipped to weigh the consequences of their actions. Then the D.C. Council went further. Again acting in the case of juvenile murderers and rapists, it removed a requirement that judges consider a crime’s circumstances when offenders ask for shorter sentences. The legislation, signed by Mayor Muriel E. Bowser (D), also allows convicts to file such requests after serving just 15 years behind bars, not 20, even if they are not yet eligible for parole. Now the council, consisting of 11 Democrats and two independents, is poised to go further still. Under pending legislation, eligibility for sentence reductions would be expanded to include those who committed violent crimes up to age 25. The District’s top prosecutor, U.S. Attorney Jessie K. Liu, who opposes the measure, pointed out that its beneficiaries would include a kidnapper who participated in gang-raping a victim inside a stolen van; the murderer of a 7-year-old boy; and a killer who, having stuffed his victim’s corpse in a trash can, proceeded to execute the victim’s girlfriend for fear she could be a witness. By stripping the law of the requirement that judges consider the original crime when weighing sentence reductions — and suggesting long sentences are rarely justified for youthful criminals “despite the brutality or coldblooded nature” of their offense — the council assured that proceedings will tilt in favor of convicts. The reform legislation’s sponsor, council member Charles Allen (D-Ward 6), contends the court could still consider a crime’s severity if it is weighed against other factors, including evidence of remorse and rehabilitation. However, he wrote to Ms. Liu earlier this year saying that prosecutors would contravene the intent of the law by raising the circumstances of a crime in opposing a sentence reduction. Judges at D.C. Superior Court would be justified in questioning whether they are allowed to consider the circumstances of the original crime when weighing an appeal for a reduced sentence. The District has already gone further in the direction of sentence reductions than virtually any state; if the pending legislation is enacted, allowing sentence reductions for an expanded universe of youthful offenders who committed crimes between ages 18 and 25, that would be unprecedented. The effect would be to allow many of the city’s most violent offenders to seek release from prison in their 30s, regardless of their original sentences. Out the window would go transparency and truth in sentencing — the assurance to victims and the community that punishment is what it appears to be. By discouraging judges from considering the original crime when they weigh reducing sentences, the council is putting the public at increased risk, unnecessarily.  '"
      ]
     },
     "execution_count": 108,
     "metadata": {},
     "output_type": "execute_result"
    }
   ],
   "source": [
    "text = requests.get('https://www.washingtonpost.com/opinions/dc-has-gone-too-far-on-criminal-justice-reform/2019/08/03/aedccfa4-b55f-11e9-8949-5f36ff92706e_story.html').text\n",
    "\n",
    "con = []\n",
    "context = re.findall(r'(<p data-elm-loc=\"1\".+)<b>Read more:', text)\n",
    "# for string in str(context).split(\"<\"):\n",
    "# #     print(string)\n",
    "#     if re.match(\"><\", string):\n",
    "#         continue\n",
    "#     elif string.startswith('p data-elm-loc='):\n",
    "#         con.append(re.findall('p data-elm-loc=\"..?\">(.+)', string))\n",
    "#     elif string.startswith('a href'):\n",
    "#         con.append(re.findall('a href=\"http.+?>(.+)', string))\n",
    "context = re.sub(r'<.+?>', '', str(context))\n",
    "context = re.sub(r'[\\[\\]\\']', '', str(context))\n",
    "context"
   ]
  },
  {
   "cell_type": "code",
   "execution_count": 95,
   "metadata": {},
   "outputs": [
    {
     "data": {
      "text/plain": [
       "'In a pair of photos, two white lawmen atop horses guide a bound black man with a rope down a wide and empty street. If it weren’t for the cars and pavement, a quick glance may lead to the conclusion that they were colorized plates from the antebellum South.    Police lead Donald Neely through Galveston, Tex. (KPRC)  But it was Saturday in the island city Galveston, Tex., and officers arrested Donald Neely on suspicion of criminal trespassing. They had horses, and a rope, but no patrol car to take Neely away. The officers attached the blue rope onto his handcuffs, and Neely, 43, was led to a mounted officer staging area. Bystander photos from the arrest went viral across social media, with many African Americans saying the photos were reminiscent of captured slaves in the 1800s. The outcry prompted an apology on Monday from Galveston Chief Vernon L. Hale III, who called the arrest an “unnecessary embarrassment” for Neely. “I believe our officers showed poor judgment in this instance and could have waited for a transport unit at the location of the arrest,” Hale said in a statement. The officers did not have “malicious intent,” Hale said. The officers trained in the arrest technique for crowd control and other scenarios, Hale said, but the public blowback led the department to rethink how the practice was applied to a sole suspect amid a national discussion about police treatment of African Americans. “We understand the negative perception of this action and believe it is most appropriate to cease the use of this technique,” the department said on Facebook. Neely was freed on bond, the Associated Press reported. He does not have a listed number and could not be reached to comment. His family’s attorney did not immediately respond to a request for comment, but told KPRC that she was appalled by the arrest. “I believe the way they handled him was disgusting,” she said. “The family is offended. The family is upset.” Police laughed and joked as he lost consciousness in handcuffs. Minutes later, he died. The department identified the officers only by their first initials and last names, P. Brosch and A. Smith. It is unclear whether they will face an investigation or administrative review. The department did not return a request for comment. Their body-worn cameras were activated during the arrest, the department said. It was unclear what circumstances led to Neely’s arrest, although the department said he had been warned not to trespass several times at 306 22nd St., an office building that includes space for the investment firm Merrill Lynch. It was also unclear why the officers used the rope arrest in the first place. Police said Neely was being led to 21st and Market — about a block away from where he was allegedly trespassing, although police did not say whether that is where they arrested him. '"
      ]
     },
     "execution_count": 95,
     "metadata": {},
     "output_type": "execute_result"
    }
   ],
   "source": [
    "text = requests.get('https://www.washingtonpost.com/nation/2019/08/06/officers-horseback-led-black-suspect-through-streets-by-rope-chief-apologized/').text\n",
    "\n",
    "con = []\n",
    "context = re.findall(r'(<p data-elm-loc=\"1\".+)<b>Read more:', text)\n",
    "# for string in str(context).split(\"<\"):\n",
    "# #     print(string)\n",
    "#     if re.match(\"><\", string):\n",
    "#         continue\n",
    "#     elif string.startswith('p data-elm-loc='):\n",
    "#         con.append(re.findall('p data-elm-loc=\"..?\">(.+)', string))\n",
    "#     elif string.startswith('a href'):\n",
    "#         con.append(re.findall('a href=\"http.+?>(.+)', string))\n",
    "context = re.sub(r'<.+?>', '', str(context))\n",
    "context = re.sub(r'[\\[\\]\\']', '', str(context))\n",
    "context"
   ]
  },
  {
   "cell_type": "code",
   "execution_count": null,
   "metadata": {},
   "outputs": [],
   "source": [
    "text = requests.get('https://www.washingtonpost.com/opinions/dc-has-gone-too-far-on-criminal-justice-reform/2019/08/03/aedccfa4-b55f-11e9-8949-5f36ff92706e_story.html').text\n",
    "\n",
    "con = []\n",
    "context = re.findall(r'(<p data-elm-loc=\"1\".+)<b>Read more:', text)\n",
    "# for string in str(context).split(\"<\"):\n",
    "# #     print(string)\n",
    "#     if re.match(\"><\", string):\n",
    "#         continue\n",
    "#     elif string.startswith('p data-elm-loc='):\n",
    "#         con.append(re.findall('p data-elm-loc=\"..?\">(.+)', string))\n",
    "#     elif string.startswith('a href'):\n",
    "#         con.append(re.findall('a href=\"http.+?>(.+)', string))\n",
    "context = re.sub(r'<.+?>', '', str(context))\n",
    "context = re.sub(r'[\\[\\]\\']', '', str(context))\n",
    "context"
   ]
  },
  {
   "cell_type": "code",
   "execution_count": 112,
   "metadata": {
    "scrolled": false
   },
   "outputs": [
    {
     "name": "stdout",
     "output_type": "stream",
     "text": [
      "   source  title  content\n",
      "0     NaN    NaN      NaN\n",
      "1     NaN    NaN      NaN\n",
      "2     NaN    NaN      NaN\n"
     ]
    }
   ],
   "source": [
    "source = ['Washington Post']\n",
    "title = []\n",
    "content = []\n",
    "\n",
    "for article in articles_list:\n",
    "    text = requests.get(article).text\n",
    "\n",
    "    con = re.findall(r'(<p data-elm-loc=\"1\".+)<b>Read more:', text)\n",
    "    con = re.sub(r'<.+?>', '', str(con))\n",
    "    content.append(re.sub(r'[\\[\\]\\']', '', str(con)))\n",
    "    \n",
    "    title.append(re.findall(r'\"headline\":\"(.+?)\"', text))"
   ]
  },
  {
   "cell_type": "code",
   "execution_count": 142,
   "metadata": {},
   "outputs": [
    {
     "name": "stdout",
     "output_type": "stream",
     "text": [
      "                                                title  \\\n",
      "0   [Officers on horseback led a black suspect thr...   \n",
      "1   [Opinion | D.C. has gone too far on criminal-j...   \n",
      "2   [Opinion | A smart way to keep Putin out of th...   \n",
      "3   [Opinion | President Trump makes it all worse....   \n",
      "4   [Opinion | A Chinese dissident jailed for crit...   \n",
      "5   [Opinion | Trump’s family separations suggest ...   \n",
      "6   [An 11-year-old’s response to El Paso shooting...   \n",
      "7   [Opinion | Trump’s policies are bringing insta...   \n",
      "8   [Opinion | Saudi Arabia loosens its male guard...   \n",
      "9   [Opinion | The Trump administration’s new poli...   \n",
      "10          [Opinion | A bipartisan retreat on trade]   \n",
      "11  [Opinion | Kamala Harris’s health-care plan sh...   \n",
      "12  [Opinion | Trump should vow never again to spe...   \n",
      "13  [Opinion | Beware the rabbit hole of radicaliz...   \n",
      "14  [Opinion | Getting access to Trump’s tax retur...   \n",
      "15  [Opinion | A strong reform bill might help res...   \n",
      "16  [When the Dayton shooter killed his sister, he...   \n",
      "17  [Opinion | No, Mr. Trump. Guns are the reason ...   \n",
      "18  [Opinion | A credit-rating agency warning shou...   \n",
      "19  [Opinion | A nuclear treaty is about to vanish...   \n",
      "20  [Opinion | Without the Amazon, the planet is d...   \n",
      "21  [Boy Scouts failed to stop hundreds of previou...   \n",
      "22  [Opinion | Trump should do everything possible...   \n",
      "23  [Trump lashes out after New York Times amends ...   \n",
      "24  [Opinion | Why go to the trouble of running fo...   \n",
      "25  [Markets recover from Monday sell-off after Ch...   \n",
      "\n",
      "                                              content  \n",
      "0   In a pair of photos, two white lawmen atop hor...  \n",
      "1   POLICYMAKERS ACROSS the country have assailed ...  \n",
      "2   THERE IS a lot Congress could do to better pro...  \n",
      "3   WE KNOW by now not to waste time calling on Pr...  \n",
      "4   HUANG QI, one of China’s most prominent human ...  \n",
      "5   MEMO TO U.S. Customs and Border Protection: Mi...  \n",
      "6   In the shadow of shock that lingered after the...  \n",
      "7   WE’LL FIND out the consequences of President T...  \n",
      "8   SAUDI ARABIA’S latest steps to ease the onerou...  \n",
      "9   HERE’S WHAT the State Department recommends fo...  \n",
      "10  THE UNITED STATES, which on a bipartisan basis...  \n",
      "11  LAST WEEK’S Democratic presidential debates un...  \n",
      "12  PRESIDENT TRUMP controls the greatest loudspea...  \n",
      "13  THE INTERNET is not responsible for America’s ...  \n",
      "14  ESTABLISHED IN the mid-1970s, as a response to...  \n",
      "15  SENATE INVESTIGATORS released a chilling repor...  \n",
      "16  Megan K. Betts had more to offer. When Connor ...  \n",
      "17  FOR A moment on Monday, President Trump offere...  \n",
      "18  BUOYED BY a spigot of federal contracting doll...  \n",
      "19  ON FRIDAY, a pillar of global security will ex...  \n",
      "20  ONE OF the easiest ways to combat climate chan...  \n",
      "21   A group of lawyers is claiming to have uncove...  \n",
      "22  CHINA’S PEOPLE’S LIBERATION ARMY this week rel...  \n",
      "23                                                     \n",
      "24  “I DON’T understand why anybody goes to all th...  \n",
      "25                                                     \n"
     ]
    }
   ],
   "source": [
    "Washington_post = pd.DataFrame({'title':title, 'content':content})\n",
    "\n",
    "print(Washington_post)"
   ]
  },
  {
   "cell_type": "code",
   "execution_count": 143,
   "metadata": {},
   "outputs": [
    {
     "name": "stdout",
     "output_type": "stream",
     "text": [
      "    index                                              title  \\\n",
      "0       0  [Officers on horseback led a black suspect thr...   \n",
      "1       1  [Opinion | D.C. has gone too far on criminal-j...   \n",
      "2       2  [Opinion | A smart way to keep Putin out of th...   \n",
      "3       3  [Opinion | President Trump makes it all worse....   \n",
      "4       4  [Opinion | A Chinese dissident jailed for crit...   \n",
      "5       5  [Opinion | Trump’s family separations suggest ...   \n",
      "6       6  [An 11-year-old’s response to El Paso shooting...   \n",
      "7       7  [Opinion | Trump’s policies are bringing insta...   \n",
      "8       8  [Opinion | Saudi Arabia loosens its male guard...   \n",
      "9       9  [Opinion | The Trump administration’s new poli...   \n",
      "10     10          [Opinion | A bipartisan retreat on trade]   \n",
      "11     11  [Opinion | Kamala Harris’s health-care plan sh...   \n",
      "12     12  [Opinion | Trump should vow never again to spe...   \n",
      "13     13  [Opinion | Beware the rabbit hole of radicaliz...   \n",
      "14     14  [Opinion | Getting access to Trump’s tax retur...   \n",
      "15     15  [Opinion | A strong reform bill might help res...   \n",
      "16     16  [When the Dayton shooter killed his sister, he...   \n",
      "17     17  [Opinion | No, Mr. Trump. Guns are the reason ...   \n",
      "18     18  [Opinion | A credit-rating agency warning shou...   \n",
      "19     19  [Opinion | A nuclear treaty is about to vanish...   \n",
      "20     20  [Opinion | Without the Amazon, the planet is d...   \n",
      "21     21  [Boy Scouts failed to stop hundreds of previou...   \n",
      "22     22  [Opinion | Trump should do everything possible...   \n",
      "23     24  [Opinion | Why go to the trouble of running fo...   \n",
      "\n",
      "                                              content  \n",
      "0   In a pair of photos, two white lawmen atop hor...  \n",
      "1   POLICYMAKERS ACROSS the country have assailed ...  \n",
      "2   THERE IS a lot Congress could do to better pro...  \n",
      "3   WE KNOW by now not to waste time calling on Pr...  \n",
      "4   HUANG QI, one of China’s most prominent human ...  \n",
      "5   MEMO TO U.S. Customs and Border Protection: Mi...  \n",
      "6   In the shadow of shock that lingered after the...  \n",
      "7   WE’LL FIND out the consequences of President T...  \n",
      "8   SAUDI ARABIA’S latest steps to ease the onerou...  \n",
      "9   HERE’S WHAT the State Department recommends fo...  \n",
      "10  THE UNITED STATES, which on a bipartisan basis...  \n",
      "11  LAST WEEK’S Democratic presidential debates un...  \n",
      "12  PRESIDENT TRUMP controls the greatest loudspea...  \n",
      "13  THE INTERNET is not responsible for America’s ...  \n",
      "14  ESTABLISHED IN the mid-1970s, as a response to...  \n",
      "15  SENATE INVESTIGATORS released a chilling repor...  \n",
      "16  Megan K. Betts had more to offer. When Connor ...  \n",
      "17  FOR A moment on Monday, President Trump offere...  \n",
      "18  BUOYED BY a spigot of federal contracting doll...  \n",
      "19  ON FRIDAY, a pillar of global security will ex...  \n",
      "20  ONE OF the easiest ways to combat climate chan...  \n",
      "21   A group of lawyers is claiming to have uncove...  \n",
      "22  CHINA’S PEOPLE’S LIBERATION ARMY this week rel...  \n",
      "23  “I DON’T understand why anybody goes to all th...  \n"
     ]
    }
   ],
   "source": [
    "Washington_post = Washington_post.drop([23, 25]).reset_index()\n",
    "print(Washington_post)"
   ]
  },
  {
   "cell_type": "code",
   "execution_count": 132,
   "metadata": {},
   "outputs": [],
   "source": [
    "Washington_post.to_csv(\"Washington_post.csv\")"
   ]
  }
 ],
 "metadata": {
  "kernelspec": {
   "display_name": "Python 3",
   "language": "python",
   "name": "python3"
  },
  "language_info": {
   "codemirror_mode": {
    "name": "ipython",
    "version": 3
   },
   "file_extension": ".py",
   "mimetype": "text/x-python",
   "name": "python",
   "nbconvert_exporter": "python",
   "pygments_lexer": "ipython3",
   "version": "3.7.2"
  }
 },
 "nbformat": 4,
 "nbformat_minor": 2
}
