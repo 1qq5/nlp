{
 "cells": [
  {
   "cell_type": "code",
   "execution_count": 36,
   "metadata": {},
   "outputs": [],
   "source": [
    "import re\n",
    "import requests\n",
    "import pandas as pd\n",
    "\n",
    "url = 'https://www.foxnews.com'\n",
    "txt = requests.get(url+'/opinion').text"
   ]
  },
  {
   "cell_type": "code",
   "execution_count": 29,
   "metadata": {},
   "outputs": [
    {
     "name": "stdout",
     "output_type": "stream",
     "text": [
      "41\n"
     ]
    },
    {
     "data": {
      "text/plain": [
       "['/opinion/michael-goodwin-trump-democrats-washington',\n",
       " '/opinion/jason-chaffetz-to-stop-more-shootings-stop-erasing-criminal-records-of-violent-juvenile-offenders',\n",
       " '/opinion/todd-starnes-country-music-liberal-kacey-musgraves',\n",
       " '/opinion/dayton-killer-left-winger-elizabeth-warren',\n",
       " '/opinion/gun-safety-mental-health-care-bradley-blakeman',\n",
       " '/opinion/trump-economy-small-business-democrats-alfredo-ortiz',\n",
       " '/opinion/el-paso-dayton-monopoly-slumlords-video-games-sociopaths',\n",
       " '/opinion/gutfeld-on-the-medias-polarizing-attacks',\n",
       " '/opinion/newt-gingrich-left-viciously-attacks-mcconnell-because-hes-successful-senate-leader-and-trump-ally',\n",
       " '/opinion/andy-puzder-china-trump-tariffs',\n",
       " '/opinion/michael-goodwin-trump-democrats-washington',\n",
       " '/opinion/el-paso-dayton-processing-grief-in-the-face-of-tragedy',\n",
       " '/opinion/todd-starnes-country-music-liberal-kacey-musgraves',\n",
       " '/opinion/new-york-times-headline-change-mob-lost-its-mind-dan-gainor',\n",
       " '/opinion/trump-economy-small-business-democrats-alfredo-ortiz',\n",
       " '/opinion/tucker-carlson-the-left-demands-conformity-will-use-threats-to-keep-people-in-line-until-the-next-election',\n",
       " '/opinion/gil-barndollar-america-wins-long-game-with-iran',\n",
       " '/opinion/samantha-nerove-why-so-many-mass-murders-study-impact-of-violent-video-games-and-impose-age-restrictions',\n",
       " '/opinion/jason-chaffetz-to-stop-more-shootings-stop-erasing-criminal-records-of-violent-juvenile-offenders',\n",
       " '/opinion/gutfeld-on-media-coverage-of-the-mass-shootings',\n",
       " '/opinion/gun-safety-mental-health-care-bradley-blakeman',\n",
       " '/opinion/el-paso-dayton-monopoly-slumlords-video-games-sociopaths',\n",
       " '/opinion/dayton-killer-left-winger-elizabeth-warren',\n",
       " '/opinion/daniel-turner-kent-lassman-green-new-deal',\n",
       " '/opinion/bachelorette-hannah-brown-praise-christen-limbaugh-bloom',\n",
       " '/opinion/bradley-blakeman-iran-hostile-ships-strait-of-hormuz-solution',\n",
       " '/opinion/el-paso-dayton-tragedies-trump-reform-bipartisan-support-kayleigh-mcenany',\n",
       " '/opinion/greg-gutfeld-deadly-shootings-weekend',\n",
       " '/opinion/trump-baltimore-and-the-lost-art-of-civility',\n",
       " '/opinion/cnn-democrats-use-el-paso-massacre-to-take-cheap-shots-at-trump',\n",
       " '/opinion/steve-hilton-mass-shooting-unhelpful-loop',\n",
       " '/opinion/mass-shooters-young-men-alienated-killers-society',\n",
       " '/opinion/roma-downey-you-are-not-alone-you-are-never-alone-dont-you-know-that-god-loves-you',\n",
       " '/opinion/paul-batura-marriage-son-wedding-anniversary',\n",
       " '/opinion/christen-limbaugh-bloom-the-secret-to-becoming-a-better-friend',\n",
       " '/opinion/mike-kerrigan-son-tv-deal-the-night-manager',\n",
       " '/opinion/bail-bond-decisions-algorithms-safety-risk-john-kennedy',\n",
       " '/opinion/beto-exploits-tragedy-of-el-paso-shootings-for-sake-of-politics',\n",
       " '/opinion/scalise-dannenfelser-born-alive-act-vote-pelosi-democrats',\n",
       " '/opinion/democrats-2020-suggestion-panic-michael-goodwin',\n",
       " '/opinion/obama-biden-boost-silent-liz-peek']"
      ]
     },
     "execution_count": 29,
     "metadata": {},
     "output_type": "execute_result"
    }
   ],
   "source": [
    "article_list = re.findall('<article class=\".+?\"><div class=\"m\"><a href=\"(.+?)\">', txt)\n",
    "\n",
    "article_list = [s for s in article_list if not s.startswith('h')]\n",
    "print(len(article_list))\n",
    "article_list"
   ]
  },
  {
   "cell_type": "markdown",
   "metadata": {},
   "source": [
    "<p data-v-275a95fe>Michael Goodwin says Donald Trump is a president who likes to make deals.</p></div></div></div></div><p class=\"speakable\">Over nearly two decades, several <a href=\"https://www.foxnews.com/category/world/world-regions/middle-east\" target=\"_blank\">Israeli leaders </a>offered peace terms that included a Palestinian state. The offers were rejected, a rain of Arab rockets and terror attacks followed and across the Israeli political spectrum, there was one reaction: We don&#x2019;t have a partner for peace.</p><div class=\"ad-container tablet\"><div data-ad-pos=\"tablet\" data-ad-size=\"300x250\" data-ad-lz=\"\" class=\"ad gpt ad-h-250\"></div><!----></div><div class=\"ad-container mobile\"><div data-ad-pos=\"mobile\" data-ad-size=\"300x250\" data-ad-lz=\"\" class=\"ad gpt ad-h-250\"></div><!----></div><p class=\"speakable\"><a href=\"https://www.foxnews.com/category/politics/executive/white-house\" target=\"_blank\">President Trump </a>knows the feeling.</p><div data-ad-pos=\"inread\" data-ad-size=\"1x1\" class=\"ad gpt ad-h-1\"></div><p>His&#xA0;<a href=\"https://nypost.com/2019/08/05/trump-calls-for-mental-health-laws-not-gun-control/\">remarks following the horrific attacks in El Paso and Dayton</a>&#xA0;hit all the right notes. He forcefully condemned bigotry and white supremacy and touted measures aimed at flagging potential mass murderers before they get guns.</p><p><strong><a href=\"https://www.foxnews.com/apps-products\" target=\"_blank\">CLICK HERE TO GET THE FOX NEWS APP</a></strong></p><p>&#x201C;Hatred warps the mind, ravages the heart and devours the soul,&#x201D; he said, and later: &#x201C;Open wounds cannot heal if we are divided. We must seek real, bipartisan solutions.&#x201D;</p><div class=\"ad-container mobile\"><div data-ad-pos=\"mobile\" data-ad-size=\"300x251\" data-ad-lz=\"\" class=\"ad gpt ad-h-250\"></div><!----></div><p>The result: Democrats branded Trump a racist &#x2014; Joe Biden even invoked the KKK &#x2014; and many insisted that the president was to blame for the turmoil in American society. Not one offered to meet him halfway on guns, background checks, the internet, video games or mental health.</p><p>"
   ]
  },
  {
   "cell_type": "code",
   "execution_count": 31,
   "metadata": {},
   "outputs": [
    {
     "name": "stdout",
     "output_type": "stream",
     "text": [
      "Michael Goodwin: Trump is someone you need to work with, Democrats. It's time for Washington to come together\n",
      "Michael Goodwin says Donald Trump is a president who likes to make deals.Over nearly two decades, several Israeli leaders offered peace terms that included a Palestinian state. The offers were rejected, a rain of Arab rockets and terror attacks followed and across the Israeli political spectrum, there was one reaction: We don&#x2019;t have a partner for peace.President Trump knows the feeling.His&#xA0;remarks following the horrific attacks in El Paso and Dayton&#xA0;hit all the right notes. He forcefully condemned bigotry and white supremacy and touted measures aimed at flagging potential mass murderers before they get guns.\n",
      "0\n",
      "Jason Chaffetz: To stop more shootings, stop erasing criminal records of juveniles prone to violence\n",
      "After the mass shooting in Dayton, Ohio, Fox News contributor Jason Chaffetz argues that law enforcement should have access to juvenile records to prevent more violence.The mass shooter in Dayton, Ohio who was killed by police early Sunday after he shot nine people to death and wounded more than a dozen fit the now-familiar profile of the troubled youth with a well-documented history of threats dating back to high school.The Dayton gunman had a &quot;kill list&quot; and had interacted with law enforcement as a minor, authorities said.Similarly, the man charged with killing 17 people and wounding 17 others at Marjory Stoneman Douglas High School in Parkland, Fla., last year was also well known to high school counselors and local police before he turned 18, police said.\n",
      "1\n",
      "Todd Starnes: Country music going liberal? Sweet mercy, let's hope it's not getting Dixie-Chick-a-fied\n",
      "Country music singer Kacey Musgraves urged fans in Chicago to chant 'somebody f—king do something' following the mass shootings in Dayton, Ohio, and El Paso, Texas.I recently received a rather urgent telephone call from my beloved Aunt Lynn, the church pianist down at the Methodist church in Mississippi.&#x201C;Todd, what in the name of Minnie Pearl is going on with country music,&#x201D; she demanded to know. &#x201C;The girls in our Bible study class think they&#x2019;re going liberal.&#x201D;CLICK HERE TO PRE-ORDER TODD&#x2019;S EXPLOSIVE NEW BOOK, &#x201C;CULTURE JIHAD: HOW TO STOP THE LEFT FROM KILLING A NATION.&#x201D;\n",
      "2\n",
      "WSJ: The Dayton killer was a left-winger, but don't blame Elizabeth Warren\n",
      "The gunman killed nice people in 30 seconds before officers killed him; Mike Tobin reports.Police in Dayton say they&#x2019;re still seeking a motive for Connor Betts&#x2019; shooting spree that killed nine people, including his sister. But whatever turns up, we hope no one blames Elizabeth Warren.We say that because the news site Heavy.com, which gained access to Betts&#x2019; Twitter account before it was taken down, reports that his politics appear to have been left of center. The shooter recently tweeted that he would &#x201C;happily&#x201D; vote for Senator Warren. His Twitter profile also read: &#x201C;he/him/anime fan/metalhead/leftist/i&#x2019;m going to hell and i&#x2019;m not coming back.&#x201D; In December last he wrote: &#x201C;This is America: Guns on every corner, guns in every house, no freedom but to kill.&#x201D; A month before that, he wrote: &#x201C;Vote blue for gods sake.&#x201D;The Dayton shooter’s leftist ravings are notable only because the media and Democratic politicians have drawn a straight line between the El Paso shooter’s anti-immigrant “manifesto” and Donald Trump and the Republican Party.CLICK HERE TO GET THE FOX NEWS APP\n",
      "3\n",
      "Bradley Blakeman: It's time for gun safety, increased mental health care – Let's come together America\n",
      "The 'Outnumbered' panel reacts to the political divisiveness coming from Democrats in the aftermath of the tragedies in Texas and Ohio.Now is the time for our nation to come together and tackle gun safety and mental health screening and treatment in a meaningful way.There are an estimated 300 million+ firearms in America today. It is unreasonable and more importantly unconstitutional to confiscate weapons out of hand. But, it is reasonable and constitutional to regulate them.Now is the time to institute national and uniform background checks prior to the purchase of firearms. We must change and close loopholes that cover gun-shows and person to person sales.\n",
      "4\n",
      "Alfredo Ortiz: In the Trump economy small businesses are thriving -- So why are Dems working to undermine it?\n",
      "White House trade adviser Peter Navarro addresses the intensifying trade tensions on 'America's Newsroom' after the Dow's worst trading day of the year.It&#x2019;s a sad fact but many national news outlets blatantly ignore how President Trump has done a great deal to revive and grow the economy and help small businesses prosper by increasing access to affordable, reliable energy.Under President Trump, the U.S. is experiencing record-low unemployment and rising wages the previous administration repeatedly said wasn&#x2019;t possible. As a result, small businesses are hiring at a record pace and President Trump&#x2019;s goal of energy dominance has played a big part in this economic expansion. Rather than restrict energy production, Trump policies are creating record production of oil and natural gas, which in turn are stabilizing energy prices and costs for companies.These stable or reduced fuel costs are especially beneficial to small businesses which are responsible for creating 62 percent&#xA0;of the jobs in the American economy. When small business owners pay less to power their operations or transport goods, they can grow, they can hire more people or pay higher wages to existing employees.\n",
      "5\n",
      "Gary Brubaker: El Paso, Dayton -- 'Monopoly' doesn't create slumlords. Video games don't school sociopaths\n",
      "Rod 'Slasher' Breslau says politicians are perpetuating the myth that games inspire young Americans to commit violent acts.Personally and corporately as a nation, we recoil in horror and grief at the continued gun violence in the United States.Politicians want to seek solutions that will make a meaningful difference. A number of our national and state leaders allege that playing video games can change people into criminals capable of carrying out mass shootings.&#xA0;The theory being that playing video games can cause psychological breaks in otherwise non-violent individuals. That violent video games not only train people for murder, but create sociopaths. Therefore, violent video games are a root cause of our prolonged nightmare of large-scale shootings.I have been a video game developer for over two decades and have been a faculty member at the world&#x2019;s leading video game development graduate program, SMU Guildhall in Dallas, for over a decade. I have been on teams that authored best-selling titles and have taught current leaders in the industry at the graduate level.\n",
      "6\n",
      "Gutfeld on the media's polarizing attacks\n",
      "Media continue to smear Trump after mass shootings.The media continue to use tragedy to indulge their own resentment.First, there&apos;s Nicole Wallace of MSNBC claiming President Trump said he wanted to exterminate people.Wallace said: &#x201C;You now have a president &#x2026; talking about exterminating Latinos.&#x201D;\n",
      "7\n",
      "Newt Gingrich: Left viciously attacks McConnell because he’s successful Senate leader and Trump ally\n",
      "Left launches attacks against McConnell, New York Times; reaction from 2008 presidential candidate Dennis Kucinich and American Conservative Union Chair Matt Schlapp.Senate Majority Leader Mitch McConnell has proven himself a master of both the Senate and the judicial branch.McConnell was elected to the Senate in 1984 and is the longest-serving U.S. senator to ever represent Kentucky. He was elected Republican Senate leader in November 2006 and is today the longest-serving Republican Senate leader in history.The story of McConnell&#x2019;s steady and relentless rise to power is best understood by reading his own memoir,&#xA0;&#x201C;The Long Game.&#x201D; He is candid and practical in exactly the down-home way he runs the Senate and his campaigns.\n",
      "8\n",
      "Andy Puzder: Blame China's broken promises for Trump imposing tariffs\n",
      "White House trade adviser Peter Navarro joins Chris Wallace on 'Fox News Sunday.'President Trump&#x2019;s strategic counter-tariffs on China have been deliberate, predictable and business-like &#x2013; contrary to Beijing&#x2019;s series of broken promises and the self-serving misinformation that China&#x2019;s state-run media are peddling.The president recently announced that the U.S. will follow through to implement a 10 percent tariff on $300 billion worth of Chinese imports Sept. 1. The10 percent tariff had been put on hold earlier this year after a personal meeting between Trump and Chinese President Xi Jinping.The Chinese government is now attempting to portray President Trump&#x2019;s action as erratic and capricious, but nothing could be further from the truth.\n",
      "9\n"
     ]
    },
    {
     "name": "stdout",
     "output_type": "stream",
     "text": [
      "Michael Goodwin: Trump is someone you need to work with, Democrats. It's time for Washington to come together\n",
      "Michael Goodwin says Donald Trump is a president who likes to make deals.Over nearly two decades, several Israeli leaders offered peace terms that included a Palestinian state. The offers were rejected, a rain of Arab rockets and terror attacks followed and across the Israeli political spectrum, there was one reaction: We don&#x2019;t have a partner for peace.President Trump knows the feeling.His&#xA0;remarks following the horrific attacks in El Paso and Dayton&#xA0;hit all the right notes. He forcefully condemned bigotry and white supremacy and touted measures aimed at flagging potential mass murderers before they get guns.\n",
      "10\n",
      "Kent Ingle: After El Paso &amp; Dayton, here are 5 ways to process grief in the face of tragedy\n",
      "One of the victims was 15-year-old Javier Rodriguez; Jeff Paul reports.After the shootings this weekend in Dayton, Ohio, and El Paso, Texas, it feels like our nation is under continuous attack -- under the attack of racism, hatred, and our right to human life.There was a time when we were so rattled by just one of these tragic events, let alone two. These shootings have seemed a recurring nightmare in our nation. When these events have become so frequent that they are white noise on the news, it is terrifying. It makes me stop and ask, &#x201C;Is this really our nation? Is this reckless chaos really happening in America?&#x201D; It has caused us more pain than sometimes feels bearable. Whether or not you were affected by the deaths of these shootings, they cause us to consider the fragility of life and the suffering so many are currently facing.There is no easy way to explain the purpose of suffering on this earth, especially when the pain from the loss of life runs deeper than most any of us can bear. It wasn&#x2019;t what God initially intended for us. God is the creator and giver of all things good and beautiful, but our world is broken and, as of late, truly horrific.\n",
      "11\n",
      "Todd Starnes: Country music going liberal? Sweet mercy, let's hope it's not getting Dixie-Chick-a-fied\n",
      "Country music singer Kacey Musgraves urged fans in Chicago to chant 'somebody f—king do something' following the mass shootings in Dayton, Ohio, and El Paso, Texas.I recently received a rather urgent telephone call from my beloved Aunt Lynn, the church pianist down at the Methodist church in Mississippi.&#x201C;Todd, what in the name of Minnie Pearl is going on with country music,&#x201D; she demanded to know. &#x201C;The girls in our Bible study class think they&#x2019;re going liberal.&#x201D;CLICK HERE TO PRE-ORDER TODD&#x2019;S EXPLOSIVE NEW BOOK, &#x201C;CULTURE JIHAD: HOW TO STOP THE LEFT FROM KILLING A NATION.&#x201D;\n",
      "12\n",
      "Dan Gainor: The New York Times changes its headline, caves to the mob and shows it has lost its mind\n",
      "New York Times changes headline after being considered 'problematic'; former Clinton adviser Mark Penn reacts.It&#x2019;s rough being the second-most liberal newspaper in the U.S. Mistakenly cover a news story with an accurate &quot;head&quot; and the left is calling for yours.The headline was simple &#x2014; five controversial words that went global almost as soon as they hit Twitter. 538&#x2019;s Editor-in-Chief Nate Silver deadpanned over a copy of the front page: &#x201C;Tomorrow&apos;s NYT print edition. Not sure &#x2018;TRUMP URGES UNITY VS. RACISM&#x2019; is how I would have framed the story.&#x201D;Liberals couldn&#x2019;t make heads or tails of it, so they went insane. Democratic presidential candidates lined up to whine that The Times wasn&#x2019;t as reliably left-wing as they demanded.\n",
      "13\n",
      "Alfredo Ortiz: In the Trump economy small businesses are thriving -- So why are Dems working to undermine it?\n",
      "White House trade adviser Peter Navarro addresses the intensifying trade tensions on 'America's Newsroom' after the Dow's worst trading day of the year.It&#x2019;s a sad fact but many national news outlets blatantly ignore how President Trump has done a great deal to revive and grow the economy and help small businesses prosper by increasing access to affordable, reliable energy.Under President Trump, the U.S. is experiencing record-low unemployment and rising wages the previous administration repeatedly said wasn&#x2019;t possible. As a result, small businesses are hiring at a record pace and President Trump&#x2019;s goal of energy dominance has played a big part in this economic expansion. Rather than restrict energy production, Trump policies are creating record production of oil and natural gas, which in turn are stabilizing energy prices and costs for companies.These stable or reduced fuel costs are especially beneficial to small businesses which are responsible for creating 62 percent&#xA0;of the jobs in the American economy. When small business owners pay less to power their operations or transport goods, they can grow, they can hire more people or pay higher wages to existing employees.\n",
      "14\n",
      "Tucker Carlson: The left demands conformity, will use threats to keep people in line until the next election\n",
      "Mob threatens Mitch McConnell outside his home in wake of mass shootings.&quot;Gun control saves lives.&quot; That&apos;s what they&apos;re telling you day and night on CNN. In fact, they&apos;re having a town hall meeting on Wednesday to tell you some more.Anyone who opposes gun control, they&apos;ll tell you by implication of - not directly - is a bad person, a callous, cruel, probably violent, person. Somebody who doesn&apos;t care about the safety of others.Well, on Monday night, a group of progressive activists took that very message to Senate Majority Leader Mitch McConnell&apos;s home. &quot;Stab him in the heart. Break his neck.&quot; That was one of the messages for Mitch McConnell. They&apos;re totally opposed to violence, and that&apos;s why they want to kill Mitch McConnell.\n",
      "15\n",
      "Gil Barndollar: War with Iran would be foolish – Our relations will improve in the long run\n",
      "Iranian President Hassan Rouhani says ships passing through the Strait of Hormuz may not be safe; Ellison Barber has the details.Despite increasingly bellicose rhetoric and a mounting tally of incidents, the United States and Iran have avoided war so far. Yet voices on both sides &#x2013; many of them at the highest levels of government &#x2013; are arguing that we should give war a chance.There are plenty of reasons why even a supposedly limited war with Iran is a bad idea. Chief among them are the nearly-guaranteed risks of escalation, the broader regional impact of a conflict, and the potential for chaos should the Iranian theocracy suddenly implode.But the strongest argument against U.S. escalation is oddly absent from the discussion: Why should the United States risk war &#x2013; with all of its unknowable consequences and chaos &#x2013; when the key trends in Iran are moving in America&#x2019;s favor?\n",
      "16\n",
      "Samantha Nerove: Why so many mass murders? Study impact of violent video games and impose age restrictions\n",
      "Rod 'Slasher' Breslau says politicians are perpetuating the myth that games inspire young Americans to commit violent acts.War is ugly and a nightmare to experience &#x2013; neither glamorous nor enjoyable. It&#x2019;s nothing like the violent video games that allow players to happily &#x201C;kill&#x201D; animated figures from the safety of their bedrooms. As a combat veteran of two wars, I&#x2019;ve seen the terrible human cost of violence close up &#x2013; badly wounded fellow soldiers, others killed in the prime of life, enemy combatants burned beyond recognition. Destroyed homes, businesses and schools.Now violent video games are in the news as a possible contributing factor to mass murders here in the U.S., following the horrific weekend massacres in El Paso, Texas and Dayton, Ohio that claimed the lives of 31 people.\n",
      "17\n",
      "Jason Chaffetz: To stop more shootings, stop erasing criminal records of juveniles prone to violence\n",
      "After the mass shooting in Dayton, Ohio, Fox News contributor Jason Chaffetz argues that law enforcement should have access to juvenile records to prevent more violence.The mass shooter in Dayton, Ohio who was killed by police early Sunday after he shot nine people to death and wounded more than a dozen fit the now-familiar profile of the troubled youth with a well-documented history of threats dating back to high school.The Dayton gunman had a &quot;kill list&quot; and had interacted with law enforcement as a minor, authorities said.Similarly, the man charged with killing 17 people and wounding 17 others at Marjory Stoneman Douglas High School in Parkland, Fla., last year was also well known to high school counselors and local police before he turned 18, police said.\n",
      "18\n",
      "Gutfeld on media coverage of the mass shootings\n",
      "Press prioritizes some shootings over others for coverage.A headline on a Boston Globe editorial says: &#x201C;The hypocrite in chief takes on domestic terror.&quot; But even if President Trump were a hypocrite, he&apos;d be doing more to take on &quot;domestic terror&quot; than the Boston Globe or any of its siblings in New York, San Francisco or&#xA0;Los Angeles. Want proof? Read the papers.The Globe is talking about the El Paso story&#xA0;because it&apos;s a horrible,&#xA0;mass public shooting, but also because the shooter fits the media&apos;s desired profile.\n",
      "19\n"
     ]
    },
    {
     "name": "stdout",
     "output_type": "stream",
     "text": [
      "Bradley Blakeman: It's time for gun safety, increased mental health care – Let's come together America\n",
      "The 'Outnumbered' panel reacts to the political divisiveness coming from Democrats in the aftermath of the tragedies in Texas and Ohio.Now is the time for our nation to come together and tackle gun safety and mental health screening and treatment in a meaningful way.There are an estimated 300 million+ firearms in America today. It is unreasonable and more importantly unconstitutional to confiscate weapons out of hand. But, it is reasonable and constitutional to regulate them.Now is the time to institute national and uniform background checks prior to the purchase of firearms. We must change and close loopholes that cover gun-shows and person to person sales.\n",
      "20\n",
      "Gary Brubaker: El Paso, Dayton -- 'Monopoly' doesn't create slumlords. Video games don't school sociopaths\n",
      "Rod 'Slasher' Breslau says politicians are perpetuating the myth that games inspire young Americans to commit violent acts.Personally and corporately as a nation, we recoil in horror and grief at the continued gun violence in the United States.Politicians want to seek solutions that will make a meaningful difference. A number of our national and state leaders allege that playing video games can change people into criminals capable of carrying out mass shootings.&#xA0;The theory being that playing video games can cause psychological breaks in otherwise non-violent individuals. That violent video games not only train people for murder, but create sociopaths. Therefore, violent video games are a root cause of our prolonged nightmare of large-scale shootings.I have been a video game developer for over two decades and have been a faculty member at the world&#x2019;s leading video game development graduate program, SMU Guildhall in Dallas, for over a decade. I have been on teams that authored best-selling titles and have taught current leaders in the industry at the graduate level.\n",
      "21\n",
      "WSJ: The Dayton killer was a left-winger, but don't blame Elizabeth Warren\n",
      "The gunman killed nice people in 30 seconds before officers killed him; Mike Tobin reports.Police in Dayton say they&#x2019;re still seeking a motive for Connor Betts&#x2019; shooting spree that killed nine people, including his sister. But whatever turns up, we hope no one blames Elizabeth Warren.We say that because the news site Heavy.com, which gained access to Betts&#x2019; Twitter account before it was taken down, reports that his politics appear to have been left of center. The shooter recently tweeted that he would &#x201C;happily&#x201D; vote for Senator Warren. His Twitter profile also read: &#x201C;he/him/anime fan/metalhead/leftist/i&#x2019;m going to hell and i&#x2019;m not coming back.&#x201D; In December last he wrote: &#x201C;This is America: Guns on every corner, guns in every house, no freedom but to kill.&#x201D; A month before that, he wrote: &#x201C;Vote blue for gods sake.&#x201D;The Dayton shooter’s leftist ravings are notable only because the media and Democratic politicians have drawn a straight line between the El Paso shooter’s anti-immigrant “manifesto” and Donald Trump and the Republican Party.CLICK HERE TO GET THE FOX NEWS APP\n",
      "22\n",
      "Daniel Turner, Kent Lassman: Green New Deal is no deal at all – We know because we studied it\n",
      "Power the Future says the progressive policy will cost households at least $70,000 in the first year.When Rep. Alexandria Ocasio-Cortez, D-N.Y.,&#xA0;and Sen.&#xA0;Ed Markey, D-Mass.,&#xA0;unveiled the Green New Deal in February, they instantly changed the conversation on environmental policy. What in times past would be generally perceived as an intrusive, radically transformative proposal is now the center of Democratic Party&apos;s platform.Power the Future and the Competitive Enterprise Institute have released a joint study showing households in five states can expect tens of thousands of dollars in higher costs for energy, housing, transportation, and shipping if this proposal is implemented.Despite the astronomical costs, many of the 2020 Democratic presidential candidates have endorsed the proposal, claiming the radical blueprint to ration energy and transform our economy is exactly what America needs. No longer is it &#x201C;climate change&#x201D; but &#x201C;climate emergency&#x201D; or even &#x201C;climate crisis.&#x201D; As such, small measures are unwelcome to Green New Deal supporters. Only the most radical environmental proposals, paired with a liberal wish list including single-payer health care, a jobs program, and decarbonization of the economy within a decade could possibly be enough.\n",
      "23\n",
      "Christen Limbaugh Bloom: 'Bachelorette' Hannah Brown deserves the most praise for THIS\n",
      "The popular ABC show's star, Hannah Brown, made a remark about her relationship with Jesus in spite of having pre-marital sex. The remark ignited controversy between her and one of the contestants, Luke Parker, who has also been open about being a Christian.ABC&#x2019;s hit reality series &#x201C;The Bachelorette&#x201D; wrapped up last week. Many people, including host Chris Harrison, labeled it the &#x201C;most dramatic season&#x201D; in the show&#x2019;s history.Bachelorette Hannah Brown won the admiration of countless viewers for her strength amidst several controversies both during and after her season on the show.After watching her journey from start to finish, I believe there was one particular moment when she truly shined--and my choice is probably not a popular opinion.\n",
      "24\n",
      "Bradley Blakeman: Iran has been hostile to ships near the Strait of Hormuz – It's time for THIS solution\n",
      "The oil tankers, operated by British companies, were seized in international waters.The use of decoys has been used with great success to fool an enemy or deter an enemy from attacking what could be a trap or a trick.Who could forget the most famous decoy in war &#x2013; the Trojan Horse &#x2013; a giant hollow wooden horse used by the Greeks to fool the Trojans. The Horse was left at the gates of Troy as an offering of peace to the goddess Athena the goddess of war. After the horse was left at the gates of Troy, the Greeks retreated. Thereafter, the Trojans moved the horse inside the gates of Troy only to find that the horse was chock full of Greek &#x201C;special forces&#x201D; who exited the horse at dark, opened the gates of Troy and let in the Greek army who overwhelmed the Trojans and captured the city.Fast forward to 1942. The Army built a decoy airfield in Virginia to fool the Nazi Luftwaffe. It was constructed in response to the fear of an attack by ever-increasing long-range bombers. What the phony airfield concealed was batteries of anti-aircraft weapons.\n",
      "25\n",
      "Kayleigh McEnany: After El Paso, Dayton tragedies Trump offers real reform that deserves bipartisan support\n",
      "Trump addresses the nation on mass shootings in El Paso and Dayton, announces steps to combat violence; chief White House correspondent John Roberts.While left-wing partisans scramble to politicize the tragic mass shootings in El Paso and Dayton that took 31&#xA0;lives, President Trump proposed commonsense, bipartisan solutions that should be taken seriously.On Monday, President Trump categorically condemned &#x201C;racism, bigotry and white supremacy&#x201D; and stated in no uncertain terms that &#x201C;hate has no place in America.&#x201D;Additionally, the president&#xA0;laid out a number of concrete proposals to address mass shootings.&#xA0;The proposals ranged from instructing the Department of Justice to work with social media companies to &#x201C;develop tools that can detect mass shooters before they strike&#x201D; to pursuing the death penalty for these perpetrators.\n",
      "26\n",
      "Gutfeld on this weekend's deadly shootings\n",
      "Nation in mourning following mass shootings in El Paso, Texas and Dayton, Ohio.The urge after a public mass shooting is to do something.&#xA0;But whatever the something is, it&apos;ll be the wrong thing for somebody.You could surveil social media, create a database, get court orders based on testimonies, take the guns, address mental health.EL PASO SHOOTING FATALITIES NOW AT 22 AFTER VICTIM DIES AT HOSPITAL MONDAY MORNING, POLICE SAY\n",
      "27\n"
     ]
    },
    {
     "name": "stdout",
     "output_type": "stream",
     "text": [
      "Kent Ingle: Trump, Baltimore and the lost art of civility\n",
      "Trump uses Jamestown anniversary to praise the contribution of African-Americans to American democracy while launching a broadside at House Oversight Chairman Elijah Cummings and his district's mismanagement; chief White House correspondent John Roberts reports.After a few tweets from President Trump on Rep. Elijah Cummings and the current state of Baltimore, another feud has been lit.As Republicans readily acknowledge the dangerous culture of Maryland&#x2019;s &#x201C;Charm City,&#x201D; Democrats harp that the city is just fine. Meanwhile, the likes of Bernie Sanders admittedly refer to it as a &#x201C;third world country&#x201D; (though no one would label Sanders a racist for his brutal honesty). It is all just another display of civility dying within our nation.While government, culture and media would say civility should just be thrown out the window, or politeness is what you make it, scripture would say differently. They are the simple lessons we learned as children -- in kindergarten, in Sunday school or in a healthy home -- as to how we approach conflict.\n",
      "28\n",
      "Todd Starnes: CNN, Democrats use El Paso massacre to take cheap shots at Trump\n",
      "Democratic presidential candidate chokes back tears as he addresses the media; Claudia Cowan reports from Las Vegas.I watch CNN, so my radio show audience does not have to.That was an act of public service I made to listeners of &quot;The Todd Starnes Show&quot; audience when we launched the program more than two years ago on Fox News Radio.CLICK HERE TO PRE-ORDER TODD&#x2019;S EXPLOSIVE NEW BOOK, &#x201C;CULTURE JIHAD: HOW TO STOP THE LEFT FROM KILLING A NATION.&#x201D;\n",
      "29\n",
      "Steve Hilton: After every mass shooting we replay the same unhelpful loop\n"
     ]
    },
    {
     "ename": "IndexError",
     "evalue": "list index out of range",
     "output_type": "error",
     "traceback": [
      "\u001b[0;31m---------------------------------------------------------------------------\u001b[0m",
      "\u001b[0;31mIndexError\u001b[0m                                Traceback (most recent call last)",
      "\u001b[0;32m<ipython-input-31-331a576d573e>\u001b[0m in \u001b[0;36m<module>\u001b[0;34m\u001b[0m\n\u001b[1;32m     11\u001b[0m     \u001b[0mcon\u001b[0m \u001b[0;34m=\u001b[0m \u001b[0mre\u001b[0m\u001b[0;34m.\u001b[0m\u001b[0mfindall\u001b[0m\u001b[0;34m(\u001b[0m\u001b[0;34m'<p .+?>(.+?)</p><p>'\u001b[0m\u001b[0;34m,\u001b[0m \u001b[0mtext\u001b[0m\u001b[0;34m)\u001b[0m\u001b[0;34m\u001b[0m\u001b[0;34m\u001b[0m\u001b[0m\n\u001b[1;32m     12\u001b[0m \u001b[0;31m#     print(con)\u001b[0m\u001b[0;34m\u001b[0m\u001b[0;34m\u001b[0m\u001b[0;34m\u001b[0m\u001b[0m\n\u001b[0;32m---> 13\u001b[0;31m     \u001b[0mcon\u001b[0m \u001b[0;34m=\u001b[0m \u001b[0mre\u001b[0m\u001b[0;34m.\u001b[0m\u001b[0msub\u001b[0m\u001b[0;34m(\u001b[0m\u001b[0;34m'<.+?>'\u001b[0m\u001b[0;34m,\u001b[0m \u001b[0;34m''\u001b[0m\u001b[0;34m,\u001b[0m \u001b[0mcon\u001b[0m\u001b[0;34m[\u001b[0m\u001b[0;36m0\u001b[0m\u001b[0;34m]\u001b[0m\u001b[0;34m)\u001b[0m\u001b[0;34m\u001b[0m\u001b[0;34m\u001b[0m\u001b[0m\n\u001b[0m\u001b[1;32m     14\u001b[0m     \u001b[0mprint\u001b[0m\u001b[0;34m(\u001b[0m\u001b[0mcon\u001b[0m\u001b[0;34m)\u001b[0m\u001b[0;34m\u001b[0m\u001b[0;34m\u001b[0m\u001b[0m\n\u001b[1;32m     15\u001b[0m     \u001b[0mprint\u001b[0m\u001b[0;34m(\u001b[0m\u001b[0mi\u001b[0m\u001b[0;34m)\u001b[0m\u001b[0;34m\u001b[0m\u001b[0;34m\u001b[0m\u001b[0m\n",
      "\u001b[0;31mIndexError\u001b[0m: list index out of range"
     ]
    }
   ],
   "source": [
    "title = []\n",
    "content = []\n",
    "i = 0\n",
    "for article in article_list:\n",
    "    \n",
    "    text = requests.get(url + article).text\n",
    "    \n",
    "    ttl = re.findall('<h1 class=\"headline\">(.+?)</h1>', text)\n",
    "    print(ttl[0])\n",
    "    title.append(ttl)\n",
    "    con = re.findall('<p .+?>(.+?)</p><p>', text)\n",
    "#     print(con)\n",
    "    con = re.sub('<.+?>', '', con[0])\n",
    "    print(con)\n",
    "    print(i)\n",
    "    content.append(con)\n",
    "    i += 1"
   ]
  },
  {
   "cell_type": "code",
   "execution_count": 33,
   "metadata": {},
   "outputs": [
    {
     "name": "stdout",
     "output_type": "stream",
     "text": [
      "31\n"
     ]
    },
    {
     "data": {
      "text/plain": [
       "[\"Michael Goodwin: Trump is someone you need to work with, Democrats. It's time for Washington to come together\",\n",
       " 'Jason Chaffetz: To stop more shootings, stop erasing criminal records of juveniles prone to violence',\n",
       " \"Todd Starnes: Country music going liberal? Sweet mercy, let's hope it's not getting Dixie-Chick-a-fied\",\n",
       " \"WSJ: The Dayton killer was a left-winger, but don't blame Elizabeth Warren\",\n",
       " \"Bradley Blakeman: It's time for gun safety, increased mental health care – Let's come together America\",\n",
       " 'Alfredo Ortiz: In the Trump economy small businesses are thriving -- So why are Dems working to undermine it?',\n",
       " \"Gary Brubaker: El Paso, Dayton -- 'Monopoly' doesn't create slumlords. Video games don't school sociopaths\",\n",
       " \"Gutfeld on the media's polarizing attacks\",\n",
       " 'Newt Gingrich: Left viciously attacks McConnell because he’s successful Senate leader and Trump ally',\n",
       " \"Andy Puzder: Blame China's broken promises for Trump imposing tariffs\",\n",
       " \"Michael Goodwin: Trump is someone you need to work with, Democrats. It's time for Washington to come together\",\n",
       " 'Kent Ingle: After El Paso &amp; Dayton, here are 5 ways to process grief in the face of tragedy',\n",
       " \"Todd Starnes: Country music going liberal? Sweet mercy, let's hope it's not getting Dixie-Chick-a-fied\",\n",
       " 'Dan Gainor: The New York Times changes its headline, caves to the mob and shows it has lost its mind',\n",
       " 'Alfredo Ortiz: In the Trump economy small businesses are thriving -- So why are Dems working to undermine it?',\n",
       " 'Tucker Carlson: The left demands conformity, will use threats to keep people in line until the next election',\n",
       " 'Gil Barndollar: War with Iran would be foolish – Our relations will improve in the long run',\n",
       " 'Samantha Nerove: Why so many mass murders? Study impact of violent video games and impose age restrictions',\n",
       " 'Jason Chaffetz: To stop more shootings, stop erasing criminal records of juveniles prone to violence',\n",
       " 'Gutfeld on media coverage of the mass shootings',\n",
       " \"Bradley Blakeman: It's time for gun safety, increased mental health care – Let's come together America\",\n",
       " \"Gary Brubaker: El Paso, Dayton -- 'Monopoly' doesn't create slumlords. Video games don't school sociopaths\",\n",
       " \"WSJ: The Dayton killer was a left-winger, but don't blame Elizabeth Warren\",\n",
       " 'Daniel Turner, Kent Lassman: Green New Deal is no deal at all – We know because we studied it',\n",
       " \"Christen Limbaugh Bloom: 'Bachelorette' Hannah Brown deserves the most praise for THIS\",\n",
       " \"Bradley Blakeman: Iran has been hostile to ships near the Strait of Hormuz – It's time for THIS solution\",\n",
       " 'Kayleigh McEnany: After El Paso, Dayton tragedies Trump offers real reform that deserves bipartisan support',\n",
       " \"Gutfeld on this weekend's deadly shootings\",\n",
       " 'Kent Ingle: Trump, Baltimore and the lost art of civility',\n",
       " 'Todd Starnes: CNN, Democrats use El Paso massacre to take cheap shots at Trump',\n",
       " 'Steve Hilton: After every mass shooting we replay the same unhelpful loop']"
      ]
     },
     "execution_count": 33,
     "metadata": {},
     "output_type": "execute_result"
    }
   ],
   "source": [
    "title = [s[0] for s in title]\n",
    "print(len(title))\n",
    "title"
   ]
  },
  {
   "cell_type": "code",
   "execution_count": 34,
   "metadata": {},
   "outputs": [
    {
     "data": {
      "text/plain": [
       "30"
      ]
     },
     "execution_count": 34,
     "metadata": {},
     "output_type": "execute_result"
    }
   ],
   "source": [
    "len(content)"
   ]
  },
  {
   "cell_type": "code",
   "execution_count": 38,
   "metadata": {},
   "outputs": [
    {
     "data": {
      "text/html": [
       "<div>\n",
       "<style scoped>\n",
       "    .dataframe tbody tr th:only-of-type {\n",
       "        vertical-align: middle;\n",
       "    }\n",
       "\n",
       "    .dataframe tbody tr th {\n",
       "        vertical-align: top;\n",
       "    }\n",
       "\n",
       "    .dataframe thead th {\n",
       "        text-align: right;\n",
       "    }\n",
       "</style>\n",
       "<table border=\"1\" class=\"dataframe\">\n",
       "  <thead>\n",
       "    <tr style=\"text-align: right;\">\n",
       "      <th></th>\n",
       "      <th>title</th>\n",
       "      <th>content</th>\n",
       "    </tr>\n",
       "  </thead>\n",
       "  <tbody>\n",
       "    <tr>\n",
       "      <th>0</th>\n",
       "      <td>Michael Goodwin: Trump is someone you need to ...</td>\n",
       "      <td>Michael Goodwin says Donald Trump is a preside...</td>\n",
       "    </tr>\n",
       "    <tr>\n",
       "      <th>1</th>\n",
       "      <td>Jason Chaffetz: To stop more shootings, stop e...</td>\n",
       "      <td>After the mass shooting in Dayton, Ohio, Fox N...</td>\n",
       "    </tr>\n",
       "    <tr>\n",
       "      <th>2</th>\n",
       "      <td>Todd Starnes: Country music going liberal? Swe...</td>\n",
       "      <td>Country music singer Kacey Musgraves urged fan...</td>\n",
       "    </tr>\n",
       "    <tr>\n",
       "      <th>3</th>\n",
       "      <td>WSJ: The Dayton killer was a left-winger, but ...</td>\n",
       "      <td>The gunman killed nice people in 30 seconds be...</td>\n",
       "    </tr>\n",
       "    <tr>\n",
       "      <th>4</th>\n",
       "      <td>Bradley Blakeman: It's time for gun safety, in...</td>\n",
       "      <td>The 'Outnumbered' panel reacts to the politica...</td>\n",
       "    </tr>\n",
       "  </tbody>\n",
       "</table>\n",
       "</div>"
      ],
      "text/plain": [
       "                                               title  \\\n",
       "0  Michael Goodwin: Trump is someone you need to ...   \n",
       "1  Jason Chaffetz: To stop more shootings, stop e...   \n",
       "2  Todd Starnes: Country music going liberal? Swe...   \n",
       "3  WSJ: The Dayton killer was a left-winger, but ...   \n",
       "4  Bradley Blakeman: It's time for gun safety, in...   \n",
       "\n",
       "                                             content  \n",
       "0  Michael Goodwin says Donald Trump is a preside...  \n",
       "1  After the mass shooting in Dayton, Ohio, Fox N...  \n",
       "2  Country music singer Kacey Musgraves urged fan...  \n",
       "3  The gunman killed nice people in 30 seconds be...  \n",
       "4  The 'Outnumbered' panel reacts to the politica...  "
      ]
     },
     "execution_count": 38,
     "metadata": {},
     "output_type": "execute_result"
    }
   ],
   "source": [
    "Fox = pd.DataFrame({'title':title[:-1], 'content':content})\n",
    "Fox.head()"
   ]
  },
  {
   "cell_type": "code",
   "execution_count": 39,
   "metadata": {},
   "outputs": [],
   "source": [
    "Fox.to_csv('Fox.csv')"
   ]
  }
 ],
 "metadata": {
  "kernelspec": {
   "display_name": "Python 3",
   "language": "python",
   "name": "python3"
  },
  "language_info": {
   "codemirror_mode": {
    "name": "ipython",
    "version": 3
   },
   "file_extension": ".py",
   "mimetype": "text/x-python",
   "name": "python",
   "nbconvert_exporter": "python",
   "pygments_lexer": "ipython3",
   "version": "3.7.2"
  }
 },
 "nbformat": 4,
 "nbformat_minor": 2
}
