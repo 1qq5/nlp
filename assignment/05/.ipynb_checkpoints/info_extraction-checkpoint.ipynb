{
 "cells": [
  {
   "cell_type": "code",
   "execution_count": 1,
   "metadata": {},
   "outputs": [],
   "source": [
    "import re, jieba, pymysql\n",
    "from gensim.models.word2vec import Word2Vec\n",
    "import pandas as pd"
   ]
  },
  {
   "cell_type": "code",
   "execution_count": 2,
   "metadata": {},
   "outputs": [],
   "source": [
    "model = Word2Vec.load('word2vec_model')"
   ]
  },
  {
   "cell_type": "code",
   "execution_count": 3,
   "metadata": {},
   "outputs": [],
   "source": [
    "db = pymysql.connect(host='rm-8vbwj6507z6465505ro.mysql.zhangbei.rds.aliyuncs.com',\n",
    "                    port=3306,user='root',password='AI@2019@ai', database='stu_db')\n",
    "cursor = db.cursor()\n",
    "sql = 'select * from news_chinese'\n",
    "cursor.execute(sql)\n",
    "result = cursor.fetchall()\n",
    "db.close()"
   ]
  },
  {
   "cell_type": "code",
   "execution_count": 4,
   "metadata": {},
   "outputs": [],
   "source": [
    "reports = pd.Series([str(s).split(\", \")[3] for s in result[1:]])"
   ]
  },
  {
   "cell_type": "code",
   "execution_count": 5,
   "metadata": {},
   "outputs": [
    {
     "data": {
      "text/plain": [
       "0    '\\\\n\\\\n2017年5月25日，在美国马萨诸塞州剑桥市，哈佛大学毕业生在毕业典礼上欢呼。...\n",
       "1    '\\\\n\\\\n2017年5月29日，在法国巴黎郊外的凡尔赛宫，法国总统马克龙出席新闻发布会。...\n",
       "2    '新华社兰州6月3日电（王衡、徐丹）记者从甘肃省交通运输厅获悉，甘肃近日集中开建高速公路、普...\n",
       "3    '新华社照片，多伦多，2017年6月7日\\\\n（体育）（2）冰球——国家女子冰球队海外选秀在...\n",
       "4    '新华社照片，北京，2017年6月7日\\\\n电影《血战湘江》举行清华大学巡映活动\\\\n6月6...\n",
       "dtype: object"
      ]
     },
     "execution_count": 5,
     "metadata": {},
     "output_type": "execute_result"
    }
   ],
   "source": [
    "reports[:5]"
   ]
  },
  {
   "cell_type": "code",
   "execution_count": 6,
   "metadata": {},
   "outputs": [],
   "source": [
    "word_similar = set()\n",
    "model.wv.most_similar(['说'])\n",
    "words = [s[0] for s in model.wv.most_similar(['说'])]\n",
    "for w in words:\n",
    "#     vector = model.wv.most_similar([w])\n",
    "    word= [s[0] for s in model.wv.most_similar([w])]\n",
    "#     print(word)\n",
    "    word_similar.update([w for w in word])"
   ]
  },
  {
   "cell_type": "code",
   "execution_count": 7,
   "metadata": {},
   "outputs": [
    {
     "name": "stdout",
     "output_type": "stream",
     "text": [
      "{'透露', '告诉', '一峰', '介绍', '坦言', '还称', '看来', '十年如一日', '直言', '认为', '声称', '发表', '明说', '中说', '观点', '研究生院', '称该', '称呼', '表示', '援引', '深知', '农艺师', '写道', '提到', '爱华', '得知', '地说', '中称', '说', '称', '称赞', '国利', '见到', '坦承', '指出', '说来', '永康', '普遍认为', '强调', '时说', '说完', '说道', '时称', '上称', '问', '强调指出', '所说'}\n"
     ]
    }
   ],
   "source": [
    "print(word_similar)"
   ]
  },
  {
   "cell_type": "code",
   "execution_count": 8,
   "metadata": {},
   "outputs": [
    {
     "name": "stdout",
     "output_type": "stream",
     "text": [
      "['透露', '告诉', '介绍', '坦言', '还称', '直言', '认为', '声称', '发表', '明说', '中说', '称该', '表示', '深知', '写道', '提到', '地说', '中称', '说', '称', '称赞', '坦承', '指出', '说来', '普遍认为', '强调', '时说', '说完', '说道', '时称', '上称', '所说']\n"
     ]
    }
   ],
   "source": [
    "remove = ['十年如一日', '永康', '强调指出', '看来', '见到', '爱华', '国利', '援引', '农艺师',\n",
    "          '一峰', '观点', '得知', '研究生院', '问', '称呼']\n",
    "word_similar = [s for s in word_similar if s not in remove]\n",
    "print(word_similar)"
   ]
  }
 ],
 "metadata": {
  "kernelspec": {
   "display_name": "Python 3",
   "language": "python",
   "name": "python3"
  },
  "language_info": {
   "codemirror_mode": {
    "name": "ipython",
    "version": 3
   },
   "file_extension": ".py",
   "mimetype": "text/x-python",
   "name": "python",
   "nbconvert_exporter": "python",
   "pygments_lexer": "ipython3",
   "version": "3.7.3"
  }
 },
 "nbformat": 4,
 "nbformat_minor": 2
}
