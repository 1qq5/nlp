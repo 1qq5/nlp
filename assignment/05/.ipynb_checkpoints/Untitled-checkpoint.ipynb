{
 "cells": [
  {
   "cell_type": "code",
   "execution_count": 8,
   "metadata": {},
   "outputs": [],
   "source": [
    "import pyltp\n",
    "import re, jieba, pymysql\n",
    "from gensim.models.word2vec import Word2Vec\n",
    "import pandas as pd"
   ]
  },
  {
   "cell_type": "markdown",
   "metadata": {},
   "source": [
    "# info extraction"
   ]
  },
  {
   "cell_type": "code",
   "execution_count": 9,
   "metadata": {},
   "outputs": [],
   "source": [
    "model = Word2Vec.load('word2vec_model')"
   ]
  },
  {
   "cell_type": "code",
   "execution_count": 10,
   "metadata": {},
   "outputs": [],
   "source": [
    "db = pymysql.connect(host='rm-8vbwj6507z6465505ro.mysql.zhangbei.rds.aliyuncs.com',\n",
    "                    port=3306,user='root',password='AI@2019@ai', database='stu_db')\n",
    "cursor = db.cursor()\n",
    "sql = 'select * from news_chinese'\n",
    "cursor.execute(sql)\n",
    "result = cursor.fetchall()\n",
    "db.close()"
   ]
  },
  {
   "cell_type": "code",
   "execution_count": 11,
   "metadata": {},
   "outputs": [
    {
     "data": {
      "text/plain": [
       "0    '\\\\n\\\\n2017年5月25日，在美国马萨诸塞州剑桥市，哈佛大学毕业生在毕业典礼上欢呼。...\n",
       "1    '\\\\n\\\\n2017年5月29日，在法国巴黎郊外的凡尔赛宫，法国总统马克龙出席新闻发布会。...\n",
       "2    '新华社兰州6月3日电（王衡、徐丹）记者从甘肃省交通运输厅获悉，甘肃近日集中开建高速公路、普...\n",
       "3    '新华社照片，多伦多，2017年6月7日\\\\n（体育）（2）冰球——国家女子冰球队海外选秀在...\n",
       "4    '新华社照片，北京，2017年6月7日\\\\n电影《血战湘江》举行清华大学巡映活动\\\\n6月6...\n",
       "dtype: object"
      ]
     },
     "execution_count": 11,
     "metadata": {},
     "output_type": "execute_result"
    }
   ],
   "source": [
    "reports = pd.Series([str(s).split(\", \")[3] for s in result[1:]])\n",
    "reports[:5]"
   ]
  },
  {
   "cell_type": "markdown",
   "metadata": {},
   "source": [
    "# extraction of words similar to '说'"
   ]
  },
  {
   "cell_type": "code",
   "execution_count": 12,
   "metadata": {},
   "outputs": [
    {
     "name": "stdout",
     "output_type": "stream",
     "text": [
      "{'指出', '地说', '农艺师', '普遍认为', '还称', '中称', '中说', '说道', '永康', '直言', '认为', '深知', '时说', '时称', '发表', '明说', '国利', '声称', '说来', '写道', '见到', '援引', '爱华', '坦言', '介绍', '表示', '说完', '问', '称呼', '研究生院', '得知', '十年如一日', '看来', '透露', '告诉', '观点', '所说', '说', '称赞', '强调指出', '坦承', '称该', '上称', '提到', '一峰', '称', '强调'}\n"
     ]
    }
   ],
   "source": [
    "word_similar = set()\n",
    "model.wv.most_similar(['说'])\n",
    "words = [s[0] for s in model.wv.most_similar(['说'])]\n",
    "for w in words:\n",
    "    word= [s[0] for s in model.wv.most_similar([w])]\n",
    "    word_similar.update([w for w in word])\n",
    "\n",
    "print(word_similar)"
   ]
  },
  {
   "cell_type": "markdown",
   "metadata": {},
   "source": [
    "# remove unrelated words"
   ]
  },
  {
   "cell_type": "code",
   "execution_count": 24,
   "metadata": {},
   "outputs": [
    {
     "name": "stdout",
     "output_type": "stream",
     "text": [
      "['指出', '地说', '普遍认为', '还称', '中称', '中说', '直言', '认为', '时说', '时称', '明说', '声称', '说来', '坦言', '表示', '说完', '告诉', '所说', '说', '称赞', '坦承', '上称', '提到', '称', '强调']\n"
     ]
    }
   ],
   "source": [
    "remove = ['十年如一日', '永康', '强调指出', '看来', '见到', '爱华', '国利', '援引', '农艺师', '一峰', '观点', '得知', \n",
    "          '研究生院', '问', '称呼', '说道', '写道', '深知', '发表', '介绍', '透露', '称该', ]\n",
    "word_similar = [s for s in word_similar if s not in remove]\n",
    "print(word_similar)"
   ]
  },
  {
   "cell_type": "markdown",
   "metadata": {},
   "source": [
    "# extract news with saying sth."
   ]
  },
  {
   "cell_type": "code",
   "execution_count": 25,
   "metadata": {},
   "outputs": [
    {
     "data": {
      "text/plain": [
       "54869"
      ]
     },
     "execution_count": 25,
     "metadata": {},
     "output_type": "execute_result"
    }
   ],
   "source": [
    "news_w_opinions = []\n",
    "for article in reports:\n",
    "    for w in word_similar:\n",
    "        if w in article and '“' in article:\n",
    "            news_w_opinions.append(article)\n",
    "len(news_w_opinions)"
   ]
  },
  {
   "cell_type": "code",
   "execution_count": 19,
   "metadata": {},
   "outputs": [
    {
     "data": {
      "text/plain": [
       "89610"
      ]
     },
     "execution_count": 19,
     "metadata": {},
     "output_type": "execute_result"
    }
   ],
   "source": [
    "len(reports)"
   ]
  },
  {
   "cell_type": "code",
   "execution_count": 26,
   "metadata": {},
   "outputs": [
    {
     "data": {
      "text/plain": [
       "\"'\\\\\\\\n\\\\\\\\n2017年5月29日，在法国巴黎郊外的凡尔赛宫，法国总统马克龙出席新闻发布会。（新华/法新）\\\\\\\\n\\\\\\\\n新华社北京6月7日电（记者张旌）法国定于6月11日举行议会选举首轮投票。最新民调结果显示，总统埃马纽埃尔·马克龙领导的“共和国前进”运动将在这场选举中获得“压倒性胜利”，不仅将赢得议会多数席位，数量还可望创下1968年以来历届执政党的最高值。\\\\\\\\n对马克龙而言，要坐稳总统宝座，赢得这场选举至关重要。法国议会选举有着“第三轮选举”之称，将决定议会多数派归属，影响法国政府未来五年的实际执政方向。\\\\\\\\n民调机构益普索集团6日公布的最新民调结果显示，在本月11日举行的议会选举首轮投票中，马克龙领导的“共和国前进”运动得票率将可达29.5%。相比之下，共和党阵营得票率预计为23%，极右翼“国民阵线”得票率预计为17%，极左翼政治势力“不屈法国”得票率预计为12.5%，而社会党有望获得8.5%的选票。\\\\\\\\n这项民调同时显示，在定于6月18日举行的议会选举第二轮投票中，“共和国前进”运动将获得议会下院577个议席中的385至415个议席。\\\\\\\\n在一周前进行的另一场类似民调中，“共和国前进”运动预计得票率曾高达31%。新政府两名部长被曝牵涉“空饷门”后，“共和国前进”运动的支持率似乎有下跌之势。\\\\\\\\n不过，民调结果显示，“空饷门”事件并未影响马克龙在民众心目中的形象。约60%的受访者表示，他们对马克龙的表现感到满意。\\\\\\\\n“共和国前进”运动去年6月成立，眼下在议会并无席位。此前曾有人担忧，如果“共和国前进”运动不能在议会选举中赢得多数席位，马克龙届时将被迫组建联合政府，甚至沦为“名义上的总统”。\\\\\\\\n'\""
      ]
     },
     "execution_count": 26,
     "metadata": {},
     "output_type": "execute_result"
    }
   ],
   "source": [
    "news_w_opinions[0]"
   ]
  },
  {
   "cell_type": "markdown",
   "metadata": {},
   "source": [
    "# split sentence"
   ]
  },
  {
   "cell_type": "code",
   "execution_count": 30,
   "metadata": {},
   "outputs": [],
   "source": [
    "# https://www.jianshu.com/p/f78453f5d1ca\n",
    "from pyltp import SentenceSplitter, Segmentor, Postagger\n",
    "import os\n",
    "\n",
    "#########################################################\n",
    "#################### sentence split #####################\n",
    "news_in_sentence = []\n",
    "for news in reports:\n",
    "    news_in_sentence.append(SentenceSplitter.split(news))\n",
    "#########################################################\n",
    "################### words split #########################\n",
    "news_in_words = []\n",
    "directory = '/Users/wenjiazhai/Desktop'\n",
    "cws_model_path=os.path.join(LTP_DATA_DIR,'cws.model')\n",
    "segmentor=Segmentor()\n",
    "segmentor.load(cws_model_path)\n",
    "for news in news_in_sentence:\n",
    "    news_in_words.append()"
   ]
  },
  {
   "cell_type": "code",
   "execution_count": 33,
   "metadata": {},
   "outputs": [
    {
     "ename": "ArgumentError",
     "evalue": "Python argument types in\n    Segmentor.segment(VectorOfString)\ndid not match C++ signature:\n    segment(Segmentor {lvalue}, std::__1::basic_string<char, std::__1::char_traits<char>, std::__1::allocator<char> >)",
     "output_type": "error",
     "traceback": [
      "\u001b[0;31m---------------------------------------------------------------------------\u001b[0m",
      "\u001b[0;31mArgumentError\u001b[0m                             Traceback (most recent call last)",
      "\u001b[0;32m<ipython-input-33-2b8856c9929f>\u001b[0m in \u001b[0;36m<module>\u001b[0;34m\u001b[0m\n\u001b[1;32m      3\u001b[0m \u001b[0msegmentor\u001b[0m\u001b[0;34m=\u001b[0m\u001b[0mSegmentor\u001b[0m\u001b[0;34m(\u001b[0m\u001b[0;34m)\u001b[0m\u001b[0;34m\u001b[0m\u001b[0;34m\u001b[0m\u001b[0m\n\u001b[1;32m      4\u001b[0m \u001b[0msegmentor\u001b[0m\u001b[0;34m.\u001b[0m\u001b[0mload\u001b[0m\u001b[0;34m(\u001b[0m\u001b[0mcws_model_path\u001b[0m\u001b[0;34m)\u001b[0m\u001b[0;34m\u001b[0m\u001b[0;34m\u001b[0m\u001b[0m\n\u001b[0;32m----> 5\u001b[0;31m \u001b[0mlist\u001b[0m\u001b[0;34m(\u001b[0m\u001b[0mSegmentor\u001b[0m\u001b[0;34m.\u001b[0m\u001b[0msegment\u001b[0m\u001b[0;34m(\u001b[0m\u001b[0mnews_in_sentence\u001b[0m\u001b[0;34m[\u001b[0m\u001b[0;36m0\u001b[0m\u001b[0;34m]\u001b[0m\u001b[0;34m)\u001b[0m\u001b[0;34m)\u001b[0m\u001b[0;34m\u001b[0m\u001b[0;34m\u001b[0m\u001b[0m\n\u001b[0m",
      "\u001b[0;31mArgumentError\u001b[0m: Python argument types in\n    Segmentor.segment(VectorOfString)\ndid not match C++ signature:\n    segment(Segmentor {lvalue}, std::__1::basic_string<char, std::__1::char_traits<char>, std::__1::allocator<char> >)"
     ]
    }
   ],
   "source": [
    "directory = '/Users/wenjiazhai/Desktop'\n",
    "cws_model_path=os.path.join(directory,'cws.model')\n",
    "segmentor=Segmentor()\n",
    "segmentor.load(cws_model_path)\n",
    "list(Segmentor.segment(news_in_sentence[0]))"
   ]
  }
 ],
 "metadata": {
  "kernelspec": {
   "display_name": "Python [conda env:py36]",
   "language": "python",
   "name": "conda-env-py36-py"
  },
  "language_info": {
   "codemirror_mode": {
    "name": "ipython",
    "version": 3
   },
   "file_extension": ".py",
   "mimetype": "text/x-python",
   "name": "python",
   "nbconvert_exporter": "python",
   "pygments_lexer": "ipython3",
   "version": "3.6.9"
  }
 },
 "nbformat": 4,
 "nbformat_minor": 2
}
