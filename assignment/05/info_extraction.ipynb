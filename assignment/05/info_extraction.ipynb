{
 "cells": [
  {
   "cell_type": "code",
   "execution_count": 23,
   "metadata": {},
   "outputs": [],
   "source": [
    "import re, jieba, pymysql\n",
    "from gensim.models.word2vec import Word2Vec\n",
    "import pandas as pd"
   ]
  },
  {
   "cell_type": "code",
   "execution_count": 2,
   "metadata": {},
   "outputs": [
    {
     "name": "stderr",
     "output_type": "stream",
     "text": [
      "/anaconda3/lib/python3.7/site-packages/smart_open/smart_open_lib.py:398: UserWarning: This function is deprecated, use smart_open.open instead. See the migration notes for details: https://github.com/RaRe-Technologies/smart_open/blob/master/README.rst#migrating-to-the-new-open-function\n",
      "  'See the migration notes for details: %s' % _MIGRATION_NOTES_URL\n"
     ]
    }
   ],
   "source": [
    "model = Word2Vec.load('word2vec_model')"
   ]
  },
  {
   "cell_type": "code",
   "execution_count": 3,
   "metadata": {},
   "outputs": [],
   "source": [
    "db = pymysql.connect(host='rm-8vbwj6507z6465505ro.mysql.zhangbei.rds.aliyuncs.com',\n",
    "                    port=3306,user='root',password='AI@2019@ai', database='stu_db')\n",
    "cursor = db.cursor()\n",
    "sql = 'select * from news_chinese'\n",
    "cursor.execute(sql)\n",
    "result = cursor.fetchall()\n",
    "db.close()"
   ]
  },
  {
   "cell_type": "code",
   "execution_count": 4,
   "metadata": {},
   "outputs": [],
   "source": [
    "reports = pd.Series([str(s).split(\", \")[3] for s in result[1:]])"
   ]
  },
  {
   "cell_type": "code",
   "execution_count": 5,
   "metadata": {},
   "outputs": [
    {
     "data": {
      "text/plain": [
       "[\"'\\\\\\\\n\\\\\\\\n2017年5月25日，在美国马萨诸塞州剑桥市，哈佛大学毕业生在毕业典礼上欢呼。（新华/欧新）;;;;新华社北京6月7日电\\\\\\\\n（\\\\\\\\n记者\\\\\\\\n夏文辉）\\\\\\\\n据美国哈佛大学的知名校园媒体《哈佛深红色》消息，哈佛大学取消了至少10名新生的入学资格，因为他们在社交媒体脸书上发表了涉及性、种族歧视、儿童虐待及极端主义等不当内容。美联社等媒体5日转引了这一报道。\\\\\\\\n据报道，这些学生去年12月在脸书上建立了一个群，用于发布和共享信息，一些内容不堪入目。比如，一篇文章转载了一个死于叙利亚轰炸的儿童的血腥照片，图片不仅没有打码，不少学生还对此恶意戏谑。\\\\\\\\n据《哈佛深红色》报道，今年4月，哈佛大学招生部门向部分学生发函，要求他们解释在社交媒体上发布的极端和不当内容，并表示要审核他们的入学情况。校方同时通知他们不必参加4月新生的到校访问活动。大约一周后，至少10名学生接到通知，他们的入学资格被哈佛大学取消。\\\\\\\\n《哈佛深红色》没有给出未能入学学生的名字。美联社也未能联系到具体学生。哈佛大学发言人理查德·戴恩回复路透社采访询问说，校方不会公开讨论申请入学者情况。\\\\\\\\n按照哈佛大学的规定，以下几种情况有可能被学校取消入学资格：高中未能毕业、入学申请造假，以及申请人存在有违正直、诚实等品行的情况。\\\\\\\\n'\",\n",
       " \"'\\\\\\\\n\\\\\\\\n2017年5月29日，在法国巴黎郊外的凡尔赛宫，法国总统马克龙出席新闻发布会。（新华/法新）\\\\\\\\n\\\\\\\\n新华社北京6月7日电（记者张旌）法国定于6月11日举行议会选举首轮投票。最新民调结果显示，总统埃马纽埃尔·马克龙领导的“共和国前进”运动将在这场选举中获得“压倒性胜利”，不仅将赢得议会多数席位，数量还可望创下1968年以来历届执政党的最高值。\\\\\\\\n对马克龙而言，要坐稳总统宝座，赢得这场选举至关重要。法国议会选举有着“第三轮选举”之称，将决定议会多数派归属，影响法国政府未来五年的实际执政方向。\\\\\\\\n民调机构益普索集团6日公布的最新民调结果显示，在本月11日举行的议会选举首轮投票中，马克龙领导的“共和国前进”运动得票率将可达29.5%。相比之下，共和党阵营得票率预计为23%，极右翼“国民阵线”得票率预计为17%，极左翼政治势力“不屈法国”得票率预计为12.5%，而社会党有望获得8.5%的选票。\\\\\\\\n这项民调同时显示，在定于6月18日举行的议会选举第二轮投票中，“共和国前进”运动将获得议会下院577个议席中的385至415个议席。\\\\\\\\n在一周前进行的另一场类似民调中，“共和国前进”运动预计得票率曾高达31%。新政府两名部长被曝牵涉“空饷门”后，“共和国前进”运动的支持率似乎有下跌之势。\\\\\\\\n不过，民调结果显示，“空饷门”事件并未影响马克龙在民众心目中的形象。约60%的受访者表示，他们对马克龙的表现感到满意。\\\\\\\\n“共和国前进”运动去年6月成立，眼下在议会并无席位。此前曾有人担忧，如果“共和国前进”运动不能在议会选举中赢得多数席位，马克龙届时将被迫组建联合政府，甚至沦为“名义上的总统”。\\\\\\\\n'\",\n",
       " \"'新华社兰州6月3日电（王衡、徐丹）记者从甘肃省交通运输厅获悉，甘肃近日集中开建高速公路、普通国省道、服务区、物流园等涉及12个市州的35个重点交通建设项目，总投资达693.8亿元。\\\\\\\\n其中，投资最大的是5条高速和一级公路项目，投资604亿元，包括兰州高速二环公路（清水驿至苦水段、忠和至河口段）、G1816乌海－玛沁高速景泰至中川机场段、G8513平凉－绵阳高速平凉（华亭）至天水段、S216线平凉至华亭一级公路和G341线白银至中川机场段。\\\\\\\\n甘肃省交通运输厅介绍，此次集中开建35个重点交通建设项目，在进一步完善路网结构的同时，有助于促进甘肃经济运行趋稳向好、确保完成全年固定资产投资目标任务。（完）'\",\n",
       " \"'新华社照片，多伦多，2017年6月7日\\\\\\\\n（体育）（2）冰球——国家女子冰球队海外选秀在多伦多展开\\\\\\\\n6月6日，中国女子冰球队教练团队负责人迪杰特·墨菲（前）对参加选秀活动的运动员进行指导。\\\\\\\\n当日，为期两天的中国国家女子冰球队海外选秀在加拿大多伦多开始。\\\\\\\\n新华社发（邹峥摄）'\",\n",
       " \"'新华社照片，北京，2017年6月7日\\\\\\\\n电影《血战湘江》举行清华大学巡映活动\\\\\\\\n6月6日，电影《血战湘江》的部分主创人员在清华大学大礼堂举行的巡映活动上与师生分享电影拍摄感受。\\\\\\\\n当日，由八一电影制片厂等单位联合出品的英雄史诗电影《血战湘江》在北京清华大学大礼堂举行巡映活动。这部影片讲述了1934年红军付出巨大牺牲血战湘江的悲壮故事。\\\\\\\\n新华社记者郑焕松摄'\"]"
      ]
     },
     "execution_count": 5,
     "metadata": {},
     "output_type": "execute_result"
    }
   ],
   "source": [
    "reports[:5]"
   ]
  },
  {
   "cell_type": "code",
   "execution_count": 22,
   "metadata": {},
   "outputs": [],
   "source": [
    "word_similar = set()\n",
    "model.wv.most_similar(['说'])\n",
    "words = [s[0] for s in model.wv.most_similar(['说'])]\n",
    "for w in words:\n",
    "#     vector = model.wv.most_similar([w])\n",
    "    word= [s[0] for s in model.wv.most_similar([w])]\n",
    "#     print(word)\n",
    "    word_similar.update([w for w in word])"
   ]
  },
  {
   "cell_type": "code",
   "execution_count": 13,
   "metadata": {},
   "outputs": [
    {
     "name": "stdout",
     "output_type": "stream",
     "text": [
      "{'称该', '坦承', '强调', '十年如一日', '介绍', '永康', '强调指出', '中说', '看来', '见到', '发表', '爱华', '时称', '国利', '称', '写道', '明说', '透露', '援引', '深知', '声称', '中称', '研究生院', '上称', '指出', '称赞', '直言', '农艺师', '所说', '提到', '说', '告诉', '地说', '坦言', '问', '说来', '普遍认为', '说道', '认为', '时说', '一峰', '说完', '表示', '观点', '称呼', '还称', '得知'}\n"
     ]
    }
   ],
   "source": [
    "print(word_similar)"
   ]
  },
  {
   "cell_type": "code",
   "execution_count": 21,
   "metadata": {},
   "outputs": [
    {
     "name": "stdout",
     "output_type": "stream",
     "text": [
      "['称该', '坦承', '强调', '介绍', '强调指出', '中说', '看来', '见到', '发表', '时称', '称', '写道', '明说', '透露', '援引', '深知', '声称', '中称', '上称', '指出', '称赞', '直言', '所说', '提到', '说', '告诉', '地说', '坦言', '问', '说来', '普遍认为', '说道', '认为', '时说', '说完', '表示', '称呼', '还称']\n"
     ]
    }
   ],
   "source": [
    "remove = ['十年如一日', '永康', '爱华', '国利', '农艺师', '一峰', '观点', '得知', '研究生院']\n",
    "word_similar = [s for s in word_similar if s not in remove]\n",
    "print(word_similar)"
   ]
  },
  {
   "cell_type": "code",
   "execution_count": 15,
   "metadata": {},
   "outputs": [
    {
     "data": {
      "text/plain": [
       "['__and__',\n",
       " '__class__',\n",
       " '__contains__',\n",
       " '__delattr__',\n",
       " '__dir__',\n",
       " '__doc__',\n",
       " '__eq__',\n",
       " '__format__',\n",
       " '__ge__',\n",
       " '__getattribute__',\n",
       " '__gt__',\n",
       " '__hash__',\n",
       " '__iand__',\n",
       " '__init__',\n",
       " '__init_subclass__',\n",
       " '__ior__',\n",
       " '__isub__',\n",
       " '__iter__',\n",
       " '__ixor__',\n",
       " '__le__',\n",
       " '__len__',\n",
       " '__lt__',\n",
       " '__ne__',\n",
       " '__new__',\n",
       " '__or__',\n",
       " '__rand__',\n",
       " '__reduce__',\n",
       " '__reduce_ex__',\n",
       " '__repr__',\n",
       " '__ror__',\n",
       " '__rsub__',\n",
       " '__rxor__',\n",
       " '__setattr__',\n",
       " '__sizeof__',\n",
       " '__str__',\n",
       " '__sub__',\n",
       " '__subclasshook__',\n",
       " '__xor__',\n",
       " 'add',\n",
       " 'clear',\n",
       " 'copy',\n",
       " 'difference',\n",
       " 'difference_update',\n",
       " 'discard',\n",
       " 'intersection',\n",
       " 'intersection_update',\n",
       " 'isdisjoint',\n",
       " 'issubset',\n",
       " 'issuperset',\n",
       " 'pop',\n",
       " 'remove',\n",
       " 'symmetric_difference',\n",
       " 'symmetric_difference_update',\n",
       " 'union',\n",
       " 'update']"
      ]
     },
     "execution_count": 15,
     "metadata": {},
     "output_type": "execute_result"
    }
   ],
   "source": [
    "dir(word_similar)"
   ]
  }
 ],
 "metadata": {
  "kernelspec": {
   "display_name": "Python 3",
   "language": "python",
   "name": "python3"
  },
  "language_info": {
   "codemirror_mode": {
    "name": "ipython",
    "version": 3
   },
   "file_extension": ".py",
   "mimetype": "text/x-python",
   "name": "python",
   "nbconvert_exporter": "python",
   "pygments_lexer": "ipython3",
   "version": "3.7.3"
  }
 },
 "nbformat": 4,
 "nbformat_minor": 2
}
