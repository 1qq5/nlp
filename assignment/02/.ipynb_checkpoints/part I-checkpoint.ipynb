{
 "cells": [
  {
   "cell_type": "markdown",
   "metadata": {},
   "source": [
    "### 1. Re-code the house price machine learning"
   ]
  },
  {
   "cell_type": "code",
   "execution_count": 1,
   "metadata": {},
   "outputs": [
    {
     "name": "stdout",
     "output_type": "stream",
     "text": [
      "             CRIM          ZN       INDUS        CHAS         NOX          RM  \\\n",
      "count  506.000000  506.000000  506.000000  506.000000  506.000000  506.000000   \n",
      "mean     3.613524   11.363636   11.136779    0.069170    0.554695    6.284634   \n",
      "std      8.601545   23.322453    6.860353    0.253994    0.115878    0.702617   \n",
      "min      0.006320    0.000000    0.460000    0.000000    0.385000    3.561000   \n",
      "25%      0.082045    0.000000    5.190000    0.000000    0.449000    5.885500   \n",
      "50%      0.256510    0.000000    9.690000    0.000000    0.538000    6.208500   \n",
      "75%      3.677083   12.500000   18.100000    0.000000    0.624000    6.623500   \n",
      "max     88.976200  100.000000   27.740000    1.000000    0.871000    8.780000   \n",
      "\n",
      "              AGE         DIS         RAD         TAX     PTRATIO           B  \\\n",
      "count  506.000000  506.000000  506.000000  506.000000  506.000000  506.000000   \n",
      "mean    68.574901    3.795043    9.549407  408.237154   18.455534  356.674032   \n",
      "std     28.148861    2.105710    8.707259  168.537116    2.164946   91.294864   \n",
      "min      2.900000    1.129600    1.000000  187.000000   12.600000    0.320000   \n",
      "25%     45.025000    2.100175    4.000000  279.000000   17.400000  375.377500   \n",
      "50%     77.500000    3.207450    5.000000  330.000000   19.050000  391.440000   \n",
      "75%     94.075000    5.188425   24.000000  666.000000   20.200000  396.225000   \n",
      "max    100.000000   12.126500   24.000000  711.000000   22.000000  396.900000   \n",
      "\n",
      "            LSTAT  \n",
      "count  506.000000  \n",
      "mean    12.653063  \n",
      "std      7.141062  \n",
      "min      1.730000  \n",
      "25%      6.950000  \n",
      "50%     11.360000  \n",
      "75%     16.955000  \n",
      "max     37.970000  \n",
      ".. _boston_dataset:\n",
      "\n",
      "Boston house prices dataset\n",
      "---------------------------\n",
      "\n",
      "**Data Set Characteristics:**  \n",
      "\n",
      "    :Number of Instances: 506 \n",
      "\n",
      "    :Number of Attributes: 13 numeric/categorical predictive. Median Value (attribute 14) is usually the target.\n",
      "\n",
      "    :Attribute Information (in order):\n",
      "        - CRIM     per capita crime rate by town\n",
      "        - ZN       proportion of residential land zoned for lots over 25,000 sq.ft.\n",
      "        - INDUS    proportion of non-retail business acres per town\n",
      "        - CHAS     Charles River dummy variable (= 1 if tract bounds river; 0 otherwise)\n",
      "        - NOX      nitric oxides concentration (parts per 10 million)\n",
      "        - RM       average number of rooms per dwelling\n",
      "        - AGE      proportion of owner-occupied units built prior to 1940\n",
      "        - DIS      weighted distances to five Boston employment centres\n",
      "        - RAD      index of accessibility to radial highways\n",
      "        - TAX      full-value property-tax rate per $10,000\n",
      "        - PTRATIO  pupil-teacher ratio by town\n",
      "        - B        1000(Bk - 0.63)^2 where Bk is the proportion of blacks by town\n",
      "        - LSTAT    % lower status of the population\n",
      "        - MEDV     Median value of owner-occupied homes in $1000's\n",
      "\n",
      "    :Missing Attribute Values: None\n",
      "\n",
      "    :Creator: Harrison, D. and Rubinfeld, D.L.\n",
      "\n",
      "This is a copy of UCI ML housing dataset.\n",
      "https://archive.ics.uci.edu/ml/machine-learning-databases/housing/\n",
      "\n",
      "\n",
      "This dataset was taken from the StatLib library which is maintained at Carnegie Mellon University.\n",
      "\n",
      "The Boston house-price data of Harrison, D. and Rubinfeld, D.L. 'Hedonic\n",
      "prices and the demand for clean air', J. Environ. Economics & Management,\n",
      "vol.5, 81-102, 1978.   Used in Belsley, Kuh & Welsch, 'Regression diagnostics\n",
      "...', Wiley, 1980.   N.B. Various transformations are used in the table on\n",
      "pages 244-261 of the latter.\n",
      "\n",
      "The Boston house-price data has been used in many machine learning papers that address regression\n",
      "problems.   \n",
      "     \n",
      ".. topic:: References\n",
      "\n",
      "   - Belsley, Kuh & Welsch, 'Regression diagnostics: Identifying Influential Data and Sources of Collinearity', Wiley, 1980. 244-261.\n",
      "   - Quinlan,R. (1993). Combining Instance-Based and Model-Based Learning. In Proceedings on the Tenth International Conference of Machine Learning, 236-243, University of Massachusetts, Amherst. Morgan Kaufmann.\n",
      "\n"
     ]
    }
   ],
   "source": [
    "%matplotlib inline\n",
    "\n",
    "from sklearn.datasets import load_boston\n",
    "import matplotlib.pyplot as plt\n",
    "import pandas as pd\n",
    "import seaborn as sns\n",
    "import numpy as np\n",
    "import random\n",
    "\n",
    "data = load_boston()\n",
    "df = pd.DataFrame(data['data'], columns=data['feature_names'])\n",
    "y = data['target']\n",
    "print(df.describe())\n",
    "print(data['DESCR'])\n",
    "X = df.TAX # I choose TAX column"
   ]
  },
  {
   "cell_type": "markdown",
   "metadata": {},
   "source": [
    "###### 1. Random Choose Method to get optimal *k* and *b*\n",
    "\n",
    "For example, you can change the loss function: $Loss = \\frac{1}{n} sum({y_i - \\hat{y_i}})^2$ to $Loss = \\frac{1}{n} sum(|{y_i - \\hat{y_i}}|)$\n",
    "\n",
    "And you can change the learning rate and observe the performance."
   ]
  },
  {
   "cell_type": "code",
   "execution_count": 2,
   "metadata": {},
   "outputs": [
    {
     "name": "stdout",
     "output_type": "stream",
     "text": [
      "round: 0, k: 90.22791033110983, b: -33.979727270317085, <function RMSE at 0x1a206ba488>: 39793.606322708976\n",
      "round: 1, k: -78.23099737983603, b: 33.680022518843344, <function RMSE at 0x1a206ba488>: 34534.476461913655\n",
      "round: 2, k: 66.5783416040382, b: 91.39725426536563, <function RMSE at 0x1a206ba488>: 29465.980165567245\n",
      "round: 4, k: -6.95208816402338, b: -21.306046600959917, <function RMSE at 0x1a206ba488>: 3108.9731826639427\n",
      "round: 24, k: 1.5141195864932797, b: 60.38866940785607, <function RMSE at 0x1a206ba488>: 705.3895237440589\n",
      "round: 56, k: 0.714096118313563, b: -51.33926980982337, <function RMSE at 0x1a206ba488>: 250.89116031069332\n",
      "round: 58, k: 0.4475744719482151, b: -34.95960243452609, <function RMSE at 0x1a206ba488>: 148.6378172855983\n",
      "round: 95, k: 0.12988800229763342, b: -25.452465891834237, <function RMSE at 0x1a206ba488>: 27.863543555296836\n"
     ]
    },
    {
     "data": {
      "text/plain": [
       "(0.12988800229763342, -25.452465891834237)"
      ]
     },
     "execution_count": 2,
     "metadata": {},
     "output_type": "execute_result"
    }
   ],
   "source": [
    "def RMSE(y, y_hat):\n",
    "    return np.sqrt(sum((y - y_hat) ** 2) / len(y))\n",
    "\n",
    "def MAE(y, y_hat):\n",
    "    return sum(abs(y - y_hat)) / len(y)\n",
    "\n",
    "def loss_random(X, y, n, loss=RMSE):\n",
    "    loss_min = float('inf')\n",
    "    k_best, b_best = 0, 0\n",
    "    for i in range(n):\n",
    "        k = random.random() * 200 - 100\n",
    "        b = random.random() * 200 - 100\n",
    "        y_hat = k * X + b\n",
    "        loss_new = loss(y, y_hat)\n",
    "        if loss_new < loss_min:\n",
    "            loss_min = loss_new\n",
    "            k_best, b_best = k, b\n",
    "            print(f\"round: {i}, k: {k_best}, b: {b_best}, {loss}: {loss_min}\")\n",
    "        \n",
    "    return (k_best, b_best)\n",
    "loss_random(X, y, 2000, RMSE)"
   ]
  },
  {
   "cell_type": "markdown",
   "metadata": {},
   "source": [
    "###### 2.Supervised Direction to get optimal *k* and *b*"
   ]
  },
  {
   "cell_type": "code",
   "execution_count": 3,
   "metadata": {},
   "outputs": [
    {
     "name": "stdout",
     "output_type": "stream",
     "text": [
      "round: 0, k: 1.6861944004845468, b: -74.10079430498195, <function RMSE at 0x1a206ba488>: 658.2398655992919\n",
      "round: 2, k: 1.5861944004845467, b: -74.20079430498194, <function RMSE at 0x1a206ba488>: 614.085385024229\n",
      "round: 3, k: 1.4861944004845467, b: -74.10079430498195, <function RMSE at 0x1a206ba488>: 570.1249577452724\n",
      "round: 5, k: 1.3861944004845466, b: -74.20079430498194, <function RMSE at 0x1a206ba488>: 526.0039774293865\n",
      "round: 7, k: 1.2861944004845465, b: -74.30079430498193, <function RMSE at 0x1a206ba488>: 481.9070185603818\n",
      "round: 8, k: 1.1861944004845464, b: -74.20079430498194, <function RMSE at 0x1a206ba488>: 438.0182693141807\n",
      "round: 9, k: 1.0861944004845463, b: -74.30079430498193, <function RMSE at 0x1a206ba488>: 393.9933653128135\n",
      "round: 15, k: 0.9861944004845463, b: -74.20079430498194, <function RMSE at 0x1a206ba488>: 350.20039983518376\n",
      "round: 18, k: 0.8861944004845463, b: -74.10079430498195, <function RMSE at 0x1a206ba488>: 306.48602357258034\n",
      "round: 20, k: 0.7861944004845464, b: -74.00079430498195, <function RMSE at 0x1a206ba488>: 262.889443896755\n",
      "round: 21, k: 0.6861944004845464, b: -74.10079430498195, <function RMSE at 0x1a206ba488>: 219.31350315544546\n",
      "round: 23, k: 0.5861944004845464, b: -74.00079430498195, <function RMSE at 0x1a206ba488>: 176.2370793910825\n",
      "round: 29, k: 0.48619440048454643, b: -73.90079430498196, <function RMSE at 0x1a206ba488>: 133.80739181632313\n",
      "round: 32, k: 0.38619440048454645, b: -74.00079430498195, <function RMSE at 0x1a206ba488>: 92.78282385511388\n",
      "round: 34, k: 0.2861944004845465, b: -74.10079430498195, <function RMSE at 0x1a206ba488>: 56.82745937578351\n",
      "round: 35, k: 0.18619440048454647, b: -74.00079430498195, <function RMSE at 0x1a206ba488>: 41.93199808065566\n"
     ]
    },
    {
     "data": {
      "text/plain": [
       "(0.18619440048454647, -74.00079430498195)"
      ]
     },
     "execution_count": 3,
     "metadata": {},
     "output_type": "execute_result"
    }
   ],
   "source": [
    "def loss_spvs_dr(X, y, n, alpha=0.1, loss=RMSE):\n",
    "    loss_min = float('inf')\n",
    "    direction = [(1, 1), (1, -1), (-1, 1), (-1, -1)]\n",
    "    \n",
    "    k = random.random() * 200 - 100\n",
    "    b = random.random() * 200 - 100\n",
    "    \n",
    "    for i in range(n):\n",
    "        dr_k, dr_b = random.choice(direction) # random walk. Can we walk 4 directions and compare which one is the best?\n",
    "        k_new = k + dr_k * alpha\n",
    "        b_new = b + dr_b * alpha\n",
    "        y_hat = k_new * X + b_new\n",
    "        loss_new = loss(y, y_hat)\n",
    "        if loss_new < loss_min:\n",
    "            k, b = k_new, b_new\n",
    "            k_best, b_best = k_new, b_new\n",
    "            loss_min = loss_new\n",
    "            print(f\"round: {i}, k: {k_best}, b: {b_best}, {loss}: {loss_min}\")\n",
    "    return (k_best, b_best)\n",
    "loss_spvs_dr(X, y, 2000)"
   ]
  },
  {
   "cell_type": "markdown",
   "metadata": {},
   "source": [
    "#### Walk through all 4 directions and find the smallest loss"
   ]
  },
  {
   "cell_type": "markdown",
   "metadata": {},
   "source": [
    "import numpy as np\n",
    "\n",
    "def loss_supervise(X, y, n, alpha, loss=RMSE):\n",
    "    loss_min = float('inf')\n",
    "    direction = [(1, 1), (1, -1), (-1, 1), (-1, -1)]\n",
    "    \n",
    "    k = random.random() * 200 - 100\n",
    "    b = random.random() * 200 - 100\n",
    "    \n",
    "    for i in range(n):\n",
    "        loss_complete = []\n",
    "        k_b = []\n",
    "        for j in range(4):\n",
    "            k_b.append((k+direction[j][0]*alpha, b+direction[j][1]*alpha))\n",
    "            loss_complete.append(loss(y, (X*k_b[j][0]+k_b[j][1])))\n",
    "        k_new, b_new = k_b[loss_complete.index(min(loss_complete))]\n",
    "        loss_new = min(loss_complete)\n",
    "        if loss_new < loss_min:\n",
    "            k, b = minimum[0], minimum[1]\n",
    "            k_best, b_best = k_new, b_new\n",
    "            print(f\"round: {i}, k: {k_best}, b: {b_best}, {loss}: {loss_min}\")\n",
    "    return (k_best, b_best)\n",
    "loss_supervise(X, y, 2000, 0.01)"
   ]
  },
  {
   "cell_type": "markdown",
   "metadata": {},
   "source": [
    "###### 3.Gradient Descent to get optimal *k* and *b*"
   ]
  },
  {
   "cell_type": "markdown",
   "metadata": {},
   "source": [
    "#### Equations:\n",
    "\n",
    "$$ RMSE = \\frac{1}{n}\\sum{(y - (kx+b))^2} = \\frac{1}{n}\\sum(y^2 -2y(kx+b) + (kx+b)^2)) = \\frac{1}{n}\\sum{y^2 - 2yxk - 2yb + k^2x^2 + 2kxb + b^2}$$\n",
    "\n",
    "$$ \\frac{\\partial{_{loss}}}{\\partial{_k}} = \\frac{2}{n}(-y + kx + b)x = \\frac{2}{n}(-y + \\hat{y})x$$\n",
    "\n",
    "$$ \\frac{\\partial{_{loss}}}{\\partial{_b}} = \\frac{2}{n}(-y + kx + b) = \\frac{2}{n}(-y + \\hat{y})$$"
   ]
  },
  {
   "cell_type": "code",
   "execution_count": 11,
   "metadata": {},
   "outputs": [
    {
     "name": "stdout",
     "output_type": "stream",
     "text": [
      "round: 0, k: -4.48005814490584, b: 75.56712919380263, <function RMSE at 0x1a206ba488>: 1927.787551395356\n"
     ]
    },
    {
     "name": "stderr",
     "output_type": "stream",
     "text": [
      "/anaconda3/lib/python3.7/site-packages/ipykernel_launcher.py:5: RuntimeWarning: overflow encountered in double_scalars\n",
      "  \"\"\"\n",
      "/anaconda3/lib/python3.7/site-packages/ipykernel_launcher.py:30: RuntimeWarning: invalid value encountered in double_scalars\n"
     ]
    },
    {
     "data": {
      "text/plain": [
       "(nan, nan)"
      ]
     },
     "execution_count": 11,
     "metadata": {},
     "output_type": "execute_result"
    }
   ],
   "source": [
    "def partial_k(x, y, y_hat):\n",
    "    n = len(y)\n",
    "    gradient = 0\n",
    "    for x_i, y_i, y_hat_i in zip(list(x), list(y), list(y_hat)):\n",
    "        gradient += (y_i - y_hat_i) * x_i\n",
    "    return -2 / n * gradient\n",
    "\n",
    "def partial_b(y, y_hat):\n",
    "    n = len(y)\n",
    "    gradient = 0\n",
    "    for y_i, y_hat_i in zip(list(y), list(y_hat)):\n",
    "        gradient += (y_i - y_hat_i)\n",
    "    return -2 / n * gradient\n",
    "\n",
    "def gradient(X, y, n, alpha=0.01, loss=RMSE):\n",
    "    loss_min = float('inf')\n",
    "    \n",
    "    k = random.random() * 200 - 100\n",
    "    b = random.random() * 200 - 100\n",
    "    \n",
    "    for i in range(n):\n",
    "        \n",
    "        y_hat = k * X + b\n",
    "        loss_new = loss(y, y_hat)\n",
    "        if loss_new < loss_min:\n",
    "            loss_min = loss_new\n",
    "            print(f\"round: {i}, k: {k}, b: {b}, {loss}: {loss_min}\")\n",
    "        k_gradient = partial_k(X, y, y_hat)\n",
    "        b_gradient = partial_b(y, y_hat)\n",
    "        k += -k_gradient * alpha\n",
    "        b += -b_gradient * alpha\n",
    "    return (k, b)\n",
    "gradient(X, y, 20000)"
   ]
  },
  {
   "cell_type": "markdown",
   "metadata": {},
   "source": [
    "###### 4. Try different Loss function and learning rate. "
   ]
  },
  {
   "cell_type": "code",
   "execution_count": null,
   "metadata": {},
   "outputs": [],
   "source": []
  }
 ],
 "metadata": {
  "kernelspec": {
   "display_name": "Python 3",
   "language": "python",
   "name": "python3"
  },
  "language_info": {
   "codemirror_mode": {
    "name": "ipython",
    "version": 3
   },
   "file_extension": ".py",
   "mimetype": "text/x-python",
   "name": "python",
   "nbconvert_exporter": "python",
   "pygments_lexer": "ipython3",
   "version": "3.7.2"
  }
 },
 "nbformat": 4,
 "nbformat_minor": 2
}
