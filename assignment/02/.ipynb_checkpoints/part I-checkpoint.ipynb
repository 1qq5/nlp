{
 "cells": [
  {
   "cell_type": "markdown",
   "metadata": {},
   "source": [
    "### 1. Re-code the house price machine learning"
   ]
  },
  {
   "cell_type": "code",
   "execution_count": 1,
   "metadata": {},
   "outputs": [
    {
     "name": "stdout",
     "output_type": "stream",
     "text": [
      "             CRIM          ZN       INDUS        CHAS         NOX          RM  \\\n",
      "count  506.000000  506.000000  506.000000  506.000000  506.000000  506.000000   \n",
      "mean     3.613524   11.363636   11.136779    0.069170    0.554695    6.284634   \n",
      "std      8.601545   23.322453    6.860353    0.253994    0.115878    0.702617   \n",
      "min      0.006320    0.000000    0.460000    0.000000    0.385000    3.561000   \n",
      "25%      0.082045    0.000000    5.190000    0.000000    0.449000    5.885500   \n",
      "50%      0.256510    0.000000    9.690000    0.000000    0.538000    6.208500   \n",
      "75%      3.677083   12.500000   18.100000    0.000000    0.624000    6.623500   \n",
      "max     88.976200  100.000000   27.740000    1.000000    0.871000    8.780000   \n",
      "\n",
      "              AGE         DIS         RAD         TAX     PTRATIO           B  \\\n",
      "count  506.000000  506.000000  506.000000  506.000000  506.000000  506.000000   \n",
      "mean    68.574901    3.795043    9.549407  408.237154   18.455534  356.674032   \n",
      "std     28.148861    2.105710    8.707259  168.537116    2.164946   91.294864   \n",
      "min      2.900000    1.129600    1.000000  187.000000   12.600000    0.320000   \n",
      "25%     45.025000    2.100175    4.000000  279.000000   17.400000  375.377500   \n",
      "50%     77.500000    3.207450    5.000000  330.000000   19.050000  391.440000   \n",
      "75%     94.075000    5.188425   24.000000  666.000000   20.200000  396.225000   \n",
      "max    100.000000   12.126500   24.000000  711.000000   22.000000  396.900000   \n",
      "\n",
      "            LSTAT  \n",
      "count  506.000000  \n",
      "mean    12.653063  \n",
      "std      7.141062  \n",
      "min      1.730000  \n",
      "25%      6.950000  \n",
      "50%     11.360000  \n",
      "75%     16.955000  \n",
      "max     37.970000  \n",
      ".. _boston_dataset:\n",
      "\n",
      "Boston house prices dataset\n",
      "---------------------------\n",
      "\n",
      "**Data Set Characteristics:**  \n",
      "\n",
      "    :Number of Instances: 506 \n",
      "\n",
      "    :Number of Attributes: 13 numeric/categorical predictive. Median Value (attribute 14) is usually the target.\n",
      "\n",
      "    :Attribute Information (in order):\n",
      "        - CRIM     per capita crime rate by town\n",
      "        - ZN       proportion of residential land zoned for lots over 25,000 sq.ft.\n",
      "        - INDUS    proportion of non-retail business acres per town\n",
      "        - CHAS     Charles River dummy variable (= 1 if tract bounds river; 0 otherwise)\n",
      "        - NOX      nitric oxides concentration (parts per 10 million)\n",
      "        - RM       average number of rooms per dwelling\n",
      "        - AGE      proportion of owner-occupied units built prior to 1940\n",
      "        - DIS      weighted distances to five Boston employment centres\n",
      "        - RAD      index of accessibility to radial highways\n",
      "        - TAX      full-value property-tax rate per $10,000\n",
      "        - PTRATIO  pupil-teacher ratio by town\n",
      "        - B        1000(Bk - 0.63)^2 where Bk is the proportion of blacks by town\n",
      "        - LSTAT    % lower status of the population\n",
      "        - MEDV     Median value of owner-occupied homes in $1000's\n",
      "\n",
      "    :Missing Attribute Values: None\n",
      "\n",
      "    :Creator: Harrison, D. and Rubinfeld, D.L.\n",
      "\n",
      "This is a copy of UCI ML housing dataset.\n",
      "https://archive.ics.uci.edu/ml/machine-learning-databases/housing/\n",
      "\n",
      "\n",
      "This dataset was taken from the StatLib library which is maintained at Carnegie Mellon University.\n",
      "\n",
      "The Boston house-price data of Harrison, D. and Rubinfeld, D.L. 'Hedonic\n",
      "prices and the demand for clean air', J. Environ. Economics & Management,\n",
      "vol.5, 81-102, 1978.   Used in Belsley, Kuh & Welsch, 'Regression diagnostics\n",
      "...', Wiley, 1980.   N.B. Various transformations are used in the table on\n",
      "pages 244-261 of the latter.\n",
      "\n",
      "The Boston house-price data has been used in many machine learning papers that address regression\n",
      "problems.   \n",
      "     \n",
      ".. topic:: References\n",
      "\n",
      "   - Belsley, Kuh & Welsch, 'Regression diagnostics: Identifying Influential Data and Sources of Collinearity', Wiley, 1980. 244-261.\n",
      "   - Quinlan,R. (1993). Combining Instance-Based and Model-Based Learning. In Proceedings on the Tenth International Conference of Machine Learning, 236-243, University of Massachusetts, Amherst. Morgan Kaufmann.\n",
      "\n"
     ]
    }
   ],
   "source": [
    "%matplotlib inline\n",
    "\n",
    "from sklearn.datasets import load_boston\n",
    "import matplotlib.pyplot as plt\n",
    "import pandas as pd\n",
    "import random\n",
    "\n",
    "data = load_boston()\n",
    "df = pd.DataFrame(data['data'], columns=data['feature_names'])\n",
    "y = data['target']\n",
    "print(df.describe())\n",
    "print(data['DESCR'])\n",
    "X = df.RM # I choose RM column"
   ]
  },
  {
   "cell_type": "code",
   "execution_count": 17,
   "metadata": {},
   "outputs": [
    {
     "data": {
      "image/png": "[encoded data removed]",
      "text/plain": [
       "<Figure size 432x288 with 1 Axes>"
      ]
     },
     "metadata": {
      "needs_background": "light"
     },
     "output_type": "display_data"
    }
   ],
   "source": [
    "import random\n",
    "\n",
    "def price(rm, k, b):\n",
    "    \"\"\"f(x) = k * x + b\"\"\"\n",
    "    return k * rm + b\n",
    "\n",
    "k = random.randint(-100, 100)\n",
    "b = random.randint(-100, 100)\n",
    "price_by_random_k_and_b = [price(r, k, b) for r in X]\n",
    "\n",
    "plt.scatter(X, y)\n",
    "# draw_rm_and_price()\n",
    "plt.scatter(X, price_by_random_k_and_b)\n",
    "plt.savefig(\"plot.png\")"
   ]
  },
  {
   "cell_type": "markdown",
   "metadata": {},
   "source": [
    "###### 1. Random Choose Method to get optimal *k* and *b*\n",
    "\n",
    "For example, you can change the loss function: $Loss = \\frac{1}{n} sum({y_i - \\hat{y_i}})^2$ to $Loss = \\frac{1}{n} sum(|{y_i - \\hat{y_i}}|)$\n",
    "\n",
    "And you can change the learning rate and observe the performance."
   ]
  },
  {
   "cell_type": "code",
   "execution_count": 3,
   "metadata": {},
   "outputs": [
    {
     "name": "stdout",
     "output_type": "stream",
     "text": [
      "round: 0, k: 4.402874158246391, b: 43.9869794773561, <function RMSE at 0x1a227b3378>: 49.6760472638054\n",
      "round: 9, k: -6.164610809021909, b: 63.35799023513985, <function RMSE at 0x1a227b3378>: 12.758239429343842\n",
      "round: 21, k: 7.399690002005215, b: -33.443699875605844, <function RMSE at 0x1a227b3378>: 11.608200130639993\n",
      "round: 120, k: 15.726685151188917, b: -76.57825590792893, <function RMSE at 0x1a227b3378>: 8.080710915756143\n",
      "round: 1007, k: 7.305008403497709, b: -19.71394884241468, <function RMSE at 0x1a227b3378>: 7.655457643047357\n"
     ]
    },
    {
     "data": {
      "text/plain": [
       "(7.305008403497709, -19.71394884241468)"
      ]
     },
     "execution_count": 3,
     "metadata": {},
     "output_type": "execute_result"
    }
   ],
   "source": [
    "def RMSE(y, y_hat):\n",
    "    return np.sqrt(sum((y - y_hat) ** 2) / len(y))\n",
    "\n",
    "def MAE(y, y_hat):\n",
    "    return sum(abs(y - y_hat)) / len(y)\n",
    "\n",
    "def loss_random(X, y, n, loss=RMSE):\n",
    "    loss_min = float('inf')\n",
    "    k_best, b_best = 0, 0\n",
    "    for i in range(n):\n",
    "        k = random.random() * 200 - 100\n",
    "        b = random.random() * 200 - 100\n",
    "        y_hat = k * X + b\n",
    "        loss_new = loss(y, y_hat)\n",
    "        if loss_new < loss_min:\n",
    "            loss_min = loss_new\n",
    "            k_best, b_best = k, b\n",
    "            print(f\"round: {i}, k: {k_best}, b: {b_best}, {loss}: {loss_min}\")\n",
    "        \n",
    "    return (k_best, b_best)\n",
    "loss_random(X, y, 2000, RMSE)"
   ]
  },
  {
   "cell_type": "markdown",
   "metadata": {},
   "source": [
    "###### 2.Supervised Direction to get optimal *k* and *b*"
   ]
  },
  {
   "cell_type": "code",
   "execution_count": 4,
   "metadata": {},
   "outputs": [
    {
     "name": "stdout",
     "output_type": "stream",
     "text": [
      "round: 0, k: 13.714813589436014, b: -59.465921698424935, <function RMSE at 0x1a227b3378>: 8.46593882601321\n",
      "round: 1, k: 13.614813589436014, b: -59.56592169842494, <function RMSE at 0x1a227b3378>: 8.102038367978507\n",
      "round: 4, k: 13.514813589436015, b: -59.66592169842494, <function RMSE at 0x1a227b3378>: 7.790064383178364\n",
      "round: 6, k: 13.414813589436015, b: -59.56592169842494, <function RMSE at 0x1a227b3378>: 7.592215792772355\n",
      "round: 7, k: 13.314813589436016, b: -59.465921698424935, <function RMSE at 0x1a227b3378>: 7.427434234677676\n",
      "round: 16, k: 13.214813589436016, b: -59.56592169842494, <function RMSE at 0x1a227b3378>: 7.269085330339243\n",
      "round: 17, k: 13.114813589436016, b: -59.465921698424935, <function RMSE at 0x1a227b3378>: 7.191163175359859\n",
      "round: 18, k: 13.014813589436017, b: -59.56592169842494, <function RMSE at 0x1a227b3378>: 7.157975160853071\n"
     ]
    },
    {
     "data": {
      "text/plain": [
       "(13.014813589436017, -59.56592169842494)"
      ]
     },
     "execution_count": 4,
     "metadata": {},
     "output_type": "execute_result"
    }
   ],
   "source": [
    "def loss_spvs_dr(X, y, n, alpha=0.1, loss=RMSE):\n",
    "    loss_min = float('inf')\n",
    "    direction = [(1, 1), (1, -1), (-1, 1), (-1, -1)]\n",
    "    \n",
    "    k = random.random() * 200 - 100\n",
    "    b = random.random() * 200 - 100\n",
    "    \n",
    "    for i in range(n):\n",
    "        dr_k, dr_b = random.choice(direction) # random walk. Can we walk 4 directions and compare which one is the best?\n",
    "        k_new = k + dr_k * alpha\n",
    "        b_new = b + dr_b * alpha\n",
    "        y_hat = k_new * X + b_new\n",
    "        loss_new = loss(y, y_hat)\n",
    "        if loss_new < loss_min:\n",
    "            k, b = k_new, b_new\n",
    "            k_best, b_best = k_new, b_new\n",
    "            loss_min = loss_new\n",
    "            print(f\"round: {i}, k: {k_best}, b: {b_best}, {loss}: {loss_min}\")\n",
    "    return (k_best, b_best)\n",
    "loss_spvs_dr(X, y, 2000)"
   ]
  },
  {
   "cell_type": "markdown",
   "metadata": {},
   "source": [
    "#### Walk through all 4 directions and find the smallest loss"
   ]
  },
  {
   "cell_type": "markdown",
   "metadata": {},
   "source": [
    "###### 3.Gradient Descent to get optimal *k* and *b*"
   ]
  },
  {
   "cell_type": "markdown",
   "metadata": {},
   "source": [
    "#### Equations:\n",
    "\n",
    "$$ RMSE = \\frac{1}{n}\\sum{(y - (kx+b))^2} = \\frac{1}{n}\\sum(y^2 -2y(kx+b) + (kx+b)^2)) = \\frac{1}{n}\\sum{y^2 - 2yxk - 2yb + k^2x^2 + 2kxb + b^2}$$\n",
    "\n",
    "$$ \\frac{\\partial{_{loss}}}{\\partial{_k}} = \\frac{2}{n}(-y + kx + b)x = \\frac{2}{n}(-y + \\hat{y})x$$\n",
    "\n",
    "$$ \\frac{\\partial{_{loss}}}{\\partial{_b}} = \\frac{2}{n}(-y + kx + b) = \\frac{2}{n}(-y + \\hat{y})$$"
   ]
  },
  {
   "cell_type": "code",
   "execution_count": 5,
   "metadata": {},
   "outputs": [
    {
     "name": "stdout",
     "output_type": "stream",
     "text": [
      "round: 0, k: 11.156848907834998, b: 34.487763921710496, RMSE: 82.34950118756377\n",
      "round: 1000, k: 0.7992544802908168, b: 18.144816520920383, RMSE: 8.830002354522238\n",
      "round: 2000, k: 2.5741248302688047, b: 6.854656772828753, RMSE: 8.052691129081738\n",
      "round: 3000, k: 3.9695877416492, b: -2.02204748459325, RMSE: 7.532171608121235\n",
      "round: 4000, k: 5.066747732553548, b: -9.001211662234999, RMSE: 7.1915873010742555\n",
      "round: 5000, k: 5.929371909680884, b: -14.488465850944893, RMSE: 6.972735132505126\n",
      "round: 6000, k: 6.607596122314869, b: -18.802730104531825, RMSE: 6.833944311505154\n",
      "round: 7000, k: 7.140838865562368, b: -22.194750122134536, RMSE: 6.746721061248803\n",
      "round: 8000, k: 7.560092289325878, b: -24.861670626656508, RMSE: 6.692234282732166\n",
      "round: 9000, k: 7.889723466802294, b: -26.95849344625369, RMSE: 6.65832954708607\n",
      "round: 10000, k: 8.14889061250885, b: -28.607086244324975, RMSE: 6.63728425749704\n",
      "round: 11000, k: 8.35265656064489, b: -29.90326548677261, RMSE: 6.624241388379993\n",
      "round: 12000, k: 8.512864219322399, b: -30.92236530967474, RMSE: 6.616165903491338\n",
      "round: 13000, k: 8.638824882199177, b: -31.723615950811418, RMSE: 6.611169000344264\n",
      "round: 14000, k: 8.737859402292216, b: -32.353586220155236, RMSE: 6.608078207593298\n",
      "round: 15000, k: 8.815723681076248, b: -32.848890086239074, RMSE: 6.606166869216315\n",
      "round: 16000, k: 8.876943202358946, b: -33.23831468561441, RMSE: 6.604985073048251\n",
      "round: 17000, k: 8.925076054092884, b: -33.54449343563642, RMSE: 6.604254424075091\n",
      "round: 18000, k: 8.962919724992298, b: -33.785221492147066, RMSE: 6.603802723148703\n",
      "round: 19000, k: 8.992673695005506, b: -33.97449000665756, RMSE: 6.603523482689287\n"
     ]
    },
    {
     "data": {
      "text/plain": [
       "(9.016067269426474, -34.12329929421756)"
      ]
     },
     "execution_count": 5,
     "metadata": {},
     "output_type": "execute_result"
    }
   ],
   "source": [
    "def partial_k(x, y, y_hat):\n",
    "    n = len(y)\n",
    "    gradient = 0\n",
    "    for x_i, y_i, y_hat_i in zip(list(x), list(y), list(y_hat)):\n",
    "        gradient += (y_i - y_hat_i) * x_i\n",
    "    return -2 / n * gradient\n",
    "\n",
    "def partial_b(y, y_hat):\n",
    "    n = len(y)\n",
    "    gradient = 0\n",
    "    for y_i, y_hat_i in zip(list(y), list(y_hat)):\n",
    "        gradient += (y_i - y_hat_i)\n",
    "    return -2 / n * gradient\n",
    "\n",
    "def gradient(X, y, n, alpha=0.01, loss=RMSE):\n",
    "    loss_min = float('inf')\n",
    "    \n",
    "    k = random.random() * 200 - 100\n",
    "    b = random.random() * 200 - 100\n",
    "    \n",
    "    for i in range(n):\n",
    "        y_hat = k * X + b\n",
    "        loss_new = RMSE(y, y_hat)\n",
    "        if loss_new < loss_min:\n",
    "            loss_min = loss_new\n",
    "            if i % 1000 == 0:\n",
    "                print(f\"round: {i}, k: {k}, b: {b}, {loss.__name__}: {loss_min}\")\n",
    "        k_gradient = partial_k(X, y, y_hat)\n",
    "        b_gradient = partial_b(y, y_hat)\n",
    "        k += -k_gradient * alpha\n",
    "        b += -b_gradient * alpha\n",
    "    return (k, b)\n",
    "gradient(X, y, 20000)"
   ]
  },
  {
   "cell_type": "markdown",
   "metadata": {},
   "source": [
    "###### 4. Try different Loss function and learning rate. "
   ]
  },
  {
   "cell_type": "markdown",
   "metadata": {},
   "source": [
    "$$ MAE = \\frac{1}{n}\\sum{|y - \\hat{y}|} = \\frac{1}{n}{\\sum{|y - (kx+b)}|} $$\n",
    "\n",
    "$$ \\frac{\\partial{loss}}{\\partial{k}} = \\frac{1}{n}{\\sum{\\left\\{\n",
    "\\begin{array}{rcl}\n",
    "-x       &      & {y - \\hat{y} > 0}\\\\\n",
    "x     &      & {y - \\hat{y} < 0}\n",
    "\\end{array} \\right.}} $$\n",
    "\n",
    "$$ \\frac{\\partial{loss}}{\\partial{b}} = \\frac{1}{n}{\\sum {\\left\\{\n",
    "\\begin{array}{rcl}\n",
    "-1       &      & {y - \\hat{y} > 0}\\\\\n",
    "1     &      & {y - \\hat{y} < 0}\n",
    "\\end{array} \\right.}} $$"
   ]
  },
  {
   "cell_type": "code",
   "execution_count": 6,
   "metadata": {},
   "outputs": [
    {
     "name": "stdout",
     "output_type": "stream",
     "text": [
      "\n",
      "\n",
      "\n",
      "\n",
      "round: 0, k: 28.308544542429104, b: -0.4267794138153249, MAE: 155.6747402772041\n"
     ]
    },
    {
     "data": {
      "text/plain": [
       "(3.515829285509879, -0.03152249681912336)"
      ]
     },
     "execution_count": 6,
     "metadata": {},
     "output_type": "execute_result"
    }
   ],
   "source": [
    "# gradient(X, y, 20000, alpha=0.1) # overflow\n",
    "print(\"\\n\")\n",
    "# gradient(X, y, 20000, alpha=1) # overflow\n",
    "print(\"\\n\")\n",
    "\n",
    "def partial_k(x, y, y_hat):\n",
    "    n = len(x)\n",
    "    gradient = 0\n",
    "    for xi, y_i, y_hat_i in zip(x, y, y_hat):\n",
    "        if y_i - y_hat_i > 0:\n",
    "            gradient += xi\n",
    "        else:\n",
    "            gradient -= xi\n",
    "    return -1 / n * gradient\n",
    "\n",
    "def partial_b(y, y_hat):\n",
    "    n = len(y)\n",
    "    gradient = 0\n",
    "    for y_i, y_hat_i in zip(y, y_hat):\n",
    "        if y_i - y_hat_i > 0:\n",
    "            gradient += 1\n",
    "        else:\n",
    "            gradient -= 1\n",
    "    return -1 / n\n",
    "# MAE with default alpha\n",
    "gradient(X, y, 20000, loss=MAE) "
   ]
  },
  {
   "cell_type": "code",
   "execution_count": 7,
   "metadata": {},
   "outputs": [
    {
     "name": "stdout",
     "output_type": "stream",
     "text": [
      "round: 0, k: -30.01445269214335, b: -15.64018088986063, MAE: 228.55416939727533\n"
     ]
    },
    {
     "data": {
      "text/plain": [
       "(5.4182405884896205, -11.68761171990684)"
      ]
     },
     "execution_count": 7,
     "metadata": {},
     "output_type": "execute_result"
    }
   ],
   "source": [
    "# MAE with alpha = 0.1\n",
    "gradient(X, y, 20000, loss=MAE, alpha=0.1)"
   ]
  },
  {
   "cell_type": "code",
   "execution_count": 8,
   "metadata": {},
   "outputs": [
    {
     "name": "stdout",
     "output_type": "stream",
     "text": [
      "round: 0, k: 36.23549466060345, b: 96.29156913823226, MAE: 302.1587316166799\n"
     ]
    },
    {
     "data": {
      "text/plain": [
       "(-19.536868975768993, 135.81726083785605)"
      ]
     },
     "execution_count": 8,
     "metadata": {},
     "output_type": "execute_result"
    }
   ],
   "source": [
    "# MAE with alpha = 0.5\n",
    "gradient(X, y, 20000, loss=MAE, alpha=1)"
   ]
  }
 ],
 "metadata": {
  "kernelspec": {
   "display_name": "Python 3",
   "language": "python",
   "name": "python3"
  },
  "language_info": {
   "codemirror_mode": {
    "name": "ipython",
    "version": 3
   },
   "file_extension": ".py",
   "mimetype": "text/x-python",
   "name": "python",
   "nbconvert_exporter": "python",
   "pygments_lexer": "ipython3",
   "version": "3.7.2"
  }
 },
 "nbformat": 4,
 "nbformat_minor": 2
}
