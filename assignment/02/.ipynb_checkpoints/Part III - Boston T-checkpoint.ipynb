{
 "cells": [
  {
   "cell_type": "markdown",
   "metadata": {},
   "source": [
    "# Extra:\n",
    "I parse Boston subway info. Boston subway system is called \"the T\".\n",
    "\n",
    "I finished this first, then I realized Beijing subway is more complex.\n",
    "\n",
    "I'm up to challenges! :P"
   ]
  },
  {
   "cell_type": "markdown",
   "metadata": {},
   "source": [
    "# text example:\n",
    "{\"z_index\":null,\"tooltip_text\":\"Alewife\",\"tooltip\":null,\"size\":null,\"rotation_angle\":0,\"longitude\":-71.142483,\"latitude\":42.395428,\"id\":\"place-alfcl\",\"icon_opts\":null,\"icon\":\"stop-circle-bordered-expanded\"}"
   ]
  },
  {
   "cell_type": "code",
   "execution_count": 1,
   "metadata": {},
   "outputs": [
    {
     "name": "stdout",
     "output_type": "stream",
     "text": [
      "{'Ashmont': (-71.064489, 42.284652), 'Shawmut': (-71.065738, 42.293126), 'Fields Corner': (-71.061667, 42.300093), 'Savin Hill': (-71.053331, 42.31129), 'Braintree': (-71.001138, 42.207854), 'Quincy Adams': (-71.007153, 42.233391), 'Quincy Center': (-71.005409, 42.251809), 'North Quincy': (-71.029583, 42.275275), 'JFK/UMass': (-71.052391, 42.320685), 'Andrew': (-71.057655, 42.330154), 'Broadway': (-71.056967, 42.342622), 'South Station': (-71.055242, 42.352271), 'Downtown Crossing': (-71.060225, 42.355518), 'Park Street': (-71.062424, 42.356395), 'Charles/MGH': (-71.070628, 42.361166), 'Kendall/MIT': (-71.086177, 42.362491), 'Central': (-71.103802, 42.365486), 'Harvard': (-71.118956, 42.373362), 'Porter': (-71.119149, 42.3884), 'Davis': (-71.121815, 42.39674), 'Alewife': (-71.142483, 42.395428), 'Mattapan': (-71.092241, 42.267762), 'Capen Street': (-71.087753, 42.267712), 'Valley Road': (-71.081566, 42.268322), 'Central Avenue': (-71.073334, 42.270027), 'Milton': (-71.067673, 42.270306), 'Butler': (-71.062584, 42.272343), 'Cedar Grove': (-71.060432, 42.279682), 'Forest Hills': (-71.113686, 42.300523), 'Green Street': (-71.107414, 42.310525), 'Stony Brook': (-71.104248, 42.317062), 'Jackson Square': (-71.099592, 42.323132), 'Roxbury Crossing': (-71.095451, 42.331397), 'Ruggles': (-71.088961, 42.336377), 'Massachusetts Avenue': (-71.083423, 42.341512), 'Back Bay': (-71.075727, 42.34735), 'Chinatown': (-71.062752, 42.352547), 'State': (-71.057598, 42.358978), 'Haymarket': (-71.05829, 42.363021), 'North Station': (-71.06129, 42.365577), 'Community College': (-71.069533, 42.373622), 'Sullivan Square': (-71.076994, 42.383975), 'Assembly': (-71.077257, 42.392811), 'Wellington': (-71.077082, 42.40237), 'Malden Center': (-71.07411, 42.426632), 'Oak Grove': (-71.071097, 42.43668), 'Bowdoin': (-71.062037, 42.361365), 'Government Center': (-71.059215, 42.359705), 'Aquarium': (-71.051652, 42.359784), 'Maverick': (-71.03953, 42.369119), 'Airport': (-71.030395, 42.374262), 'Wood Island': (-71.022865, 42.37964), 'Orient Heights': (-71.004736, 42.386867), 'Suffolk Downs': (-70.997123, 42.390501), 'Beachmont': (-70.992319, 42.397542), 'Revere Beach': (-70.992533, 42.407843), 'Wonderland': (-70.991648, 42.41342), 'Boston College': (-71.166769, 42.340081), 'South Street': (-71.157661, 42.3396), 'Chiswick Road': (-71.150711, 42.340805), 'Sutherland Road': (-71.146202, 42.341614), 'Washington Street': (-71.142853, 42.343864), 'Warren Street': (-71.140457, 42.348343), 'Allston Street': (-71.137955, 42.348701), 'Griggs Street': (-71.134949, 42.348545), 'Harvard Avenue': (-71.131355, 42.350243), 'Packards Corner': (-71.125031, 42.351967), 'Babcock Street': (-71.12165, 42.35182), 'Pleasant Street': (-71.118889, 42.351521), 'Blandford Street': (-71.100258, 42.349293), 'Kenmore': (-71.095169, 42.348949), 'Copley': (-71.077447, 42.349974), 'Arlington': (-71.070893, 42.351902), 'Boylston': (-71.06459, 42.35302), 'Cleveland Circle': (-71.149326, 42.336142), 'Englewood Avenue': (-71.14566, 42.336971), 'Dean Road': (-71.141853, 42.337807), 'Tappan Street': (-71.138702, 42.338459), 'Washington Square': (-71.13533, 42.339394), 'Fairbanks Street': (-71.131073, 42.339725), 'Brandon Hall': (-71.129082, 42.340023), 'Summit Avenue': (-71.12561, 42.34111), 'Coolidge Corner': (-71.121263, 42.342116), 'Kent Street': (-71.114197, 42.344074), 'Hawes Street': (-71.111145, 42.344906), 'Riverside': (-71.251742, 42.337059), 'Woodland': (-71.244301, 42.333374), 'Waban': (-71.230728, 42.325943), 'Eliot': (-71.216713, 42.319023), 'Newton Highlands': (-71.206116, 42.321735), 'Newton Centre': (-71.192429, 42.329391), 'Chestnut Hill': (-71.165314, 42.326653), 'Reservoir': (-71.148952, 42.335027), 'Beaconsfield': (-71.140823, 42.335846), 'Brookline Hills': (-71.126999, 42.331333), 'Brookline Village': (-71.116296, 42.332774), 'Longwood': (-71.110451, 42.341145), 'Fenway': (-71.104187, 42.345394), 'Heath Street': (-71.110252, 42.328316), 'Riverway': (-71.111931, 42.331684), 'Mission Park': (-71.109756, 42.333195), 'Fenwood Road': (-71.105728, 42.333706), 'Brigham Circle': (-71.104609, 42.334229), 'Northeastern University': (-71.088806, 42.340401), 'Symphony': (-71.085056, 42.342687), 'Prudential': (-71.081696, 42.34557), 'Science Park': (-71.067666, 42.366664), 'Lechmere': (-71.076536, 42.370772)} \n",
      "\n",
      " {'Red': ['Ashmont', 'Shawmut', 'Fields Corner', 'Savin Hill', 'Braintree', 'Quincy Adams', 'Quincy Center', 'North Quincy', 'JFK/UMass', 'Andrew', 'Broadway', 'South Station', 'Downtown Crossing', 'Park Street', 'Charles/MGH', 'Kendall/MIT', 'Central', 'Harvard', 'Porter', 'Davis', 'Alewife'], 'Mattapan': ['Mattapan', 'Capen Street', 'Valley Road', 'Central Avenue', 'Milton', 'Butler', 'Cedar Grove', 'Ashmont'], 'Orange': ['Forest Hills', 'Green Street', 'Stony Brook', 'Jackson Square', 'Roxbury Crossing', 'Ruggles', 'Massachusetts Avenue', 'Back Bay', 'Chinatown', 'Downtown Crossing', 'State', 'Haymarket', 'North Station', 'Community College', 'Sullivan Square', 'Assembly', 'Wellington', 'Malden Center', 'Oak Grove'], 'Blue': ['Bowdoin', 'Government Center', 'State', 'Aquarium', 'Maverick', 'Airport', 'Wood Island', 'Orient Heights', 'Suffolk Downs', 'Beachmont', 'Revere Beach', 'Wonderland'], 'Green-B': ['Boston College', 'South Street', 'Chiswick Road', 'Sutherland Road', 'Washington Street', 'Warren Street', 'Allston Street', 'Griggs Street', 'Harvard Avenue', 'Packards Corner', 'Babcock Street', 'Pleasant Street', 'Blandford Street', 'Kenmore', 'Copley', 'Arlington', 'Boylston', 'Park Street'], 'Green-C': ['Cleveland Circle', 'Englewood Avenue', 'Dean Road', 'Tappan Street', 'Washington Square', 'Fairbanks Street', 'Brandon Hall', 'Summit Avenue', 'Coolidge Corner', 'Kent Street', 'Hawes Street', 'Kenmore', 'Copley', 'Arlington', 'Boylston', 'Park Street', 'Government Center', 'Haymarket', 'North Station'], 'Green-D': ['Riverside', 'Woodland', 'Waban', 'Eliot', 'Newton Highlands', 'Newton Centre', 'Chestnut Hill', 'Reservoir', 'Beaconsfield', 'Brookline Hills', 'Brookline Village', 'Longwood', 'Fenway', 'Kenmore', 'Copley', 'Arlington', 'Boylston', 'Park Street', 'Government Center'], 'Green-E': ['Heath Street', 'Riverway', 'Mission Park', 'Fenwood Road', 'Brigham Circle', 'Northeastern University', 'Symphony', 'Prudential', 'Copley', 'Arlington', 'Boylston', 'Park Street', 'Government Center', 'Haymarket', 'North Station', 'Science Park', 'Lechmere']} \n",
      "\n",
      " {'Park Street', 'Harvard Avenue', 'Packards Corner', 'Beaconsfield', 'Fenway', 'Downtown Crossing', 'North Quincy', 'Arlington', 'Suffolk Downs', 'Central', 'Symphony', 'Wood Island', 'Haymarket', 'Wellington', 'Newton Highlands', 'Government Center', 'Fields Corner', 'Airport', 'Science Park', 'Quincy Adams', 'Andrew', 'Central Avenue', 'Mission Park', 'Beachmont', 'Brandon Hall', 'Malden Center', 'Valley Road', 'South Station', 'Quincy Center', 'North Station', 'Reservoir', 'Coolidge Corner', 'Heath Street', 'Butler', 'Waban', 'Pleasant Street', 'Porter', 'Brookline Village', 'Broadway', 'Orient Heights', 'Ruggles', 'Revere Beach', 'Hawes Street', 'Sullivan Square', 'Prudential', 'Washington Street', 'Woodland', 'Longwood', 'Savin Hill', 'Forest Hills', 'Kenmore', 'Assembly', 'Boylston', 'Harvard', 'Chinatown', 'Aquarium', 'Mattapan', 'Copley', 'Englewood Avenue', 'Green Street', 'Stony Brook', 'Oak Grove', 'Warren Street', 'Jackson Square', 'Alewife', 'Chiswick Road', 'Dean Road', 'Chestnut Hill', 'Tappan Street', 'Davis', 'Charles/MGH', 'Fenwood Road', 'Eliot', 'Riverside', 'Newton Centre', 'Milton', 'Cleveland Circle', 'Sutherland Road', 'Wonderland', 'Brigham Circle', 'Northeastern University', 'Massachusetts Avenue', 'Braintree', 'Allston Street', 'Back Bay', 'Maverick', 'Babcock Street', 'Boston College', 'South Street', 'Kendall/MIT', 'Ashmont', 'Bowdoin', 'Kent Street', 'State', 'JFK/UMass', 'Summit Avenue', 'Washington Square', 'Griggs Street', 'Blandford Street', 'Capen Street', 'Riverway', 'Lechmere', 'Shawmut', 'Brookline Hills', 'Community College', 'Roxbury Crossing', 'Cedar Grove', 'Fairbanks Street'}\n"
     ]
    }
   ],
   "source": [
    "import re; import requests\n",
    "url = \"https://www.mbta.com/schedules/\"\n",
    "ptn = r'{\"z_index\":null,\"tooltip_text\":\"(\\w+[/ ]?\\w+)\",\"tooltip\":null,\"size\":null,\"rotation_angle\":0,\"longitude\":(-\\d+?.\\d+?),\"latitude\":(\\d+?.\\d+?),\"id\":\"place-.+?\",\"icon_opts\":null,\"icon\":\"stop-circle-bordered-expanded\"}'\n",
    "\n",
    "############################################################################\n",
    "# red = requests.get(url+\"Red/line\")\n",
    "# red_station = {s:(lon,lat) for s, lon, lat in re.findall(ptn, red.text)}\n",
    "\n",
    "# mattapan = requests.get(url+\"Mattapan/line\")\n",
    "# mattapan_station = {s:(lon,lat) for s, lon, lat in re.findall(ptn, mattapan.text)}\n",
    "\n",
    "# orange = requests.get(url+\"Orange/line\")\n",
    "# orange_station = {s:(lon,lat) for s, lon, lat in re.findall(ptn, orange.text)}\n",
    "\n",
    "# blue = requests.get(url+\"Blue/line\")\n",
    "# blue_station = {s:(lon,lat) for s, lon, lat in re.findall(ptn, blue.text)}\n",
    "\n",
    "# b = requests.get(url+\"Green-B/line\")\n",
    "# b_station = {s:(lon,lat) for s, lon, lat in re.findall(ptn, b.text)}\n",
    "\n",
    "# c = requests.get(url+\"Green-C/line\")\n",
    "# c_station = {s:(lon,lat) for s, lon, lat in re.findall(ptn, c.text)}\n",
    "\n",
    "# d = requests.get(url+\"Green-D/line\")\n",
    "# d_station = {s:(lon,lat) for s, lon, lat in re.findall(ptn, d.text)}\n",
    "\n",
    "# e = requests.get(url+\"Green-E/line\")\n",
    "# e_station = {s:(lon,lat) for s, lon, lat in re.findall(ptn, e.text)}\n",
    "# But parse station per line one by one is tedios, why not use a loop to iterate all stations at once?\n",
    "###########################################################################\n",
    "\n",
    "###########################################################################\n",
    "# A much better way, also get the job done: get coordinates, list of stations and list of stations on each line\n",
    "lines = [\"Red/line\", \"Mattapan/line\", \"Orange/line\", \"Blue/line\", \n",
    "         \"Green-B/line\", \"Green-C/line\", \"Green-D/line\", \"Green-E/line\"]\n",
    "station_coord = dict() # list of stations per line with coordinate\n",
    "station_per_line = dict() # list of stations per line w/o coordinate\n",
    "stations = set() # list of stations\n",
    "\n",
    "for line in lines:\n",
    "    station_in_order = []\n",
    "    name = line.split(\"/\")[0]\n",
    "    station = {s:(float(lon), float(lat)) for s, lon, lat in re.findall(ptn, requests.get(url+line).text)}\n",
    "    stations.update(station) # order doesn't matter\n",
    "    station_coord.update(station) # order doesn't matter\n",
    "    # the order of station on each line does matter\n",
    "    station_in_order.append([s for s in re.findall(r'{\"z_index\":null,\"tooltip_text\":\"(\\w+[/ ]?\\w+)\"', requests.get(url+line).text)])\n",
    "    station_per_line[name] = station_in_order[0]\n",
    "print(station_coord,'\\n\\n',station_per_line,'\\n\\n',stations)"
   ]
  },
  {
   "cell_type": "code",
   "execution_count": 2,
   "metadata": {},
   "outputs": [
    {
     "name": "stdout",
     "output_type": "stream",
     "text": [
      "{'Ashmont': {'Shawmut', 'Cedar Grove'}, 'Shawmut': {'Ashmont', 'Fields Corner'}, 'Fields Corner': {'Savin Hill', 'Shawmut'}, 'Savin Hill': {'Fields Corner', 'Braintree'}, 'Braintree': {'Savin Hill', 'Quincy Adams'}, 'Quincy Adams': {'Quincy Center', 'Braintree'}, 'Quincy Center': {'Quincy Adams', 'North Quincy'}, 'North Quincy': {'JFK/UMass', 'Quincy Center'}, 'JFK/UMass': {'Andrew', 'North Quincy'}, 'Andrew': {'JFK/UMass', 'Broadway'}, 'Broadway': {'Andrew', 'South Station'}, 'South Station': {'Broadway', 'Downtown Crossing'}, 'Downtown Crossing': {'State', 'South Station', 'Park Street', 'Chinatown'}, 'Park Street': {'Charles/MGH', 'Government Center', 'Downtown Crossing', 'Boylston'}, 'Charles/MGH': {'Kendall/MIT', 'Park Street'}, 'Kendall/MIT': {'Charles/MGH', 'Central'}, 'Central': {'Kendall/MIT', 'Harvard'}, 'Harvard': {'Central', 'Porter'}, 'Porter': {'Harvard', 'Davis'}, 'Davis': {'Alewife', 'Porter'}, 'Alewife': {'Davis'}, 'Mattapan': {'Capen Street'}, 'Capen Street': {'Mattapan', 'Valley Road'}, 'Valley Road': {'Central Avenue', 'Capen Street'}, 'Central Avenue': {'Milton', 'Valley Road'}, 'Milton': {'Central Avenue', 'Butler'}, 'Butler': {'Milton', 'Cedar Grove'}, 'Cedar Grove': {'Ashmont', 'Butler'}, 'Forest Hills': {'Green Street'}, 'Green Street': {'Forest Hills', 'Stony Brook'}, 'Stony Brook': {'Jackson Square', 'Green Street'}, 'Jackson Square': {'Roxbury Crossing', 'Stony Brook'}, 'Roxbury Crossing': {'Jackson Square', 'Ruggles'}, 'Ruggles': {'Roxbury Crossing', 'Massachusetts Avenue'}, 'Massachusetts Avenue': {'Back Bay', 'Ruggles'}, 'Back Bay': {'Massachusetts Avenue', 'Chinatown'}, 'Chinatown': {'Back Bay', 'Downtown Crossing'}, 'State': {'Aquarium', 'Government Center', 'Haymarket', 'Downtown Crossing'}, 'Haymarket': {'State', 'North Station', 'Government Center'}, 'North Station': {'Science Park', 'Community College', 'Haymarket'}, 'Community College': {'North Station', 'Sullivan Square'}, 'Sullivan Square': {'Community College', 'Assembly'}, 'Assembly': {'Wellington', 'Sullivan Square'}, 'Wellington': {'Assembly', 'Malden Center'}, 'Malden Center': {'Wellington', 'Oak Grove'}, 'Oak Grove': {'Malden Center'}, 'Bowdoin': {'Government Center'}, 'Government Center': {'State', 'Park Street', 'Haymarket', 'Bowdoin'}, 'Aquarium': {'State', 'Maverick'}, 'Maverick': {'Aquarium', 'Airport'}, 'Airport': {'Wood Island', 'Maverick'}, 'Wood Island': {'Orient Heights', 'Airport'}, 'Orient Heights': {'Wood Island', 'Suffolk Downs'}, 'Suffolk Downs': {'Beachmont', 'Orient Heights'}, 'Beachmont': {'Suffolk Downs', 'Revere Beach'}, 'Revere Beach': {'Wonderland', 'Beachmont'}, 'Wonderland': {'Revere Beach'}, 'Boston College': {'South Street'}, 'South Street': {'Chiswick Road', 'Boston College'}, 'Chiswick Road': {'South Street', 'Sutherland Road'}, 'Sutherland Road': {'Chiswick Road', 'Washington Street'}, 'Washington Street': {'Warren Street', 'Sutherland Road'}, 'Warren Street': {'Allston Street', 'Washington Street'}, 'Allston Street': {'Warren Street', 'Griggs Street'}, 'Griggs Street': {'Allston Street', 'Harvard Avenue'}, 'Harvard Avenue': {'Griggs Street', 'Packards Corner'}, 'Packards Corner': {'Babcock Street', 'Harvard Avenue'}, 'Babcock Street': {'Pleasant Street', 'Packards Corner'}, 'Pleasant Street': {'Blandford Street', 'Babcock Street'}, 'Blandford Street': {'Pleasant Street', 'Kenmore'}, 'Kenmore': {'Copley', 'Blandford Street', 'Hawes Street', 'Fenway'}, 'Copley': {'Arlington', 'Prudential', 'Kenmore'}, 'Arlington': {'Boylston', 'Copley'}, 'Boylston': {'Arlington', 'Park Street'}, 'Cleveland Circle': {'Englewood Avenue'}, 'Englewood Avenue': {'Dean Road', 'Cleveland Circle'}, 'Dean Road': {'Tappan Street', 'Englewood Avenue'}, 'Tappan Street': {'Washington Square', 'Dean Road'}, 'Washington Square': {'Tappan Street', 'Fairbanks Street'}, 'Fairbanks Street': {'Washington Square', 'Brandon Hall'}, 'Brandon Hall': {'Fairbanks Street', 'Summit Avenue'}, 'Summit Avenue': {'Coolidge Corner', 'Brandon Hall'}, 'Coolidge Corner': {'Kent Street', 'Summit Avenue'}, 'Kent Street': {'Coolidge Corner', 'Hawes Street'}, 'Hawes Street': {'Kenmore', 'Kent Street'}, 'Riverside': {'Woodland'}, 'Woodland': {'Waban', 'Riverside'}, 'Waban': {'Woodland', 'Eliot'}, 'Eliot': {'Waban', 'Newton Highlands'}, 'Newton Highlands': {'Eliot', 'Newton Centre'}, 'Newton Centre': {'Chestnut Hill', 'Newton Highlands'}, 'Chestnut Hill': {'Reservoir', 'Newton Centre'}, 'Reservoir': {'Beaconsfield', 'Chestnut Hill'}, 'Beaconsfield': {'Brookline Hills', 'Reservoir'}, 'Brookline Hills': {'Beaconsfield', 'Brookline Village'}, 'Brookline Village': {'Brookline Hills', 'Longwood'}, 'Longwood': {'Brookline Village', 'Fenway'}, 'Fenway': {'Kenmore', 'Longwood'}, 'Heath Street': {'Riverway'}, 'Riverway': {'Mission Park', 'Heath Street'}, 'Mission Park': {'Riverway', 'Fenwood Road'}, 'Fenwood Road': {'Mission Park', 'Brigham Circle'}, 'Brigham Circle': {'Northeastern University', 'Fenwood Road'}, 'Northeastern University': {'Symphony', 'Brigham Circle'}, 'Symphony': {'Prudential', 'Northeastern University'}, 'Prudential': {'Symphony', 'Copley'}, 'Science Park': {'North Station', 'Lechmere'}, 'Lechmere': {'Science Park'}}\n"
     ]
    },
    {
     "data": {
      "image/png": "[encoded data removed]",
      "text/plain": [
       "<Figure size 432x288 with 1 Axes>"
      ]
     },
     "metadata": {},
     "output_type": "display_data"
    }
   ],
   "source": [
    "import networkx as nx\n",
    "import matplotlib.pyplot as plt\n",
    "%matplotlib inline\n",
    "\n",
    "connections = dict() # empty dictionary to store connections\n",
    "\n",
    "for key in station_per_line.keys(): # put every station into dictionary as key with empty value\n",
    "    for station in station_per_line[key]:\n",
    "        connections[station] = set() \n",
    "\n",
    "for key in station_per_line.keys(): # generate real station network\n",
    "    for i in range(len(station_per_line[key])):\n",
    "        if i == 0:\n",
    "            connections[station_per_line[key][i]].add(station_per_line[key][i+1])\n",
    "        elif i == len(station_per_line[key])-1:\n",
    "            connections[station_per_line[key][i]].add(station_per_line[key][i-1])\n",
    "        else:\n",
    "            connections[station_per_line[key][i]].add(station_per_line[key][i-1])\n",
    "            connections[station_per_line[key][i]].add(station_per_line[key][i+1])\n",
    "print(connections)\n",
    "\n",
    "station_graph = nx.Graph()                \n",
    "station_graph.add_nodes_from(stations)\n",
    "nx.draw(station_graph, station_coord, with_labels=False, node_size=10) # draw a graph of station location"
   ]
  },
  {
   "cell_type": "code",
   "execution_count": 3,
   "metadata": {},
   "outputs": [
    {
     "name": "stderr",
     "output_type": "stream",
     "text": [
      "/anaconda3/lib/python3.7/site-packages/networkx/drawing/nx_pylab.py:611: MatplotlibDeprecationWarning: isinstance(..., numbers.Number)\n",
      "  if cb.is_numlike(alpha):\n"
     ]
    },
    {
     "data": {
      "image/png": "[encoded data removed]",
      "text/plain": [
       "<Figure size 432x288 with 1 Axes>"
      ]
     },
     "metadata": {},
     "output_type": "display_data"
    }
   ],
   "source": [
    "nx.draw(nx.Graph(connections), station_coord, with_labels=False, node_size=10) # draw the connection map"
   ]
  },
  {
   "cell_type": "code",
   "execution_count": 4,
   "metadata": {},
   "outputs": [],
   "source": [
    "def search(start, end):\n",
    "    pathes = [[start]]\n",
    "    passed = [start]\n",
    "    \n",
    "    while pathes:\n",
    "        path = pathes.pop(0)\n",
    "        frontier = path[-1]\n",
    "        nxt = connections[frontier]\n",
    "        \n",
    "        for city in nxt:\n",
    "            if city in passed: \n",
    "                continue\n",
    "            else:\n",
    "                new_path = path + [city]\n",
    "                pathes.append(new_path)\n",
    "                if city == end: return new_path\n",
    "                passed.append(city) # don't return\n",
    "def pretty_print(lst):\n",
    "    print(\"->\".join(lst))"
   ]
  },
  {
   "cell_type": "code",
   "execution_count": 5,
   "metadata": {},
   "outputs": [
    {
     "name": "stdout",
     "output_type": "stream",
     "text": [
      "Boylston->Park Street->Downtown Crossing->South Station->Broadway->Andrew->JFK/UMass->North Quincy->Quincy Center->Quincy Adams->Braintree->Savin Hill->Fields Corner->Shawmut->Ashmont\n",
      "\n",
      "\n",
      "Malden Center->Wellington->Assembly->Sullivan Square->Community College->North Station->Haymarket->Government Center->Park Street->Boylston->Arlington->Copley->Kenmore->Fenway->Longwood->Brookline Village->Brookline Hills->Beaconsfield->Reservoir->Chestnut Hill->Newton Centre->Newton Highlands->Eliot->Waban->Woodland->Riverside\n"
     ]
    }
   ],
   "source": [
    "pretty_print(search('Boylston', 'Ashmont'))\n",
    "print(\"\\n\")\n",
    "pretty_print(search('Malden Center', 'Riverside'))"
   ]
  },
  {
   "cell_type": "code",
   "execution_count": 6,
   "metadata": {},
   "outputs": [
    {
     "name": "stdout",
     "output_type": "stream",
     "text": [
      "Please type in satrt station: Malden Center\n",
      "Please type in destination: Wonderland\n",
      "\n",
      "Your path is:\n",
      "Malden Center->Wellington->Assembly->Sullivan Square->Community College->North Station->Haymarket->State->Aquarium->Maverick->Airport->Wood Island->Orient Heights->Suffolk Downs->Beachmont->Revere Beach->Wonderland\n"
     ]
    }
   ],
   "source": [
    "# Bonus\n",
    "# My customized program: The user types in start and end stations, the program gives route.\n",
    "start = input(\"Please type in satrt station: \")\n",
    "end = input(\"Please type in destination: \")\n",
    "while True:\n",
    "    if start not in stations:\n",
    "        print(\"start station not in stations!\")\n",
    "        break\n",
    "    if end not in stations:\n",
    "        print(\"destination not in stations!\")\n",
    "        break\n",
    "    print(\"\\nYour path is:\")\n",
    "    pretty_print(search(start, end))\n",
    "    break"
   ]
  }
 ],
 "metadata": {
  "kernelspec": {
   "display_name": "Python 3",
   "language": "python",
   "name": "python3"
  },
  "language_info": {
   "codemirror_mode": {
    "name": "ipython",
    "version": 3
   },
   "file_extension": ".py",
   "mimetype": "text/x-python",
   "name": "python",
   "nbconvert_exporter": "python",
   "pygments_lexer": "ipython3",
   "version": "3.7.2"
  }
 },
 "nbformat": 4,
 "nbformat_minor": 2
}
