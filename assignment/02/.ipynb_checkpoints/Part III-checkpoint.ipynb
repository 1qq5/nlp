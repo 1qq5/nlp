{
 "cells": [
  {
   "cell_type": "markdown",
   "metadata": {},
   "source": [
    "## 3. Finish the search problem\n",
    "\n",
    "Please using the search policy to implement an agent. This agent receives two input, one is @param start station and the other is @param destination. Your agent should give the optimal route based on Beijing Subway system. "
   ]
  },
  {
   "cell_type": "markdown",
   "metadata": {},
   "source": [
    "##### 1.\tGet data from web page.\n",
    "\n",
    "> a.\tGet web page source from: https://baike.baidu.com/item/%E5%8C%97%E4%BA%AC%E5%9C%B0%E9%93%81/408485\n",
    "\n",
    "> b.\tYou may need @package **requests**[https://2.python-requests.org/en/master/] page to get the response via url\n",
    "\n",
    "> c.\tYou may need save the page source to file system.\n",
    "\n",
    "> d.\tThe target of this step is to get station information of all the subway lines;\n",
    "\n",
    "> e.\tYou may need install @package beautiful soup[https://www.crummy.com/software/BeautifulSoup/bs4/doc/]  to get the url information, or just use > Regular Expression to get the url.  Our recommendation is that using the Regular Expression and BeautiflSoup both. \n",
    "\n",
    "> f.\tYou may need BFS to get all the related page url from one url. \n",
    "Question: Why do we use BFS to traverse web page (or someone said, build a web spider)?  Can DFS do this job? which is better? "
   ]
  },
  {
   "cell_type": "markdown",
   "metadata": {},
   "source": [
    "#### I parse Boston subway info instead."
   ]
  },
  {
   "cell_type": "markdown",
   "metadata": {},
   "source": [
    "# text example:\n",
    "{\"z_index\":null,\"tooltip_text\":\"Alewife\",\"tooltip\":null,\"size\":null,\"rotation_angle\":0,\"longitude\":-71.142483,\"latitude\":42.395428,\"id\":\"place-alfcl\",\"icon_opts\":null,\"icon\":\"stop-circle-bordered-expanded\"}"
   ]
  },
  {
   "cell_type": "code",
   "execution_count": 1,
   "metadata": {},
   "outputs": [
    {
     "name": "stdout",
     "output_type": "stream",
     "text": [
      "{'Ashmont': (-71.064489, 42.284652), 'Shawmut': (-71.065738, 42.293126), 'Fields Corner': (-71.061667, 42.300093), 'Savin Hill': (-71.053331, 42.31129), 'Braintree': (-71.001138, 42.207854), 'Quincy Adams': (-71.007153, 42.233391), 'Quincy Center': (-71.005409, 42.251809), 'North Quincy': (-71.029583, 42.275275), 'JFK/UMass': (-71.052391, 42.320685), 'Andrew': (-71.057655, 42.330154), 'Broadway': (-71.056967, 42.342622), 'South Station': (-71.055242, 42.352271), 'Downtown Crossing': (-71.060225, 42.355518), 'Park Street': (-71.062424, 42.356395), 'Charles/MGH': (-71.070628, 42.361166), 'Kendall/MIT': (-71.086177, 42.362491), 'Central': (-71.103802, 42.365486), 'Harvard': (-71.118956, 42.373362), 'Porter': (-71.119149, 42.3884), 'Davis': (-71.121815, 42.39674), 'Alewife': (-71.142483, 42.395428), 'Mattapan': (-71.092241, 42.267762), 'Capen Street': (-71.087753, 42.267712), 'Valley Road': (-71.081566, 42.268322), 'Central Avenue': (-71.073334, 42.270027), 'Milton': (-71.067673, 42.270306), 'Butler': (-71.062584, 42.272343), 'Cedar Grove': (-71.060432, 42.279682), 'Forest Hills': (-71.113686, 42.300523), 'Green Street': (-71.107414, 42.310525), 'Stony Brook': (-71.104248, 42.317062), 'Jackson Square': (-71.099592, 42.323132), 'Roxbury Crossing': (-71.095451, 42.331397), 'Ruggles': (-71.088961, 42.336377), 'Massachusetts Avenue': (-71.083423, 42.341512), 'Back Bay': (-71.075727, 42.34735), 'Chinatown': (-71.062752, 42.352547), 'State': (-71.057598, 42.358978), 'Haymarket': (-71.05829, 42.363021), 'North Station': (-71.06129, 42.365577), 'Community College': (-71.069533, 42.373622), 'Sullivan Square': (-71.076994, 42.383975), 'Assembly': (-71.077257, 42.392811), 'Wellington': (-71.077082, 42.40237), 'Malden Center': (-71.07411, 42.426632), 'Oak Grove': (-71.071097, 42.43668), 'Bowdoin': (-71.062037, 42.361365), 'Government Center': (-71.059215, 42.359705), 'Aquarium': (-71.051652, 42.359784), 'Maverick': (-71.03953, 42.369119), 'Airport': (-71.030395, 42.374262), 'Wood Island': (-71.022865, 42.37964), 'Orient Heights': (-71.004736, 42.386867), 'Suffolk Downs': (-70.997123, 42.390501), 'Beachmont': (-70.992319, 42.397542), 'Revere Beach': (-70.992533, 42.407843), 'Wonderland': (-70.991648, 42.41342), 'Boston College': (-71.166769, 42.340081), 'South Street': (-71.157661, 42.3396), 'Chiswick Road': (-71.150711, 42.340805), 'Sutherland Road': (-71.146202, 42.341614), 'Washington Street': (-71.142853, 42.343864), 'Warren Street': (-71.140457, 42.348343), 'Allston Street': (-71.137955, 42.348701), 'Griggs Street': (-71.134949, 42.348545), 'Harvard Avenue': (-71.131355, 42.350243), 'Packards Corner': (-71.125031, 42.351967), 'Babcock Street': (-71.12165, 42.35182), 'Pleasant Street': (-71.118889, 42.351521), 'Blandford Street': (-71.100258, 42.349293), 'Kenmore': (-71.095169, 42.348949), 'Copley': (-71.077447, 42.349974), 'Arlington': (-71.070893, 42.351902), 'Boylston': (-71.06459, 42.35302), 'Cleveland Circle': (-71.149326, 42.336142), 'Englewood Avenue': (-71.14566, 42.336971), 'Dean Road': (-71.141853, 42.337807), 'Tappan Street': (-71.138702, 42.338459), 'Washington Square': (-71.13533, 42.339394), 'Fairbanks Street': (-71.131073, 42.339725), 'Brandon Hall': (-71.129082, 42.340023), 'Summit Avenue': (-71.12561, 42.34111), 'Coolidge Corner': (-71.121263, 42.342116), 'Kent Street': (-71.114197, 42.344074), 'Hawes Street': (-71.111145, 42.344906), 'Riverside': (-71.251742, 42.337059), 'Woodland': (-71.244301, 42.333374), 'Waban': (-71.230728, 42.325943), 'Eliot': (-71.216713, 42.319023), 'Newton Highlands': (-71.206116, 42.321735), 'Newton Centre': (-71.192429, 42.329391), 'Chestnut Hill': (-71.165314, 42.326653), 'Reservoir': (-71.148952, 42.335027), 'Beaconsfield': (-71.140823, 42.335846), 'Brookline Hills': (-71.126999, 42.331333), 'Brookline Village': (-71.116296, 42.332774), 'Longwood': (-71.110451, 42.341145), 'Fenway': (-71.104187, 42.345394), 'Heath Street': (-71.110252, 42.328316), 'Riverway': (-71.111931, 42.331684), 'Mission Park': (-71.109756, 42.333195), 'Fenwood Road': (-71.105728, 42.333706), 'Brigham Circle': (-71.104609, 42.334229), 'Northeastern University': (-71.088806, 42.340401), 'Symphony': (-71.085056, 42.342687), 'Prudential': (-71.081696, 42.34557), 'Science Park': (-71.067666, 42.366664), 'Lechmere': (-71.076536, 42.370772)} \n",
      "\n",
      " {'Red': ['Ashmont', 'Shawmut', 'Fields Corner', 'Savin Hill', 'Braintree', 'Quincy Adams', 'Quincy Center', 'North Quincy', 'JFK/UMass', 'Andrew', 'Broadway', 'South Station', 'Downtown Crossing', 'Park Street', 'Charles/MGH', 'Kendall/MIT', 'Central', 'Harvard', 'Porter', 'Davis', 'Alewife'], 'Mattapan': ['Mattapan', 'Capen Street', 'Valley Road', 'Central Avenue', 'Milton', 'Butler', 'Cedar Grove', 'Ashmont'], 'Orange': ['Forest Hills', 'Green Street', 'Stony Brook', 'Jackson Square', 'Roxbury Crossing', 'Ruggles', 'Massachusetts Avenue', 'Back Bay', 'Chinatown', 'Downtown Crossing', 'State', 'Haymarket', 'North Station', 'Community College', 'Sullivan Square', 'Assembly', 'Wellington', 'Malden Center', 'Oak Grove'], 'Blue': ['Bowdoin', 'Government Center', 'State', 'Aquarium', 'Maverick', 'Airport', 'Wood Island', 'Orient Heights', 'Suffolk Downs', 'Beachmont', 'Revere Beach', 'Wonderland'], 'Green-B': ['Boston College', 'South Street', 'Chiswick Road', 'Sutherland Road', 'Washington Street', 'Warren Street', 'Allston Street', 'Griggs Street', 'Harvard Avenue', 'Packards Corner', 'Babcock Street', 'Pleasant Street', 'Blandford Street', 'Kenmore', 'Copley', 'Arlington', 'Boylston', 'Park Street'], 'Green-C': ['Cleveland Circle', 'Englewood Avenue', 'Dean Road', 'Tappan Street', 'Washington Square', 'Fairbanks Street', 'Brandon Hall', 'Summit Avenue', 'Coolidge Corner', 'Kent Street', 'Hawes Street', 'Kenmore', 'Copley', 'Arlington', 'Boylston', 'Park Street', 'Government Center', 'Haymarket', 'North Station'], 'Green-D': ['Riverside', 'Woodland', 'Waban', 'Eliot', 'Newton Highlands', 'Newton Centre', 'Chestnut Hill', 'Reservoir', 'Beaconsfield', 'Brookline Hills', 'Brookline Village', 'Longwood', 'Fenway', 'Kenmore', 'Copley', 'Arlington', 'Boylston', 'Park Street', 'Government Center'], 'Green-E': ['Heath Street', 'Riverway', 'Mission Park', 'Fenwood Road', 'Brigham Circle', 'Northeastern University', 'Symphony', 'Prudential', 'Copley', 'Arlington', 'Boylston', 'Park Street', 'Government Center', 'Haymarket', 'North Station', 'Science Park', 'Lechmere']} \n",
      "\n",
      " {'Malden Center', 'Massachusetts Avenue', 'Chiswick Road', 'Andrew', 'Waban', 'Wonderland', 'Pleasant Street', 'Fenway', 'Lechmere', 'Suffolk Downs', 'Arlington', 'Dean Road', 'Davis', 'Allston Street', 'Tappan Street', 'Chinatown', 'Stony Brook', 'Valley Road', 'Oak Grove', 'Harvard', 'Butler', 'Babcock Street', 'Sullivan Square', 'North Quincy', 'Washington Street', 'Alewife', 'Riverway', 'State', 'Heath Street', 'Savin Hill', 'Northeastern University', 'Riverside', 'JFK/UMass', 'Jackson Square', 'Hawes Street', 'Assembly', 'Reservoir', 'Brigham Circle', 'Government Center', 'Roxbury Crossing', 'Sutherland Road', 'Kent Street', 'Summit Avenue', 'Community College', 'Quincy Adams', 'Downtown Crossing', 'Ruggles', 'Kenmore', 'Mission Park', 'Bowdoin', 'Green Street', 'Revere Beach', 'Griggs Street', 'South Station', 'Boston College', 'Englewood Avenue', 'Chestnut Hill', 'Maverick', 'Braintree', 'Harvard Avenue', 'Central Avenue', 'Brookline Village', 'Capen Street', 'Washington Square', 'Boylston', 'Broadway', 'Milton', 'Cleveland Circle', 'Brandon Hall', 'Orient Heights', 'Longwood', 'Cedar Grove', 'South Street', 'Quincy Center', 'Forest Hills', 'Wood Island', 'Woodland', 'Brookline Hills', 'Haymarket', 'Science Park', 'Packards Corner', 'Wellington', 'Fairbanks Street', 'Back Bay', 'Coolidge Corner', 'Porter', 'Park Street', 'Kendall/MIT', 'Ashmont', 'Newton Highlands', 'Shawmut', 'Aquarium', 'Newton Centre', 'Warren Street', 'Central', 'Copley', 'Charles/MGH', 'North Station', 'Fenwood Road', 'Airport', 'Beachmont', 'Blandford Street', 'Fields Corner', 'Symphony', 'Beaconsfield', 'Prudential', 'Eliot', 'Mattapan'}\n"
     ]
    }
   ],
   "source": [
    "import re; import requests\n",
    "url = \"https://www.mbta.com/schedules/\"\n",
    "ptn = r'{\"z_index\":null,\"tooltip_text\":\"(\\w+[/ ]?\\w+)\",\"tooltip\":null,\"size\":null,\"rotation_angle\":0,\"longitude\":(-\\d+?.\\d+?),\"latitude\":(\\d+?.\\d+?),\"id\":\"place-.+?\",\"icon_opts\":null,\"icon\":\"stop-circle-bordered-expanded\"}'\n",
    "\n",
    "############################################################################\n",
    "# red = requests.get(url+\"Red/line\")\n",
    "# red_station = {s:(lon,lat) for s, lon, lat in re.findall(ptn, red.text)}\n",
    "\n",
    "# mattapan = requests.get(url+\"Mattapan/line\")\n",
    "# mattapan_station = {s:(lon,lat) for s, lon, lat in re.findall(ptn, mattapan.text)}\n",
    "\n",
    "# orange = requests.get(url+\"Orange/line\")\n",
    "# orange_station = {s:(lon,lat) for s, lon, lat in re.findall(ptn, orange.text)}\n",
    "\n",
    "# blue = requests.get(url+\"Blue/line\")\n",
    "# blue_station = {s:(lon,lat) for s, lon, lat in re.findall(ptn, blue.text)}\n",
    "\n",
    "# b = requests.get(url+\"Green-B/line\")\n",
    "# b_station = {s:(lon,lat) for s, lon, lat in re.findall(ptn, b.text)}\n",
    "\n",
    "# c = requests.get(url+\"Green-C/line\")\n",
    "# c_station = {s:(lon,lat) for s, lon, lat in re.findall(ptn, c.text)}\n",
    "\n",
    "# d = requests.get(url+\"Green-D/line\")\n",
    "# d_station = {s:(lon,lat) for s, lon, lat in re.findall(ptn, d.text)}\n",
    "\n",
    "# e = requests.get(url+\"Green-E/line\")\n",
    "# e_station = {s:(lon,lat) for s, lon, lat in re.findall(ptn, e.text)}\n",
    "# But parse station per line one by one is tedios, why not use a loop to iterate all stations at once?\n",
    "###########################################################################\n",
    "\n",
    "###########################################################################\n",
    "# A much better way, also get the job done: get coordinates, list of stations and list of stations on each line\n",
    "lines = [\"Red/line\", \"Mattapan/line\", \"Orange/line\", \"Blue/line\", \n",
    "         \"Green-B/line\", \"Green-C/line\", \"Green-D/line\", \"Green-E/line\"]\n",
    "station_coord = dict() # list of stations per line with coordinate\n",
    "station_per_line = dict() # list of stations per line w/o coordinate\n",
    "stations = set() # list of stations\n",
    "\n",
    "for line in lines:\n",
    "    station_in_order = []\n",
    "    name = line.split(\"/\")[0]\n",
    "    station = {s:(float(lon), float(lat)) for s, lon, lat in re.findall(ptn, requests.get(url+line).text)}\n",
    "    stations.update(station) # order doesn't matter\n",
    "    station_coord.update(station) # order doesn't matter\n",
    "    # the order of station on each line does matter\n",
    "    station_in_order.append([s for s in re.findall(r'{\"z_index\":null,\"tooltip_text\":\"(\\w+[/ ]?\\w+)\"', requests.get(url+line).text)])\n",
    "    station_per_line[name] = station_in_order[0]\n",
    "print(station_coord,'\\n\\n',station_per_line,'\\n\\n',stations)"
   ]
  },
  {
   "cell_type": "markdown",
   "metadata": {},
   "source": [
    "##### 2.\tPreprocessing data from page source.\n",
    "\n",
    "> a.\tBased on the page source gotten from url. You may need some more preprocessing of the page. \n",
    "\n",
    "> b.\tthe Regular Expression you may need to process the text information.\n",
    "\n",
    "> c.\tYou may need @package networkx, @package matplotlib to visualize data. \n",
    "\n",
    "> d.\tYou should build a dictionary or graph which could represent the connection information of Beijing subway routes. \n",
    "\n",
    "> e.\tYou may need the defaultdict, set data structures to implement this procedure. "
   ]
  },
  {
   "cell_type": "code",
   "execution_count": 2,
   "metadata": {},
   "outputs": [
    {
     "name": "stdout",
     "output_type": "stream",
     "text": [
      "{'Ashmont': ['Shawmut', 'Cedar Grove'], 'Shawmut': ['Ashmont', 'Fields Corner'], 'Fields Corner': ['Shawmut', 'Savin Hill'], 'Savin Hill': ['Fields Corner', 'Braintree'], 'Braintree': ['Savin Hill', 'Quincy Adams'], 'Quincy Adams': ['Braintree', 'Quincy Center'], 'Quincy Center': ['Quincy Adams', 'North Quincy'], 'North Quincy': ['Quincy Center', 'JFK/UMass'], 'JFK/UMass': ['North Quincy', 'Andrew'], 'Andrew': ['JFK/UMass', 'Broadway'], 'Broadway': ['Andrew', 'South Station'], 'South Station': ['Broadway', 'Downtown Crossing'], 'Downtown Crossing': ['South Station', 'Park Street', 'Chinatown', 'State'], 'Park Street': ['Downtown Crossing', 'Charles/MGH', 'Boylston'], 'Charles/MGH': ['Park Street', 'Kendall/MIT'], 'Kendall/MIT': ['Charles/MGH', 'Central'], 'Central': ['Kendall/MIT', 'Harvard'], 'Harvard': ['Central', 'Porter'], 'Porter': ['Harvard', 'Davis'], 'Davis': ['Porter', 'Alewife'], 'Alewife': ['Davis'], 'Mattapan': ['Capen Street'], 'Capen Street': ['Mattapan', 'Valley Road'], 'Valley Road': ['Capen Street', 'Central Avenue'], 'Central Avenue': ['Valley Road', 'Milton'], 'Milton': ['Central Avenue', 'Butler'], 'Butler': ['Milton', 'Cedar Grove'], 'Cedar Grove': ['Butler', 'Ashmont'], 'Forest Hills': ['Green Street'], 'Green Street': ['Forest Hills', 'Stony Brook'], 'Stony Brook': ['Green Street', 'Jackson Square'], 'Jackson Square': ['Stony Brook', 'Roxbury Crossing'], 'Roxbury Crossing': ['Jackson Square', 'Ruggles'], 'Ruggles': ['Roxbury Crossing', 'Massachusetts Avenue'], 'Massachusetts Avenue': ['Ruggles', 'Back Bay'], 'Back Bay': ['Massachusetts Avenue', 'Chinatown'], 'Chinatown': ['Back Bay', 'Downtown Crossing'], 'State': ['Downtown Crossing', 'Haymarket', 'Government Center', 'Aquarium'], 'Haymarket': ['State', 'North Station', 'Government Center'], 'North Station': ['Haymarket', 'Community College', 'Haymarket'], 'Community College': ['North Station', 'Sullivan Square'], 'Sullivan Square': ['Community College', 'Assembly'], 'Assembly': ['Sullivan Square', 'Wellington'], 'Wellington': ['Assembly', 'Malden Center'], 'Malden Center': ['Wellington', 'Oak Grove'], 'Oak Grove': ['Malden Center'], 'Bowdoin': ['Government Center'], 'Government Center': ['Bowdoin', 'State', 'Park Street', 'Haymarket', 'Park Street'], 'Aquarium': ['State', 'Maverick'], 'Maverick': ['Aquarium', 'Airport'], 'Airport': ['Maverick', 'Wood Island'], 'Wood Island': ['Airport', 'Orient Heights'], 'Orient Heights': ['Wood Island', 'Suffolk Downs'], 'Suffolk Downs': ['Orient Heights', 'Beachmont'], 'Beachmont': ['Suffolk Downs', 'Revere Beach'], 'Revere Beach': ['Beachmont', 'Wonderland'], 'Wonderland': ['Revere Beach'], 'Boston College': ['South Street'], 'South Street': ['Boston College', 'Chiswick Road'], 'Chiswick Road': ['South Street', 'Sutherland Road'], 'Sutherland Road': ['Chiswick Road', 'Washington Street'], 'Washington Street': ['Sutherland Road', 'Warren Street'], 'Warren Street': ['Washington Street', 'Allston Street'], 'Allston Street': ['Warren Street', 'Griggs Street'], 'Griggs Street': ['Allston Street', 'Harvard Avenue'], 'Harvard Avenue': ['Griggs Street', 'Packards Corner'], 'Packards Corner': ['Harvard Avenue', 'Babcock Street'], 'Babcock Street': ['Packards Corner', 'Pleasant Street'], 'Pleasant Street': ['Babcock Street', 'Blandford Street'], 'Blandford Street': ['Pleasant Street', 'Kenmore'], 'Kenmore': ['Blandford Street', 'Copley', 'Hawes Street', 'Fenway'], 'Copley': ['Kenmore', 'Arlington', 'Prudential'], 'Arlington': ['Copley', 'Boylston'], 'Boylston': ['Arlington', 'Park Street'], 'Cleveland Circle': ['Englewood Avenue'], 'Englewood Avenue': ['Cleveland Circle', 'Dean Road'], 'Dean Road': ['Englewood Avenue', 'Tappan Street'], 'Tappan Street': ['Dean Road', 'Washington Square'], 'Washington Square': ['Tappan Street', 'Fairbanks Street'], 'Fairbanks Street': ['Washington Square', 'Brandon Hall'], 'Brandon Hall': ['Fairbanks Street', 'Summit Avenue'], 'Summit Avenue': ['Brandon Hall', 'Coolidge Corner'], 'Coolidge Corner': ['Summit Avenue', 'Kent Street'], 'Kent Street': ['Coolidge Corner', 'Hawes Street'], 'Hawes Street': ['Kent Street', 'Kenmore'], 'Riverside': ['Woodland'], 'Woodland': ['Riverside', 'Waban'], 'Waban': ['Woodland', 'Eliot'], 'Eliot': ['Waban', 'Newton Highlands'], 'Newton Highlands': ['Eliot', 'Newton Centre'], 'Newton Centre': ['Newton Highlands', 'Chestnut Hill'], 'Chestnut Hill': ['Newton Centre', 'Reservoir'], 'Reservoir': ['Chestnut Hill', 'Beaconsfield'], 'Beaconsfield': ['Reservoir', 'Brookline Hills'], 'Brookline Hills': ['Beaconsfield', 'Brookline Village'], 'Brookline Village': ['Brookline Hills', 'Longwood'], 'Longwood': ['Brookline Village', 'Fenway'], 'Fenway': ['Longwood', 'Kenmore'], 'Heath Street': ['Riverway'], 'Riverway': ['Heath Street', 'Mission Park'], 'Mission Park': ['Riverway', 'Fenwood Road'], 'Fenwood Road': ['Mission Park', 'Brigham Circle'], 'Brigham Circle': ['Fenwood Road', 'Northeastern University'], 'Northeastern University': ['Brigham Circle', 'Symphony'], 'Symphony': ['Northeastern University', 'Prudential'], 'Prudential': ['Symphony', 'Copley'], 'Science Park': ['North Station', 'Lechmere'], 'Lechmere': ['Science Park']}\n"
     ]
    },
    {
     "data": {
      "image/png": "[encoded data removed]",
      "text/plain": [
       "<Figure size 432x288 with 1 Axes>"
      ]
     },
     "metadata": {},
     "output_type": "display_data"
    }
   ],
   "source": [
    "import networkx as nx\n",
    "import matplotlib.pyplot as plt\n",
    "%matplotlib inline\n",
    "\n",
    "connections = dict() # empty dictionary to store connections\n",
    "\n",
    "for key in station_per_line.keys(): # put every station into dictionary as key with empty value\n",
    "    for station in station_per_line[key]:\n",
    "        connections[station] = [] \n",
    "\n",
    "for key in station_per_line.keys(): # generate real station network\n",
    "    for i in range(len(station_per_line[key])):\n",
    "        if i == 0:\n",
    "            connections[station_per_line[key][i]].append(station_per_line[key][i+1])\n",
    "        elif i == len(station_per_line[key])-1:\n",
    "            connections[station_per_line[key][i]].append(station_per_line[key][i-1])\n",
    "        else:\n",
    "            if station_per_line[key][i-1] in connections[station_per_line[key][i]]: continue\n",
    "            else:\n",
    "                connections[station_per_line[key][i]].append(station_per_line[key][i-1])\n",
    "            \n",
    "            if station_per_line[key][i+1] in connections[station_per_line[key][i]]: continue\n",
    "            else:\n",
    "                connections[station_per_line[key][i]].append(station_per_line[key][i+1])\n",
    "print(connections)\n",
    "\n",
    "station_graph = nx.Graph()                \n",
    "station_graph.add_nodes_from(stations)\n",
    "nx.draw(station_graph, station_coord, with_labels=False, node_size=10) # draw a graph of station location"
   ]
  },
  {
   "cell_type": "code",
   "execution_count": 3,
   "metadata": {},
   "outputs": [
    {
     "name": "stderr",
     "output_type": "stream",
     "text": [
      "/anaconda3/lib/python3.7/site-packages/networkx/drawing/nx_pylab.py:611: MatplotlibDeprecationWarning: isinstance(..., numbers.Number)\n",
      "  if cb.is_numlike(alpha):\n"
     ]
    },
    {
     "data": {
      "image/png": "[encoded data removed]",
      "text/plain": [
       "<Figure size 432x288 with 1 Axes>"
      ]
     },
     "metadata": {},
     "output_type": "display_data"
    }
   ],
   "source": [
    "nx.draw(nx.Graph(connections), station_coord, with_labels=False, node_size=10) # draw the connection map"
   ]
  },
  {
   "cell_type": "markdown",
   "metadata": {},
   "source": [
    "##### 3. Build the search agent\n",
    "\n",
    "> Build the search agent based on the graph we build.\n",
    "\n",
    "for example, when you run: \n",
    "\n",
    "```python\n",
    ">>> search('奥体中心', '天安门') \n",
    "```\n",
    "you need get the result: \n",
    "\n",
    "奥体中心-> A -> B -> C -> ... -> 天安门"
   ]
  },
  {
   "cell_type": "code",
   "execution_count": 4,
   "metadata": {},
   "outputs": [],
   "source": [
    "def search(start, end):\n",
    "    pathes = [[start]]\n",
    "    passed = [start]\n",
    "    \n",
    "    while pathes:\n",
    "        path = pathes.pop(0)\n",
    "        frontier = path[-1]\n",
    "        nxt = connections[frontier]\n",
    "        \n",
    "        for city in nxt:\n",
    "            if city in passed: \n",
    "                continue\n",
    "            else:\n",
    "                new_path = path + [city]\n",
    "                pathes.append(new_path)\n",
    "                if city == end: return new_path\n",
    "                passed.append(city) # don't return\n",
    "def pretty_print(lst):\n",
    "    print(\"->\".join(lst))"
   ]
  },
  {
   "cell_type": "code",
   "execution_count": 5,
   "metadata": {},
   "outputs": [
    {
     "name": "stdout",
     "output_type": "stream",
     "text": [
      "Boylston->Park Street->Downtown Crossing->South Station->Broadway->Andrew->JFK/UMass->North Quincy->Quincy Center->Quincy Adams->Braintree->Savin Hill->Fields Corner->Shawmut->Ashmont\n",
      "\n",
      "\n",
      "Malden Center->Wellington->Assembly->Sullivan Square->Community College->North Station->Haymarket->Government Center->Park Street->Boylston->Arlington->Copley->Kenmore->Fenway->Longwood->Brookline Village->Brookline Hills->Beaconsfield->Reservoir->Chestnut Hill->Newton Centre->Newton Highlands->Eliot->Waban->Woodland->Riverside\n"
     ]
    }
   ],
   "source": [
    "pretty_print(search('Boylston', 'Ashmont'))\n",
    "print(\"\\n\")\n",
    "pretty_print(search('Malden Center', 'Riverside'))"
   ]
  },
  {
   "cell_type": "code",
   "execution_count": 6,
   "metadata": {},
   "outputs": [
    {
     "name": "stdout",
     "output_type": "stream",
     "text": [
      "Please type in satrt station:Alewife\n",
      "Please type in destination:Heath Street\n",
      "\n",
      "Your path is:\n",
      "Alewife->Davis->Porter->Harvard->Central->Kendall/MIT->Charles/MGH->Park Street->Boylston->Arlington->Copley->Prudential->Symphony->Northeastern University->Brigham Circle->Fenwood Road->Mission Park->Riverway->Heath Street\n"
     ]
    }
   ],
   "source": [
    "# The user types in stations, the program gives route.\n",
    "start = input(\"Please type in satrt station:\")\n",
    "end = input(\"Please type in destination:\")\n",
    "while True:\n",
    "    if start not in stations:\n",
    "        print(\"start place not in stations!\")\n",
    "        break\n",
    "    if end not in stations:\n",
    "        print(\"destination not in stations!\")\n",
    "        break\n",
    "    print(\"\\nYour path is:\")\n",
    "    pretty_print(search(start, end))\n",
    "    break"
   ]
  },
  {
   "cell_type": "markdown",
   "metadata": {},
   "source": [
    "## （Optional）Create different policies for transfer system.\n",
    "\n",
    "##### 4. As much as you can to use the already implemented search agent. You just need to define the **is_goal()**, **get_successor()**, **strategy()** three functions. \n",
    "\n",
    "> a.\tDefine different policies for transfer system. \n",
    "\n",
    "> b.\tSuch as Shortest Path Priority（路程最短优先）, Minimum Transfer Priority(最少换乘优先), Comprehensive Priority(综合优先)\n",
    "\n",
    "> c.\tImplement Continuous transfer. Based on the Agent you implemented, please add this feature: Besides the @param start and @param destination two stations, add some more stations, we called @param by_way, it means, our path should from the start and end, but also include the  @param by_way stations. \n",
    "\n",
    "e.g \n",
    "```\n",
    "1. Input:  start=A,  destination=B, by_way=[C] \n",
    "    Output: [A, … .., C, …. B]\n",
    "2. Input: start=A, destination=B, by_way=[C, D, E]\n",
    "    Output: [A … C … E … D … B]  \n",
    "    # based on your policy, the E station could be reached firstly. \n",
    "![image.png](attachment:image.png)\n",
    "```"
   ]
  },
  {
   "cell_type": "markdown",
   "metadata": {},
   "source": [
    "This question doesn't apply to my solution as Boston subway doen't have circles."
   ]
  },
  {
   "cell_type": "markdown",
   "metadata": {},
   "source": [
    "##### 5.\tTest your result with commercial applications. \n",
    "\n",
    "将你的结果和高德地图或者百度地图进行比较，如果有不同，请分析原因"
   ]
  },
  {
   "cell_type": "markdown",
   "metadata": {},
   "source": [
    "I compared my result with Google Map and Apple Map, they are the same."
   ]
  }
 ],
 "metadata": {
  "kernelspec": {
   "display_name": "Python 3",
   "language": "python",
   "name": "python3"
  },
  "language_info": {
   "codemirror_mode": {
    "name": "ipython",
    "version": 3
   },
   "file_extension": ".py",
   "mimetype": "text/x-python",
   "name": "python",
   "nbconvert_exporter": "python",
   "pygments_lexer": "ipython3",
   "version": "3.7.2"
  }
 },
 "nbformat": 4,
 "nbformat_minor": 2
}
